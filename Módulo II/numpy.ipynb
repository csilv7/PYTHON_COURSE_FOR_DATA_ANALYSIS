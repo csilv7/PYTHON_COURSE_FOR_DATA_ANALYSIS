{
 "cells": [
  {
   "cell_type": "markdown",
   "metadata": {
    "id": "6B2IFHwR2Mf_"
   },
   "source": [
    "# (1) Numpy\n",
    "\n",
    "O NumPy é uma biblioteca fundamental para a computação científica em Python, especialmente quando se trabalha com grandes conjuntos de dados numéricos. Ele oferece uma série de vantagens que o tornam uma ferramenta indispensável para diversos campos, como:\n",
    "\n",
    "1. ***Eficiência em cálculos numéricos:***\n",
    "\n",
    "  - **Arrays:** O NumPy introduz o conceito de arrays, que são estruturas de dados homogêneas (todos os elementos têm o mesmo tipo de dado) e multidimensionais. Eles são muito mais eficientes em termos de memória e velocidade de processamento do que as listas padrão do Python.\n",
    "  - **Vetorização:** O NumPy permite realizar operações matemáticas em arrays inteiros de uma só vez, eliminando a necessidade de loops explícitos. Isso resulta em um código mais conciso e eficiente.\n",
    "\n",
    "2. ***Ampla variedade de funções:***\n",
    "\n",
    "  - **Matemáticas:** O NumPy oferece uma vasta gama de funções matemáticas, como trigonometria, álgebra linear, estatística e geração de números aleatórios.\n",
    "  - **Manipulação de arrays:** Ele fornece ferramentas poderosas para criar, modificar e manipular arrays, como indexação, fatiamento, ordenação e redimensionamento.\n",
    "\n",
    "3. ***Integração com outras bibliotecas de grande importância em Análise de Dados:***\n",
    "\n",
    "  - **SciPy:** O NumPy serve como base para a biblioteca SciPy, que oferece algoritmos mais avançados para otimização, processamento de sinais, estatística e muito mais.\n",
    "  - **Pandas:** O Pandas, utilizado para análise de dados, é construído sobre o NumPy e oferece estruturas de dados mais flexíveis para trabalhar com dados tabulares.\n",
    "  - **Scikit-learn:** Essa biblioteca de machine learning utiliza o NumPy para representar dados e realizar cálculos numéricos.\n",
    "\n",
    "4. ***Comunidade e recursos:***\n",
    "\n",
    "  - **Grande comunidade:** O NumPy possui uma comunidade ativa de desenvolvedores e usuários, o que significa que você encontrará muitos recursos, tutoriais e exemplos online.\n",
    "  - **Documentação completa:** A documentação oficial do NumPy é extensa e bem detalhada, cobrindo todos os aspectos da biblioteca.\n",
    "\n",
    "5. ***Em resumo, o NumPy é fundamental para:***\n",
    "\n",
    "  - **Ciência de dados:** Análise de dados, machine learning, deep learning\n",
    "  - **Engenharia:** Simulação, processamento de sinais, otimização\n",
    "  - **Finanças:** Modelagem financeira, análise de séries temporais\n",
    "  - **Visualização de dados:** Criação de gráficos e visualizações\n",
    "\n",
    "5. ***Quando usar NumPy:***\n",
    "\n",
    "  - **Grandes conjuntos de dados numéricos:** O NumPy é ideal para trabalhar com matrizes e vetores de grandes dimensões.\n",
    "  - **Operações matemáticas complexas:** Ele oferece um conjunto completo de funções para realizar cálculos numéricos de forma eficiente.\n",
    "  - **Desempenho:** Se a velocidade de execução for crucial para sua aplicação, o NumPy é a escolha certa."
   ]
  },
  {
   "cell_type": "markdown",
   "metadata": {
    "id": "upbX_4-92sWx"
   },
   "source": [
    "## (1.1) Primeiros passos - Definição de um `array`"
   ]
  },
  {
   "cell_type": "code",
   "execution_count": 151,
   "metadata": {
    "id": "w7WHjNwB3PjF"
   },
   "outputs": [],
   "source": [
    "# Importe a biblioteca `numpy` apelidando ela de `np`\n",
    "import numpy as np"
   ]
  },
  {
   "cell_type": "markdown",
   "metadata": {
    "id": "G-Sir7BzQmV8"
   },
   "source": [
    "**O que são Arrays?**\n",
    "Imagine uma lista de números, como `[1, 2, 3, 4]`. Essa é a ideia básica de um array unidimensional. Um array é uma estrutura de dados que armazena uma coleção de elementos do mesmo tipo. Esses elementos podem ser números, strings, ou até mesmo outros arrays."
   ]
  },
  {
   "cell_type": "code",
   "execution_count": 152,
   "metadata": {
    "colab": {
     "base_uri": "https://localhost:8080/"
    },
    "executionInfo": {
     "elapsed": 6,
     "status": "ok",
     "timestamp": 1748199273670,
     "user": {
      "displayName": "Breno Silva",
      "userId": "02632345917845336639"
     },
     "user_tz": 180
    },
    "id": "9ixTxINP2CAq",
    "outputId": "fc52423f-abdf-457c-b353-bc987ebbd454"
   },
   "outputs": [
    {
     "data": {
      "text/plain": [
       "array([1, 2, 3, 4, 5, 6])"
      ]
     },
     "execution_count": 152,
     "metadata": {},
     "output_type": "execute_result"
    }
   ],
   "source": [
    "# Criando uma lista\n",
    "my_list = [1, 2, 3, 4, 5, 6]\n",
    "\n",
    "# Convertendo a lista para um array NumPy\n",
    "vector = np.array(my_list)\n",
    "\n",
    "# Visualizando array unidimensional\n",
    "vector"
   ]
  },
  {
   "cell_type": "code",
   "execution_count": 153,
   "metadata": {
    "colab": {
     "base_uri": "https://localhost:8080/"
    },
    "executionInfo": {
     "elapsed": 6,
     "status": "ok",
     "timestamp": 1748199273678,
     "user": {
      "displayName": "Breno Silva",
      "userId": "02632345917845336639"
     },
     "user_tz": 180
    },
    "id": "BOlwZH_M3oeE",
    "outputId": "70485aec-c0f3-4fb4-803b-fde16c4024c8"
   },
   "outputs": [
    {
     "data": {
      "text/plain": [
       "array([[1, 2, 3],\n",
       "       [4, 5, 6]])"
      ]
     },
     "execution_count": 153,
     "metadata": {},
     "output_type": "execute_result"
    }
   ],
   "source": [
    "# Criando duas listas\n",
    "list_one = my_list[:3] # Linha 1 (array unidimensional)\n",
    "list_two = my_list[3:] # Linha 2 (array unidimensional)\n",
    "\n",
    "# Convertendo as listas para arrays NumPy\n",
    "matrix = np.array([list_one, list_two])\n",
    "\n",
    "# Visualizando array multidimensional\n",
    "matrix"
   ]
  },
  {
   "cell_type": "code",
   "execution_count": 154,
   "metadata": {
    "colab": {
     "base_uri": "https://localhost:8080/"
    },
    "executionInfo": {
     "elapsed": 7,
     "status": "ok",
     "timestamp": 1748199273687,
     "user": {
      "displayName": "Breno Silva",
      "userId": "02632345917845336639"
     },
     "user_tz": 180
    },
    "id": "FVW3cayf8eeJ",
    "outputId": "81090330-4414-4341-ef5f-864eb4f615fc"
   },
   "outputs": [
    {
     "name": "stdout",
     "output_type": "stream",
     "text": [
      "<class 'numpy.ndarray'>\n",
      "<class 'numpy.ndarray'>\n"
     ]
    }
   ],
   "source": [
    "# Veja, agora, o tipo de dado que está sendo trabalhado\n",
    "print(type(vector))\n",
    "print(type(matrix))"
   ]
  },
  {
   "cell_type": "markdown",
   "metadata": {
    "id": "L9bee1Ma4co7"
   },
   "source": [
    "### (1.1.1) Formas práticas de criar um array"
   ]
  },
  {
   "cell_type": "markdown",
   "metadata": {
    "id": "aABcW8hP4uqT"
   },
   "source": [
    "1. `np.zeros()`"
   ]
  },
  {
   "cell_type": "code",
   "execution_count": 155,
   "metadata": {
    "colab": {
     "base_uri": "https://localhost:8080/"
    },
    "executionInfo": {
     "elapsed": 7,
     "status": "ok",
     "timestamp": 1748199273696,
     "user": {
      "displayName": "Breno Silva",
      "userId": "02632345917845336639"
     },
     "user_tz": 180
    },
    "id": "Np9nIsI3397U",
    "outputId": "34bca543-773d-43f4-8e3d-dabf68a8fa7b"
   },
   "outputs": [
    {
     "data": {
      "text/plain": [
       "array([0., 0., 0., 0., 0., 0., 0., 0., 0., 0.])"
      ]
     },
     "execution_count": 155,
     "metadata": {},
     "output_type": "execute_result"
    }
   ],
   "source": [
    "# Array unidimensional\n",
    "np.zeros(shape=10)"
   ]
  },
  {
   "cell_type": "code",
   "execution_count": 156,
   "metadata": {
    "colab": {
     "base_uri": "https://localhost:8080/"
    },
    "executionInfo": {
     "elapsed": 8,
     "status": "ok",
     "timestamp": 1748199273705,
     "user": {
      "displayName": "Breno Silva",
      "userId": "02632345917845336639"
     },
     "user_tz": 180
    },
    "id": "hxAg875_46mj",
    "outputId": "d7952198-d7bb-4085-aa44-c12692d6bc25"
   },
   "outputs": [
    {
     "data": {
      "text/plain": [
       "array([0, 0, 0, 0, 0, 0, 0, 0, 0, 0])"
      ]
     },
     "execution_count": 156,
     "metadata": {},
     "output_type": "execute_result"
    }
   ],
   "source": [
    "# Array unidimensional\n",
    "np.zeros(shape=10, dtype=int)"
   ]
  },
  {
   "cell_type": "code",
   "execution_count": 157,
   "metadata": {
    "colab": {
     "base_uri": "https://localhost:8080/"
    },
    "executionInfo": {
     "elapsed": 7,
     "status": "ok",
     "timestamp": 1748199273713,
     "user": {
      "displayName": "Breno Silva",
      "userId": "02632345917845336639"
     },
     "user_tz": 180
    },
    "id": "0SOW1a9V5ELx",
    "outputId": "72cd7cf8-c52c-4cca-8e1a-9c93ad7457ae"
   },
   "outputs": [
    {
     "data": {
      "text/plain": [
       "array([[0., 0., 0.],\n",
       "       [0., 0., 0.],\n",
       "       [0., 0., 0.]])"
      ]
     },
     "execution_count": 157,
     "metadata": {},
     "output_type": "execute_result"
    }
   ],
   "source": [
    "# Array multidimensional\n",
    "np.zeros(shape=(3,3))"
   ]
  },
  {
   "cell_type": "code",
   "execution_count": 158,
   "metadata": {
    "colab": {
     "base_uri": "https://localhost:8080/"
    },
    "executionInfo": {
     "elapsed": 8,
     "status": "ok",
     "timestamp": 1748199273723,
     "user": {
      "displayName": "Breno Silva",
      "userId": "02632345917845336639"
     },
     "user_tz": 180
    },
    "id": "dZScBgS95LOR",
    "outputId": "bfdf5741-783c-43b6-e320-e02336e5d076"
   },
   "outputs": [
    {
     "data": {
      "text/plain": [
       "array([[0, 0, 0],\n",
       "       [0, 0, 0],\n",
       "       [0, 0, 0]])"
      ]
     },
     "execution_count": 158,
     "metadata": {},
     "output_type": "execute_result"
    }
   ],
   "source": [
    "# Array multidimensional\n",
    "np.zeros(shape=(3,3), dtype=int)"
   ]
  },
  {
   "cell_type": "code",
   "execution_count": 159,
   "metadata": {
    "colab": {
     "base_uri": "https://localhost:8080/"
    },
    "executionInfo": {
     "elapsed": 10,
     "status": "ok",
     "timestamp": 1748199273735,
     "user": {
      "displayName": "Breno Silva",
      "userId": "02632345917845336639"
     },
     "user_tz": 180
    },
    "id": "Hj7DkJrm6TrH",
    "outputId": "82328436-a8cc-447b-b41b-1471309d6198"
   },
   "outputs": [
    {
     "data": {
      "text/plain": [
       "array([[0.],\n",
       "       [0.],\n",
       "       [0.],\n",
       "       [0.],\n",
       "       [0.],\n",
       "       [0.],\n",
       "       [0.],\n",
       "       [0.],\n",
       "       [0.],\n",
       "       [0.]])"
      ]
     },
     "execution_count": 159,
     "metadata": {},
     "output_type": "execute_result"
    }
   ],
   "source": [
    "# Array multidimensional\n",
    "np.zeros(shape=(10, 1))"
   ]
  },
  {
   "cell_type": "code",
   "execution_count": 160,
   "metadata": {
    "colab": {
     "base_uri": "https://localhost:8080/"
    },
    "executionInfo": {
     "elapsed": 7,
     "status": "ok",
     "timestamp": 1748199273744,
     "user": {
      "displayName": "Breno Silva",
      "userId": "02632345917845336639"
     },
     "user_tz": 180
    },
    "id": "oT3ei3Y75S_p",
    "outputId": "88f2753b-a969-40aa-e72c-379ebb816221"
   },
   "outputs": [
    {
     "data": {
      "text/plain": [
       "array([[0],\n",
       "       [0],\n",
       "       [0],\n",
       "       [0],\n",
       "       [0],\n",
       "       [0],\n",
       "       [0],\n",
       "       [0],\n",
       "       [0],\n",
       "       [0]])"
      ]
     },
     "execution_count": 160,
     "metadata": {},
     "output_type": "execute_result"
    }
   ],
   "source": [
    "# Array multidimensional\n",
    "np.zeros(shape=(10, 1), dtype=int)"
   ]
  },
  {
   "cell_type": "markdown",
   "metadata": {
    "id": "rgNLRvZG6ZT9"
   },
   "source": [
    "2. `np.ones()`"
   ]
  },
  {
   "cell_type": "code",
   "execution_count": 161,
   "metadata": {
    "colab": {
     "base_uri": "https://localhost:8080/"
    },
    "executionInfo": {
     "elapsed": 9,
     "status": "ok",
     "timestamp": 1748199273755,
     "user": {
      "displayName": "Breno Silva",
      "userId": "02632345917845336639"
     },
     "user_tz": 180
    },
    "id": "NRLsXBic5wNB",
    "outputId": "50424aad-dd2b-47d0-9a12-619afced49b7"
   },
   "outputs": [
    {
     "data": {
      "text/plain": [
       "array([1., 1., 1., 1., 1., 1., 1., 1., 1., 1.])"
      ]
     },
     "execution_count": 161,
     "metadata": {},
     "output_type": "execute_result"
    }
   ],
   "source": [
    "# Array unidimensional\n",
    "np.ones(shape=10)"
   ]
  },
  {
   "cell_type": "code",
   "execution_count": 162,
   "metadata": {
    "colab": {
     "base_uri": "https://localhost:8080/"
    },
    "executionInfo": {
     "elapsed": 26,
     "status": "ok",
     "timestamp": 1748199273784,
     "user": {
      "displayName": "Breno Silva",
      "userId": "02632345917845336639"
     },
     "user_tz": 180
    },
    "id": "_0rhJOD96gyn",
    "outputId": "30581b9e-a7da-40e8-c0a0-39ed2f48ef17"
   },
   "outputs": [
    {
     "data": {
      "text/plain": [
       "array([1, 1, 1, 1, 1, 1, 1, 1, 1, 1])"
      ]
     },
     "execution_count": 162,
     "metadata": {},
     "output_type": "execute_result"
    }
   ],
   "source": [
    "# Array unidimensional\n",
    "np.ones(shape=10, dtype=int)"
   ]
  },
  {
   "cell_type": "code",
   "execution_count": 163,
   "metadata": {
    "colab": {
     "base_uri": "https://localhost:8080/"
    },
    "executionInfo": {
     "elapsed": 20,
     "status": "ok",
     "timestamp": 1748199273806,
     "user": {
      "displayName": "Breno Silva",
      "userId": "02632345917845336639"
     },
     "user_tz": 180
    },
    "id": "PLp_NA_Z6jhG",
    "outputId": "98606cec-2ad3-4e48-e4cb-0b96668d5be0"
   },
   "outputs": [
    {
     "data": {
      "text/plain": [
       "array([[1., 1., 1.],\n",
       "       [1., 1., 1.],\n",
       "       [1., 1., 1.]])"
      ]
     },
     "execution_count": 163,
     "metadata": {},
     "output_type": "execute_result"
    }
   ],
   "source": [
    "# Array multidimensional\n",
    "np.ones(shape=(3,3))"
   ]
  },
  {
   "cell_type": "code",
   "execution_count": 164,
   "metadata": {
    "colab": {
     "base_uri": "https://localhost:8080/"
    },
    "executionInfo": {
     "elapsed": 6,
     "status": "ok",
     "timestamp": 1748199273814,
     "user": {
      "displayName": "Breno Silva",
      "userId": "02632345917845336639"
     },
     "user_tz": 180
    },
    "id": "p8gORSDB6m9m",
    "outputId": "ca3d477e-b787-4c27-9a5d-25fb2e90b4cb"
   },
   "outputs": [
    {
     "data": {
      "text/plain": [
       "array([[1, 1, 1],\n",
       "       [1, 1, 1],\n",
       "       [1, 1, 1]])"
      ]
     },
     "execution_count": 164,
     "metadata": {},
     "output_type": "execute_result"
    }
   ],
   "source": [
    "# Array multidimensional\n",
    "np.ones(shape=(3,3), dtype=int)"
   ]
  },
  {
   "cell_type": "code",
   "execution_count": 165,
   "metadata": {
    "colab": {
     "base_uri": "https://localhost:8080/"
    },
    "executionInfo": {
     "elapsed": 48,
     "status": "ok",
     "timestamp": 1748199273864,
     "user": {
      "displayName": "Breno Silva",
      "userId": "02632345917845336639"
     },
     "user_tz": 180
    },
    "id": "bRq3edsm6qCG",
    "outputId": "42ae8075-af57-44c4-8e61-caa78e830bd7"
   },
   "outputs": [
    {
     "data": {
      "text/plain": [
       "array([[1.],\n",
       "       [1.],\n",
       "       [1.],\n",
       "       [1.],\n",
       "       [1.],\n",
       "       [1.],\n",
       "       [1.],\n",
       "       [1.],\n",
       "       [1.],\n",
       "       [1.]])"
      ]
     },
     "execution_count": 165,
     "metadata": {},
     "output_type": "execute_result"
    }
   ],
   "source": [
    "# Array multidimensional\n",
    "np.ones(shape=(10, 1))"
   ]
  },
  {
   "cell_type": "code",
   "execution_count": 166,
   "metadata": {
    "colab": {
     "base_uri": "https://localhost:8080/"
    },
    "executionInfo": {
     "elapsed": 7,
     "status": "ok",
     "timestamp": 1748199273874,
     "user": {
      "displayName": "Breno Silva",
      "userId": "02632345917845336639"
     },
     "user_tz": 180
    },
    "id": "tihB7tgH6tAG",
    "outputId": "097ca227-c290-47a1-abbf-7130af4c6d80"
   },
   "outputs": [
    {
     "data": {
      "text/plain": [
       "array([[1],\n",
       "       [1],\n",
       "       [1],\n",
       "       [1],\n",
       "       [1],\n",
       "       [1],\n",
       "       [1],\n",
       "       [1],\n",
       "       [1],\n",
       "       [1]])"
      ]
     },
     "execution_count": 166,
     "metadata": {},
     "output_type": "execute_result"
    }
   ],
   "source": [
    "# Array multidimensional\n",
    "np.ones(shape=(10, 1), dtype=int)"
   ]
  },
  {
   "cell_type": "markdown",
   "metadata": {
    "id": "T0dWF5DB7ISA"
   },
   "source": [
    "3. `np.full()`"
   ]
  },
  {
   "cell_type": "code",
   "execution_count": 167,
   "metadata": {
    "colab": {
     "base_uri": "https://localhost:8080/"
    },
    "executionInfo": {
     "elapsed": 6,
     "status": "ok",
     "timestamp": 1748199273881,
     "user": {
      "displayName": "Breno Silva",
      "userId": "02632345917845336639"
     },
     "user_tz": 180
    },
    "id": "XyiAfq8V6vhW",
    "outputId": "688989e6-6319-4095-bd74-ef1d475410e1"
   },
   "outputs": [
    {
     "data": {
      "text/plain": [
       "array([[0.5, 0.5, 0.5],\n",
       "       [0.5, 0.5, 0.5]])"
      ]
     },
     "execution_count": 167,
     "metadata": {},
     "output_type": "execute_result"
    }
   ],
   "source": [
    "# Array multidimensional\n",
    "np.full(shape=(2, 3), fill_value=1/2)"
   ]
  },
  {
   "cell_type": "markdown",
   "metadata": {
    "id": "ki-Is5JE7X_f"
   },
   "source": [
    "4. `np.eye()`"
   ]
  },
  {
   "cell_type": "code",
   "execution_count": 168,
   "metadata": {
    "colab": {
     "base_uri": "https://localhost:8080/"
    },
    "executionInfo": {
     "elapsed": 5,
     "status": "ok",
     "timestamp": 1748199273887,
     "user": {
      "displayName": "Breno Silva",
      "userId": "02632345917845336639"
     },
     "user_tz": 180
    },
    "id": "mBALKnI27XtA",
    "outputId": "6a898292-5d6a-415d-f4df-65fd8451a619"
   },
   "outputs": [
    {
     "data": {
      "text/plain": [
       "array([[1., 0., 0.],\n",
       "       [0., 1., 0.],\n",
       "       [0., 0., 1.]])"
      ]
     },
     "execution_count": 168,
     "metadata": {},
     "output_type": "execute_result"
    }
   ],
   "source": [
    "# Array multidimensional\n",
    "np.eye(N=3)"
   ]
  },
  {
   "cell_type": "code",
   "execution_count": 169,
   "metadata": {
    "colab": {
     "base_uri": "https://localhost:8080/"
    },
    "executionInfo": {
     "elapsed": 7,
     "status": "ok",
     "timestamp": 1748199273895,
     "user": {
      "displayName": "Breno Silva",
      "userId": "02632345917845336639"
     },
     "user_tz": 180
    },
    "id": "0ZRGBd8K7mqG",
    "outputId": "95aaf5c9-e3dd-4f2c-f451-85c660624d48"
   },
   "outputs": [
    {
     "data": {
      "text/plain": [
       "array([[1, 0, 0],\n",
       "       [0, 1, 0],\n",
       "       [0, 0, 1]])"
      ]
     },
     "execution_count": 169,
     "metadata": {},
     "output_type": "execute_result"
    }
   ],
   "source": [
    "# Array multidimensional\n",
    "np.eye(N=3, dtype=int)"
   ]
  },
  {
   "cell_type": "code",
   "execution_count": 170,
   "metadata": {
    "colab": {
     "base_uri": "https://localhost:8080/"
    },
    "executionInfo": {
     "elapsed": 6,
     "status": "ok",
     "timestamp": 1748199273903,
     "user": {
      "displayName": "Breno Silva",
      "userId": "02632345917845336639"
     },
     "user_tz": 180
    },
    "id": "5GHe7MNd7pjm",
    "outputId": "7b8a6f35-733d-4fb5-a58a-35f0a9b4b6a5"
   },
   "outputs": [
    {
     "data": {
      "text/plain": [
       "array([[1, 0, 0, 0],\n",
       "       [0, 1, 0, 0],\n",
       "       [0, 0, 1, 0]])"
      ]
     },
     "execution_count": 170,
     "metadata": {},
     "output_type": "execute_result"
    }
   ],
   "source": [
    "# Array multidimensional\n",
    "np.eye(N=3, M=4, dtype=int)"
   ]
  },
  {
   "cell_type": "markdown",
   "metadata": {
    "id": "kirmn3DZ7R53"
   },
   "source": [
    "5. `np.arange()` e `np.linspace()`"
   ]
  },
  {
   "cell_type": "code",
   "execution_count": 171,
   "metadata": {
    "colab": {
     "base_uri": "https://localhost:8080/"
    },
    "executionInfo": {
     "elapsed": 6,
     "status": "ok",
     "timestamp": 1748199273910,
     "user": {
      "displayName": "Breno Silva",
      "userId": "02632345917845336639"
     },
     "user_tz": 180
    },
    "id": "da_AHkFx651W",
    "outputId": "3ac49aa8-9f7c-4e21-a9ae-346c12518b0f"
   },
   "outputs": [
    {
     "data": {
      "text/plain": [
       "array([0, 2, 4, 6, 8])"
      ]
     },
     "execution_count": 171,
     "metadata": {},
     "output_type": "execute_result"
    }
   ],
   "source": [
    "# Array unidimensional\n",
    "np.arange(start=0, stop=10, step=2)"
   ]
  },
  {
   "cell_type": "code",
   "execution_count": 172,
   "metadata": {
    "colab": {
     "base_uri": "https://localhost:8080/"
    },
    "executionInfo": {
     "elapsed": 7,
     "status": "ok",
     "timestamp": 1748199273918,
     "user": {
      "displayName": "Breno Silva",
      "userId": "02632345917845336639"
     },
     "user_tz": 180
    },
    "id": "JOKf--i98LgV",
    "outputId": "aa58347f-0a52-4161-9283-f44ebdb222cb"
   },
   "outputs": [
    {
     "data": {
      "text/plain": [
       "array([-12, -10,  -8,  -6,  -4,  -2])"
      ]
     },
     "execution_count": 172,
     "metadata": {},
     "output_type": "execute_result"
    }
   ],
   "source": [
    "# Array unidimensional\n",
    "np.arange(start=-12, stop=0, step=2)"
   ]
  },
  {
   "cell_type": "code",
   "execution_count": 173,
   "metadata": {
    "colab": {
     "base_uri": "https://localhost:8080/"
    },
    "executionInfo": {
     "elapsed": 11,
     "status": "ok",
     "timestamp": 1748199273933,
     "user": {
      "displayName": "Breno Silva",
      "userId": "02632345917845336639"
     },
     "user_tz": 180
    },
    "id": "2U4naMhr8nHe",
    "outputId": "36c58fed-2739-4356-d3af-e2301be333d2"
   },
   "outputs": [
    {
     "data": {
      "text/plain": [
       "array([ 0. ,  2.5,  5. ,  7.5, 10. ])"
      ]
     },
     "execution_count": 173,
     "metadata": {},
     "output_type": "execute_result"
    }
   ],
   "source": [
    "# Array unidimensional\n",
    "np.linspace(start=0, stop=10, num=5)"
   ]
  },
  {
   "cell_type": "code",
   "execution_count": 174,
   "metadata": {
    "colab": {
     "base_uri": "https://localhost:8080/"
    },
    "executionInfo": {
     "elapsed": 6,
     "status": "ok",
     "timestamp": 1748199273941,
     "user": {
      "displayName": "Breno Silva",
      "userId": "02632345917845336639"
     },
     "user_tz": 180
    },
    "id": "JrRnURAo86lV",
    "outputId": "9d0d4eb1-230b-4886-938c-3543392ffdd5"
   },
   "outputs": [
    {
     "data": {
      "text/plain": [
       "array([ 0,  2,  5,  7, 10])"
      ]
     },
     "execution_count": 174,
     "metadata": {},
     "output_type": "execute_result"
    }
   ],
   "source": [
    "# Array unidimensional\n",
    "np.linspace(start=0, stop=10, num=5, dtype=int)"
   ]
  },
  {
   "cell_type": "code",
   "execution_count": 175,
   "metadata": {
    "colab": {
     "base_uri": "https://localhost:8080/"
    },
    "executionInfo": {
     "elapsed": 5,
     "status": "ok",
     "timestamp": 1748199273947,
     "user": {
      "displayName": "Breno Silva",
      "userId": "02632345917845336639"
     },
     "user_tz": 180
    },
    "id": "yTh6CMwL9CoE",
    "outputId": "e5b2e797-a548-4fe5-8bb1-7d8dcab399da"
   },
   "outputs": [
    {
     "data": {
      "text/plain": [
       "array([ 1.,  2.,  3.,  4.,  5.,  6.,  7.,  8.,  9., 10.])"
      ]
     },
     "execution_count": 175,
     "metadata": {},
     "output_type": "execute_result"
    }
   ],
   "source": [
    "# Array unidimensional\n",
    "np.linspace(1, 10, 10)"
   ]
  },
  {
   "cell_type": "code",
   "execution_count": 176,
   "metadata": {
    "colab": {
     "base_uri": "https://localhost:8080/"
    },
    "executionInfo": {
     "elapsed": 5,
     "status": "ok",
     "timestamp": 1748199273953,
     "user": {
      "displayName": "Breno Silva",
      "userId": "02632345917845336639"
     },
     "user_tz": 180
    },
    "id": "XXxHLSLD8PHM",
    "outputId": "9fd4db40-8f39-47fb-b23d-a51755d3d6b8"
   },
   "outputs": [
    {
     "data": {
      "text/plain": [
       "array([ 1,  2,  3,  4,  5,  6,  7,  8,  9, 10])"
      ]
     },
     "execution_count": 176,
     "metadata": {},
     "output_type": "execute_result"
    }
   ],
   "source": [
    "# Array unidimensional\n",
    "np.linspace(1, 10, 10, dtype=int)"
   ]
  },
  {
   "cell_type": "code",
   "execution_count": 177,
   "metadata": {
    "colab": {
     "base_uri": "https://localhost:8080/"
    },
    "executionInfo": {
     "elapsed": 10,
     "status": "ok",
     "timestamp": 1748199273964,
     "user": {
      "displayName": "Breno Silva",
      "userId": "02632345917845336639"
     },
     "user_tz": 180
    },
    "id": "RSHzM_bZ8kO9",
    "outputId": "51859cea-4a97-483a-fe6c-c4863de05d79"
   },
   "outputs": [
    {
     "data": {
      "text/plain": [
       "array([-4.        , -3.99199199, -3.98398398, -3.97597598, -3.96796797,\n",
       "       -3.95995996, -3.95195195, -3.94394394, -3.93593594, -3.92792793,\n",
       "       -3.91991992, -3.91191191, -3.9039039 , -3.8958959 , -3.88788789,\n",
       "       -3.87987988, -3.87187187, -3.86386386, -3.85585586, -3.84784785,\n",
       "       -3.83983984, -3.83183183, -3.82382382, -3.81581582, -3.80780781,\n",
       "       -3.7997998 , -3.79179179, -3.78378378, -3.77577578, -3.76776777,\n",
       "       -3.75975976, -3.75175175, -3.74374374, -3.73573574, -3.72772773,\n",
       "       -3.71971972, -3.71171171, -3.7037037 , -3.6956957 , -3.68768769,\n",
       "       -3.67967968, -3.67167167, -3.66366366, -3.65565566, -3.64764765,\n",
       "       -3.63963964, -3.63163163, -3.62362362, -3.61561562, -3.60760761,\n",
       "       -3.5995996 , -3.59159159, -3.58358358, -3.57557558, -3.56756757,\n",
       "       -3.55955956, -3.55155155, -3.54354354, -3.53553554, -3.52752753,\n",
       "       -3.51951952, -3.51151151, -3.5035035 , -3.4954955 , -3.48748749,\n",
       "       -3.47947948, -3.47147147, -3.46346346, -3.45545546, -3.44744745,\n",
       "       -3.43943944, -3.43143143, -3.42342342, -3.41541542, -3.40740741,\n",
       "       -3.3993994 , -3.39139139, -3.38338338, -3.37537538, -3.36736737,\n",
       "       -3.35935936, -3.35135135, -3.34334334, -3.33533534, -3.32732733,\n",
       "       -3.31931932, -3.31131131, -3.3033033 , -3.2952953 , -3.28728729,\n",
       "       -3.27927928, -3.27127127, -3.26326326, -3.25525526, -3.24724725,\n",
       "       -3.23923924, -3.23123123, -3.22322322, -3.21521522, -3.20720721,\n",
       "       -3.1991992 , -3.19119119, -3.18318318, -3.17517518, -3.16716717,\n",
       "       -3.15915916, -3.15115115, -3.14314314, -3.13513514, -3.12712713,\n",
       "       -3.11911912, -3.11111111, -3.1031031 , -3.0950951 , -3.08708709,\n",
       "       -3.07907908, -3.07107107, -3.06306306, -3.05505506, -3.04704705,\n",
       "       -3.03903904, -3.03103103, -3.02302302, -3.01501502, -3.00700701,\n",
       "       -2.998999  , -2.99099099, -2.98298298, -2.97497497, -2.96696697,\n",
       "       -2.95895896, -2.95095095, -2.94294294, -2.93493493, -2.92692693,\n",
       "       -2.91891892, -2.91091091, -2.9029029 , -2.89489489, -2.88688689,\n",
       "       -2.87887888, -2.87087087, -2.86286286, -2.85485485, -2.84684685,\n",
       "       -2.83883884, -2.83083083, -2.82282282, -2.81481481, -2.80680681,\n",
       "       -2.7987988 , -2.79079079, -2.78278278, -2.77477477, -2.76676677,\n",
       "       -2.75875876, -2.75075075, -2.74274274, -2.73473473, -2.72672673,\n",
       "       -2.71871872, -2.71071071, -2.7027027 , -2.69469469, -2.68668669,\n",
       "       -2.67867868, -2.67067067, -2.66266266, -2.65465465, -2.64664665,\n",
       "       -2.63863864, -2.63063063, -2.62262262, -2.61461461, -2.60660661,\n",
       "       -2.5985986 , -2.59059059, -2.58258258, -2.57457457, -2.56656657,\n",
       "       -2.55855856, -2.55055055, -2.54254254, -2.53453453, -2.52652653,\n",
       "       -2.51851852, -2.51051051, -2.5025025 , -2.49449449, -2.48648649,\n",
       "       -2.47847848, -2.47047047, -2.46246246, -2.45445445, -2.44644645,\n",
       "       -2.43843844, -2.43043043, -2.42242242, -2.41441441, -2.40640641,\n",
       "       -2.3983984 , -2.39039039, -2.38238238, -2.37437437, -2.36636637,\n",
       "       -2.35835836, -2.35035035, -2.34234234, -2.33433433, -2.32632633,\n",
       "       -2.31831832, -2.31031031, -2.3023023 , -2.29429429, -2.28628629,\n",
       "       -2.27827828, -2.27027027, -2.26226226, -2.25425425, -2.24624625,\n",
       "       -2.23823824, -2.23023023, -2.22222222, -2.21421421, -2.20620621,\n",
       "       -2.1981982 , -2.19019019, -2.18218218, -2.17417417, -2.16616617,\n",
       "       -2.15815816, -2.15015015, -2.14214214, -2.13413413, -2.12612613,\n",
       "       -2.11811812, -2.11011011, -2.1021021 , -2.09409409, -2.08608609,\n",
       "       -2.07807808, -2.07007007, -2.06206206, -2.05405405, -2.04604605,\n",
       "       -2.03803804, -2.03003003, -2.02202202, -2.01401401, -2.00600601,\n",
       "       -1.997998  , -1.98998999, -1.98198198, -1.97397397, -1.96596597,\n",
       "       -1.95795796, -1.94994995, -1.94194194, -1.93393393, -1.92592593,\n",
       "       -1.91791792, -1.90990991, -1.9019019 , -1.89389389, -1.88588589,\n",
       "       -1.87787788, -1.86986987, -1.86186186, -1.85385385, -1.84584585,\n",
       "       -1.83783784, -1.82982983, -1.82182182, -1.81381381, -1.80580581,\n",
       "       -1.7977978 , -1.78978979, -1.78178178, -1.77377377, -1.76576577,\n",
       "       -1.75775776, -1.74974975, -1.74174174, -1.73373373, -1.72572573,\n",
       "       -1.71771772, -1.70970971, -1.7017017 , -1.69369369, -1.68568569,\n",
       "       -1.67767768, -1.66966967, -1.66166166, -1.65365365, -1.64564565,\n",
       "       -1.63763764, -1.62962963, -1.62162162, -1.61361361, -1.60560561,\n",
       "       -1.5975976 , -1.58958959, -1.58158158, -1.57357357, -1.56556557,\n",
       "       -1.55755756, -1.54954955, -1.54154154, -1.53353353, -1.52552553,\n",
       "       -1.51751752, -1.50950951, -1.5015015 , -1.49349349, -1.48548549,\n",
       "       -1.47747748, -1.46946947, -1.46146146, -1.45345345, -1.44544545,\n",
       "       -1.43743744, -1.42942943, -1.42142142, -1.41341341, -1.40540541,\n",
       "       -1.3973974 , -1.38938939, -1.38138138, -1.37337337, -1.36536537,\n",
       "       -1.35735736, -1.34934935, -1.34134134, -1.33333333, -1.32532533,\n",
       "       -1.31731732, -1.30930931, -1.3013013 , -1.29329329, -1.28528529,\n",
       "       -1.27727728, -1.26926927, -1.26126126, -1.25325325, -1.24524525,\n",
       "       -1.23723724, -1.22922923, -1.22122122, -1.21321321, -1.20520521,\n",
       "       -1.1971972 , -1.18918919, -1.18118118, -1.17317317, -1.16516517,\n",
       "       -1.15715716, -1.14914915, -1.14114114, -1.13313313, -1.12512513,\n",
       "       -1.11711712, -1.10910911, -1.1011011 , -1.09309309, -1.08508509,\n",
       "       -1.07707708, -1.06906907, -1.06106106, -1.05305305, -1.04504505,\n",
       "       -1.03703704, -1.02902903, -1.02102102, -1.01301301, -1.00500501,\n",
       "       -0.996997  , -0.98898899, -0.98098098, -0.97297297, -0.96496496,\n",
       "       -0.95695696, -0.94894895, -0.94094094, -0.93293293, -0.92492492,\n",
       "       -0.91691692, -0.90890891, -0.9009009 , -0.89289289, -0.88488488,\n",
       "       -0.87687688, -0.86886887, -0.86086086, -0.85285285, -0.84484484,\n",
       "       -0.83683684, -0.82882883, -0.82082082, -0.81281281, -0.8048048 ,\n",
       "       -0.7967968 , -0.78878879, -0.78078078, -0.77277277, -0.76476476,\n",
       "       -0.75675676, -0.74874875, -0.74074074, -0.73273273, -0.72472472,\n",
       "       -0.71671672, -0.70870871, -0.7007007 , -0.69269269, -0.68468468,\n",
       "       -0.67667668, -0.66866867, -0.66066066, -0.65265265, -0.64464464,\n",
       "       -0.63663664, -0.62862863, -0.62062062, -0.61261261, -0.6046046 ,\n",
       "       -0.5965966 , -0.58858859, -0.58058058, -0.57257257, -0.56456456,\n",
       "       -0.55655656, -0.54854855, -0.54054054, -0.53253253, -0.52452452,\n",
       "       -0.51651652, -0.50850851, -0.5005005 , -0.49249249, -0.48448448,\n",
       "       -0.47647648, -0.46846847, -0.46046046, -0.45245245, -0.44444444,\n",
       "       -0.43643644, -0.42842843, -0.42042042, -0.41241241, -0.4044044 ,\n",
       "       -0.3963964 , -0.38838839, -0.38038038, -0.37237237, -0.36436436,\n",
       "       -0.35635636, -0.34834835, -0.34034034, -0.33233233, -0.32432432,\n",
       "       -0.31631632, -0.30830831, -0.3003003 , -0.29229229, -0.28428428,\n",
       "       -0.27627628, -0.26826827, -0.26026026, -0.25225225, -0.24424424,\n",
       "       -0.23623624, -0.22822823, -0.22022022, -0.21221221, -0.2042042 ,\n",
       "       -0.1961962 , -0.18818819, -0.18018018, -0.17217217, -0.16416416,\n",
       "       -0.15615616, -0.14814815, -0.14014014, -0.13213213, -0.12412412,\n",
       "       -0.11611612, -0.10810811, -0.1001001 , -0.09209209, -0.08408408,\n",
       "       -0.07607608, -0.06806807, -0.06006006, -0.05205205, -0.04404404,\n",
       "       -0.03603604, -0.02802803, -0.02002002, -0.01201201, -0.004004  ,\n",
       "        0.004004  ,  0.01201201,  0.02002002,  0.02802803,  0.03603604,\n",
       "        0.04404404,  0.05205205,  0.06006006,  0.06806807,  0.07607608,\n",
       "        0.08408408,  0.09209209,  0.1001001 ,  0.10810811,  0.11611612,\n",
       "        0.12412412,  0.13213213,  0.14014014,  0.14814815,  0.15615616,\n",
       "        0.16416416,  0.17217217,  0.18018018,  0.18818819,  0.1961962 ,\n",
       "        0.2042042 ,  0.21221221,  0.22022022,  0.22822823,  0.23623624,\n",
       "        0.24424424,  0.25225225,  0.26026026,  0.26826827,  0.27627628,\n",
       "        0.28428428,  0.29229229,  0.3003003 ,  0.30830831,  0.31631632,\n",
       "        0.32432432,  0.33233233,  0.34034034,  0.34834835,  0.35635636,\n",
       "        0.36436436,  0.37237237,  0.38038038,  0.38838839,  0.3963964 ,\n",
       "        0.4044044 ,  0.41241241,  0.42042042,  0.42842843,  0.43643644,\n",
       "        0.44444444,  0.45245245,  0.46046046,  0.46846847,  0.47647648,\n",
       "        0.48448448,  0.49249249,  0.5005005 ,  0.50850851,  0.51651652,\n",
       "        0.52452452,  0.53253253,  0.54054054,  0.54854855,  0.55655656,\n",
       "        0.56456456,  0.57257257,  0.58058058,  0.58858859,  0.5965966 ,\n",
       "        0.6046046 ,  0.61261261,  0.62062062,  0.62862863,  0.63663664,\n",
       "        0.64464464,  0.65265265,  0.66066066,  0.66866867,  0.67667668,\n",
       "        0.68468468,  0.69269269,  0.7007007 ,  0.70870871,  0.71671672,\n",
       "        0.72472472,  0.73273273,  0.74074074,  0.74874875,  0.75675676,\n",
       "        0.76476476,  0.77277277,  0.78078078,  0.78878879,  0.7967968 ,\n",
       "        0.8048048 ,  0.81281281,  0.82082082,  0.82882883,  0.83683684,\n",
       "        0.84484484,  0.85285285,  0.86086086,  0.86886887,  0.87687688,\n",
       "        0.88488488,  0.89289289,  0.9009009 ,  0.90890891,  0.91691692,\n",
       "        0.92492492,  0.93293293,  0.94094094,  0.94894895,  0.95695696,\n",
       "        0.96496496,  0.97297297,  0.98098098,  0.98898899,  0.996997  ,\n",
       "        1.00500501,  1.01301301,  1.02102102,  1.02902903,  1.03703704,\n",
       "        1.04504505,  1.05305305,  1.06106106,  1.06906907,  1.07707708,\n",
       "        1.08508509,  1.09309309,  1.1011011 ,  1.10910911,  1.11711712,\n",
       "        1.12512513,  1.13313313,  1.14114114,  1.14914915,  1.15715716,\n",
       "        1.16516517,  1.17317317,  1.18118118,  1.18918919,  1.1971972 ,\n",
       "        1.20520521,  1.21321321,  1.22122122,  1.22922923,  1.23723724,\n",
       "        1.24524525,  1.25325325,  1.26126126,  1.26926927,  1.27727728,\n",
       "        1.28528529,  1.29329329,  1.3013013 ,  1.30930931,  1.31731732,\n",
       "        1.32532533,  1.33333333,  1.34134134,  1.34934935,  1.35735736,\n",
       "        1.36536537,  1.37337337,  1.38138138,  1.38938939,  1.3973974 ,\n",
       "        1.40540541,  1.41341341,  1.42142142,  1.42942943,  1.43743744,\n",
       "        1.44544545,  1.45345345,  1.46146146,  1.46946947,  1.47747748,\n",
       "        1.48548549,  1.49349349,  1.5015015 ,  1.50950951,  1.51751752,\n",
       "        1.52552553,  1.53353353,  1.54154154,  1.54954955,  1.55755756,\n",
       "        1.56556557,  1.57357357,  1.58158158,  1.58958959,  1.5975976 ,\n",
       "        1.60560561,  1.61361361,  1.62162162,  1.62962963,  1.63763764,\n",
       "        1.64564565,  1.65365365,  1.66166166,  1.66966967,  1.67767768,\n",
       "        1.68568569,  1.69369369,  1.7017017 ,  1.70970971,  1.71771772,\n",
       "        1.72572573,  1.73373373,  1.74174174,  1.74974975,  1.75775776,\n",
       "        1.76576577,  1.77377377,  1.78178178,  1.78978979,  1.7977978 ,\n",
       "        1.80580581,  1.81381381,  1.82182182,  1.82982983,  1.83783784,\n",
       "        1.84584585,  1.85385385,  1.86186186,  1.86986987,  1.87787788,\n",
       "        1.88588589,  1.89389389,  1.9019019 ,  1.90990991,  1.91791792,\n",
       "        1.92592593,  1.93393393,  1.94194194,  1.94994995,  1.95795796,\n",
       "        1.96596597,  1.97397397,  1.98198198,  1.98998999,  1.997998  ,\n",
       "        2.00600601,  2.01401401,  2.02202202,  2.03003003,  2.03803804,\n",
       "        2.04604605,  2.05405405,  2.06206206,  2.07007007,  2.07807808,\n",
       "        2.08608609,  2.09409409,  2.1021021 ,  2.11011011,  2.11811812,\n",
       "        2.12612613,  2.13413413,  2.14214214,  2.15015015,  2.15815816,\n",
       "        2.16616617,  2.17417417,  2.18218218,  2.19019019,  2.1981982 ,\n",
       "        2.20620621,  2.21421421,  2.22222222,  2.23023023,  2.23823824,\n",
       "        2.24624625,  2.25425425,  2.26226226,  2.27027027,  2.27827828,\n",
       "        2.28628629,  2.29429429,  2.3023023 ,  2.31031031,  2.31831832,\n",
       "        2.32632633,  2.33433433,  2.34234234,  2.35035035,  2.35835836,\n",
       "        2.36636637,  2.37437437,  2.38238238,  2.39039039,  2.3983984 ,\n",
       "        2.40640641,  2.41441441,  2.42242242,  2.43043043,  2.43843844,\n",
       "        2.44644645,  2.45445445,  2.46246246,  2.47047047,  2.47847848,\n",
       "        2.48648649,  2.49449449,  2.5025025 ,  2.51051051,  2.51851852,\n",
       "        2.52652653,  2.53453453,  2.54254254,  2.55055055,  2.55855856,\n",
       "        2.56656657,  2.57457457,  2.58258258,  2.59059059,  2.5985986 ,\n",
       "        2.60660661,  2.61461461,  2.62262262,  2.63063063,  2.63863864,\n",
       "        2.64664665,  2.65465465,  2.66266266,  2.67067067,  2.67867868,\n",
       "        2.68668669,  2.69469469,  2.7027027 ,  2.71071071,  2.71871872,\n",
       "        2.72672673,  2.73473473,  2.74274274,  2.75075075,  2.75875876,\n",
       "        2.76676677,  2.77477477,  2.78278278,  2.79079079,  2.7987988 ,\n",
       "        2.80680681,  2.81481481,  2.82282282,  2.83083083,  2.83883884,\n",
       "        2.84684685,  2.85485485,  2.86286286,  2.87087087,  2.87887888,\n",
       "        2.88688689,  2.89489489,  2.9029029 ,  2.91091091,  2.91891892,\n",
       "        2.92692693,  2.93493493,  2.94294294,  2.95095095,  2.95895896,\n",
       "        2.96696697,  2.97497497,  2.98298298,  2.99099099,  2.998999  ,\n",
       "        3.00700701,  3.01501502,  3.02302302,  3.03103103,  3.03903904,\n",
       "        3.04704705,  3.05505506,  3.06306306,  3.07107107,  3.07907908,\n",
       "        3.08708709,  3.0950951 ,  3.1031031 ,  3.11111111,  3.11911912,\n",
       "        3.12712713,  3.13513514,  3.14314314,  3.15115115,  3.15915916,\n",
       "        3.16716717,  3.17517518,  3.18318318,  3.19119119,  3.1991992 ,\n",
       "        3.20720721,  3.21521522,  3.22322322,  3.23123123,  3.23923924,\n",
       "        3.24724725,  3.25525526,  3.26326326,  3.27127127,  3.27927928,\n",
       "        3.28728729,  3.2952953 ,  3.3033033 ,  3.31131131,  3.31931932,\n",
       "        3.32732733,  3.33533534,  3.34334334,  3.35135135,  3.35935936,\n",
       "        3.36736737,  3.37537538,  3.38338338,  3.39139139,  3.3993994 ,\n",
       "        3.40740741,  3.41541542,  3.42342342,  3.43143143,  3.43943944,\n",
       "        3.44744745,  3.45545546,  3.46346346,  3.47147147,  3.47947948,\n",
       "        3.48748749,  3.4954955 ,  3.5035035 ,  3.51151151,  3.51951952,\n",
       "        3.52752753,  3.53553554,  3.54354354,  3.55155155,  3.55955956,\n",
       "        3.56756757,  3.57557558,  3.58358358,  3.59159159,  3.5995996 ,\n",
       "        3.60760761,  3.61561562,  3.62362362,  3.63163163,  3.63963964,\n",
       "        3.64764765,  3.65565566,  3.66366366,  3.67167167,  3.67967968,\n",
       "        3.68768769,  3.6956957 ,  3.7037037 ,  3.71171171,  3.71971972,\n",
       "        3.72772773,  3.73573574,  3.74374374,  3.75175175,  3.75975976,\n",
       "        3.76776777,  3.77577578,  3.78378378,  3.79179179,  3.7997998 ,\n",
       "        3.80780781,  3.81581582,  3.82382382,  3.83183183,  3.83983984,\n",
       "        3.84784785,  3.85585586,  3.86386386,  3.87187187,  3.87987988,\n",
       "        3.88788789,  3.8958959 ,  3.9039039 ,  3.91191191,  3.91991992,\n",
       "        3.92792793,  3.93593594,  3.94394394,  3.95195195,  3.95995996,\n",
       "        3.96796797,  3.97597598,  3.98398398,  3.99199199,  4.        ])"
      ]
     },
     "execution_count": 177,
     "metadata": {},
     "output_type": "execute_result"
    }
   ],
   "source": [
    "# Array unidimensional\n",
    "np.linspace(start=-4, stop=4, num=1000)"
   ]
  },
  {
   "cell_type": "markdown",
   "metadata": {
    "id": "BS9_iVL-9l0K"
   },
   "source": [
    "### (1.1.2) Atributos de `array`"
   ]
  },
  {
   "cell_type": "code",
   "execution_count": 178,
   "metadata": {
    "colab": {
     "base_uri": "https://localhost:8080/"
    },
    "executionInfo": {
     "elapsed": 5,
     "status": "ok",
     "timestamp": 1748199273971,
     "user": {
      "displayName": "Breno Silva",
      "userId": "02632345917845336639"
     },
     "user_tz": 180
    },
    "id": "1i602KTu9kvB",
    "outputId": "a7b4c7c3-bf5c-4b7b-8015-3ecbf2e38e6d"
   },
   "outputs": [
    {
     "name": "stdout",
     "output_type": "stream",
     "text": [
      "Shape: (6,)\n",
      "Dtype: int32\n",
      "Ndim: 1\n",
      "Size: 6\n",
      "\n",
      "[1 2 3 4 5 6]\n"
     ]
    }
   ],
   "source": [
    "# Acessando os atributos\n",
    "print(\"Shape:\", vector.shape)\n",
    "print(\"Dtype:\", vector.dtype)\n",
    "print(\"Ndim:\", vector.ndim)\n",
    "print(\"Size:\", vector.size)\n",
    "print()\n",
    "print(vector)"
   ]
  },
  {
   "cell_type": "code",
   "execution_count": 179,
   "metadata": {
    "colab": {
     "base_uri": "https://localhost:8080/"
    },
    "executionInfo": {
     "elapsed": 5,
     "status": "ok",
     "timestamp": 1748199273977,
     "user": {
      "displayName": "Breno Silva",
      "userId": "02632345917845336639"
     },
     "user_tz": 180
    },
    "id": "qIpEM4HK9sty",
    "outputId": "1d3a6461-f52b-41d7-c0af-ca6a2c447727"
   },
   "outputs": [
    {
     "name": "stdout",
     "output_type": "stream",
     "text": [
      "Shape: (2, 3)\n",
      "Dtype: int32\n",
      "Ndim: 2\n",
      "Size: 6\n",
      "\n",
      "[[1 2 3]\n",
      " [4 5 6]]\n"
     ]
    }
   ],
   "source": [
    "# Acessando os atributos\n",
    "print(\"Shape:\", matrix.shape)\n",
    "print(\"Dtype:\", matrix.dtype)\n",
    "print(\"Ndim:\", matrix.ndim)\n",
    "print(\"Size:\", matrix.size)\n",
    "print()\n",
    "print(matrix)"
   ]
  },
  {
   "cell_type": "markdown",
   "metadata": {
    "id": "wdPfAvrm-C_n"
   },
   "source": [
    "## (1.2) Indexação, Fatiamento e Manipulação de `array`"
   ]
  },
  {
   "cell_type": "code",
   "execution_count": 180,
   "metadata": {
    "colab": {
     "base_uri": "https://localhost:8080/"
    },
    "executionInfo": {
     "elapsed": 26,
     "status": "ok",
     "timestamp": 1748199274010,
     "user": {
      "displayName": "Breno Silva",
      "userId": "02632345917845336639"
     },
     "user_tz": 180
    },
    "id": "yT_5dcoA9uIV",
    "outputId": "117350c8-5943-413b-a88b-529eca166e21"
   },
   "outputs": [
    {
     "data": {
      "text/plain": [
       "array([2, 1, 5, 3, 7, 4, 6, 8])"
      ]
     },
     "execution_count": 180,
     "metadata": {},
     "output_type": "execute_result"
    }
   ],
   "source": [
    "# Definição de um array\n",
    "arr1 = np.array([2, 1, 5, 3, 7, 4, 6, 8])\n",
    "\n",
    "# Visualização\n",
    "arr1"
   ]
  },
  {
   "cell_type": "code",
   "execution_count": 181,
   "metadata": {
    "colab": {
     "base_uri": "https://localhost:8080/"
    },
    "executionInfo": {
     "elapsed": 6,
     "status": "ok",
     "timestamp": 1748199274018,
     "user": {
      "displayName": "Breno Silva",
      "userId": "02632345917845336639"
     },
     "user_tz": 180
    },
    "id": "txQSVZbi_Ffv",
    "outputId": "f6913193-848a-4095-bfd6-b9047f2bf4bc"
   },
   "outputs": [
    {
     "data": {
      "text/plain": [
       "array([[1, 2, 3],\n",
       "       [4, 5, 6],\n",
       "       [7, 8, 9]])"
      ]
     },
     "execution_count": 181,
     "metadata": {},
     "output_type": "execute_result"
    }
   ],
   "source": [
    "# Definição de um array\n",
    "arr2 = np.array([\n",
    "    [1, 2, 3],\n",
    "    [4, 5, 6],\n",
    "    [7, 8, 9]\n",
    "])\n",
    "\n",
    "# Visualização\n",
    "arr2"
   ]
  },
  {
   "cell_type": "code",
   "execution_count": 182,
   "metadata": {
    "colab": {
     "base_uri": "https://localhost:8080/"
    },
    "executionInfo": {
     "elapsed": 16,
     "status": "ok",
     "timestamp": 1748199274043,
     "user": {
      "displayName": "Breno Silva",
      "userId": "02632345917845336639"
     },
     "user_tz": 180
    },
    "id": "-JwlJBSGAMAM",
    "outputId": "0e251af6-ca8e-4e2b-a44b-4550834ebd11"
   },
   "outputs": [
    {
     "data": {
      "text/plain": [
       "array([[ 1,  2,  3,  4],\n",
       "       [ 5,  6,  7,  8],\n",
       "       [ 9, 10, 11, 12]])"
      ]
     },
     "execution_count": 182,
     "metadata": {},
     "output_type": "execute_result"
    }
   ],
   "source": [
    "# Definição de um array\n",
    "arr3 = np.array([\n",
    "    [1, 2, 3, 4],\n",
    "    [5, 6, 7, 8],\n",
    "    [9, 10, 11, 12]\n",
    "])\n",
    "\n",
    "# Visualização\n",
    "arr3"
   ]
  },
  {
   "cell_type": "markdown",
   "metadata": {
    "id": "Ly6gMw7N-1AE"
   },
   "source": [
    "-  Comandos para Indexação e Fatiamento:"
   ]
  },
  {
   "cell_type": "code",
   "execution_count": 183,
   "metadata": {
    "colab": {
     "base_uri": "https://localhost:8080/"
    },
    "executionInfo": {
     "elapsed": 6,
     "status": "ok",
     "timestamp": 1748199274063,
     "user": {
      "displayName": "Breno Silva",
      "userId": "02632345917845336639"
     },
     "user_tz": 180
    },
    "id": "nUxYYFkN-vje",
    "outputId": "99e7340b-1880-436d-f0b3-409ef9abf7a7"
   },
   "outputs": [
    {
     "data": {
      "text/plain": [
       "2"
      ]
     },
     "execution_count": 183,
     "metadata": {},
     "output_type": "execute_result"
    }
   ],
   "source": [
    "arr1[0] # Acessar elementos específicos: array[índice]"
   ]
  },
  {
   "cell_type": "code",
   "execution_count": 184,
   "metadata": {
    "colab": {
     "base_uri": "https://localhost:8080/"
    },
    "executionInfo": {
     "elapsed": 6,
     "status": "ok",
     "timestamp": 1748199274070,
     "user": {
      "displayName": "Breno Silva",
      "userId": "02632345917845336639"
     },
     "user_tz": 180
    },
    "id": "-zN8IMo4-5lW",
    "outputId": "e277d927-2aa9-471c-8837-c11048314700"
   },
   "outputs": [
    {
     "data": {
      "text/plain": [
       "array([2, 1])"
      ]
     },
     "execution_count": 184,
     "metadata": {},
     "output_type": "execute_result"
    }
   ],
   "source": [
    "arr1[0:2] # Fatiamento de arrays (arrays unidimensionais e multidimensionais): array[início:fim]"
   ]
  },
  {
   "cell_type": "code",
   "execution_count": 185,
   "metadata": {
    "colab": {
     "base_uri": "https://localhost:8080/"
    },
    "executionInfo": {
     "elapsed": 6,
     "status": "ok",
     "timestamp": 1748199274093,
     "user": {
      "displayName": "Breno Silva",
      "userId": "02632345917845336639"
     },
     "user_tz": 180
    },
    "id": "XYAYLY1e_AOX",
    "outputId": "2e7c7018-0654-42d5-d56c-0e0f9f74b262"
   },
   "outputs": [
    {
     "data": {
      "text/plain": [
       "array([3, 6, 9])"
      ]
     },
     "execution_count": 185,
     "metadata": {},
     "output_type": "execute_result"
    }
   ],
   "source": [
    "arr2[:, 2] # Seleção de linhas e colunas em arrays 2D: array[select_row, select_column]"
   ]
  },
  {
   "cell_type": "code",
   "execution_count": 186,
   "metadata": {
    "colab": {
     "base_uri": "https://localhost:8080/"
    },
    "executionInfo": {
     "elapsed": 14,
     "status": "ok",
     "timestamp": 1748199274108,
     "user": {
      "displayName": "Breno Silva",
      "userId": "02632345917845336639"
     },
     "user_tz": 180
    },
    "id": "nf_M4_MN_WCl",
    "outputId": "12476c2d-b794-4535-98f4-98d4c7500de6"
   },
   "outputs": [
    {
     "data": {
      "text/plain": [
       "array([7, 8, 9])"
      ]
     },
     "execution_count": 186,
     "metadata": {},
     "output_type": "execute_result"
    }
   ],
   "source": [
    "arr2[2, :] # Seleção de linhas e colunas em arrays 2D: array[select_row, select_column]"
   ]
  },
  {
   "cell_type": "markdown",
   "metadata": {
    "id": "QeTLcOlfAbrE"
   },
   "source": [
    "-  Comandos para Indexação e Fatiamento Booleano:"
   ]
  },
  {
   "cell_type": "code",
   "execution_count": 188,
   "metadata": {
    "colab": {
     "base_uri": "https://localhost:8080/"
    },
    "executionInfo": {
     "elapsed": 11,
     "status": "ok",
     "timestamp": 1748199274121,
     "user": {
      "displayName": "Breno Silva",
      "userId": "02632345917845336639"
     },
     "user_tz": 180
    },
    "id": "Usaee82rAiIt",
    "outputId": "7dfbbae7-417a-4b25-ae30-12b382caf268"
   },
   "outputs": [
    {
     "data": {
      "text/plain": [
       "array([[False, False, False, False],\n",
       "       [ True,  True,  True,  True],\n",
       "       [ True,  True,  True,  True]])"
      ]
     },
     "execution_count": 188,
     "metadata": {},
     "output_type": "execute_result"
    }
   ],
   "source": [
    "arr3 >= 5"
   ]
  },
  {
   "cell_type": "code",
   "execution_count": 189,
   "metadata": {
    "colab": {
     "base_uri": "https://localhost:8080/"
    },
    "executionInfo": {
     "elapsed": 12,
     "status": "ok",
     "timestamp": 1748199274170,
     "user": {
      "displayName": "Breno Silva",
      "userId": "02632345917845336639"
     },
     "user_tz": 180
    },
    "id": "zkiGbOelApn1",
    "outputId": "e028ef9b-6b13-4a69-926a-5127f98c2c29"
   },
   "outputs": [
    {
     "data": {
      "text/plain": [
       "array([ 5,  6,  7,  8,  9, 10, 11, 12])"
      ]
     },
     "execution_count": 189,
     "metadata": {},
     "output_type": "execute_result"
    }
   ],
   "source": [
    "# Condição\n",
    "five_up = arr3 >= 5\n",
    "\n",
    "# Fatiando conforme a condição\n",
    "arr3[five_up]"
   ]
  },
  {
   "cell_type": "code",
   "execution_count": 190,
   "metadata": {
    "colab": {
     "base_uri": "https://localhost:8080/"
    },
    "executionInfo": {
     "elapsed": 55,
     "status": "ok",
     "timestamp": 1748199274226,
     "user": {
      "displayName": "Breno Silva",
      "userId": "02632345917845336639"
     },
     "user_tz": 180
    },
    "id": "TBGlf-T1BEK8",
    "outputId": "60d06b10-fa43-4d70-f1d6-0389272fe270"
   },
   "outputs": [
    {
     "data": {
      "text/plain": [
       "array([[False,  True, False,  True],\n",
       "       [False,  True, False,  True],\n",
       "       [False,  True, False,  True]])"
      ]
     },
     "execution_count": 190,
     "metadata": {},
     "output_type": "execute_result"
    }
   ],
   "source": [
    "arr3 % 2 == 0"
   ]
  },
  {
   "cell_type": "code",
   "execution_count": 191,
   "metadata": {
    "colab": {
     "base_uri": "https://localhost:8080/"
    },
    "executionInfo": {
     "elapsed": 5,
     "status": "ok",
     "timestamp": 1748199274232,
     "user": {
      "displayName": "Breno Silva",
      "userId": "02632345917845336639"
     },
     "user_tz": 180
    },
    "id": "OpHbU6ueA8M-",
    "outputId": "c3a109e3-0e15-4c5c-f6bd-d7ca165f0e09"
   },
   "outputs": [
    {
     "data": {
      "text/plain": [
       "array([ 2,  4,  6,  8, 10, 12])"
      ]
     },
     "execution_count": 191,
     "metadata": {},
     "output_type": "execute_result"
    }
   ],
   "source": [
    "# Elementos pares\n",
    "divisible_by_2 = arr3[arr3 % 2 == 0]\n",
    "\n",
    "# Visualização\n",
    "divisible_by_2"
   ]
  },
  {
   "cell_type": "code",
   "execution_count": 192,
   "metadata": {
    "colab": {
     "base_uri": "https://localhost:8080/"
    },
    "executionInfo": {
     "elapsed": 5,
     "status": "ok",
     "timestamp": 1748199274238,
     "user": {
      "displayName": "Breno Silva",
      "userId": "02632345917845336639"
     },
     "user_tz": 180
    },
    "id": "pG_LFEVgBPX2",
    "outputId": "75dee1bc-7ada-4e9e-c174-fdcd03d2fee6"
   },
   "outputs": [
    {
     "data": {
      "text/plain": [
       "array([[False, False,  True,  True],\n",
       "       [ True,  True,  True,  True],\n",
       "       [ True,  True, False, False]])"
      ]
     },
     "execution_count": 192,
     "metadata": {},
     "output_type": "execute_result"
    }
   ],
   "source": [
    "# Elementos maiores que 2 e menores que 11\n",
    "(arr3 > 2) & (arr3 < 11)"
   ]
  },
  {
   "cell_type": "code",
   "execution_count": 193,
   "metadata": {
    "colab": {
     "base_uri": "https://localhost:8080/"
    },
    "executionInfo": {
     "elapsed": 4,
     "status": "ok",
     "timestamp": 1748199274243,
     "user": {
      "displayName": "Breno Silva",
      "userId": "02632345917845336639"
     },
     "user_tz": 180
    },
    "id": "rXrzXD3LBwwL",
    "outputId": "1f989c82-5676-4d5b-8049-71cfd22171d9"
   },
   "outputs": [
    {
     "data": {
      "text/plain": [
       "array([ 3,  4,  5,  6,  7,  8,  9, 10])"
      ]
     },
     "execution_count": 193,
     "metadata": {},
     "output_type": "execute_result"
    }
   ],
   "source": [
    "# Condição dupla\n",
    "c = arr3[(arr3 > 2) & (arr3 < 11)]\n",
    "\n",
    "# Visualização\n",
    "c"
   ]
  },
  {
   "cell_type": "code",
   "execution_count": 194,
   "metadata": {
    "colab": {
     "base_uri": "https://localhost:8080/"
    },
    "executionInfo": {
     "elapsed": 9,
     "status": "ok",
     "timestamp": 1748199274254,
     "user": {
      "displayName": "Breno Silva",
      "userId": "02632345917845336639"
     },
     "user_tz": 180
    },
    "id": "1eBifqjxB75Q",
    "outputId": "45c3a0c5-b955-4a9f-8814-e0579d981490"
   },
   "outputs": [
    {
     "data": {
      "text/plain": [
       "array([ 4,  6,  8, 10])"
      ]
     },
     "execution_count": 194,
     "metadata": {},
     "output_type": "execute_result"
    }
   ],
   "source": [
    "# Condição tripla\n",
    "c = arr3[(arr3 > 2) & (arr3 < 11) & (arr3 % 2 == 0)]\n",
    "\n",
    "# Visualização\n",
    "c"
   ]
  },
  {
   "cell_type": "markdown",
   "metadata": {
    "id": "AEqvjpdxCHVa"
   },
   "source": [
    "- Manipulação da *forma* de `array` e concatenação de `arrays`:"
   ]
  },
  {
   "cell_type": "code",
   "execution_count": 195,
   "metadata": {
    "colab": {
     "base_uri": "https://localhost:8080/"
    },
    "executionInfo": {
     "elapsed": 12,
     "status": "ok",
     "timestamp": 1748199274267,
     "user": {
      "displayName": "Breno Silva",
      "userId": "02632345917845336639"
     },
     "user_tz": 180
    },
    "id": "xAp_sPcJCH6i",
    "outputId": "ee513a70-7ac7-48e1-94bb-7868b010bd5a"
   },
   "outputs": [
    {
     "data": {
      "text/plain": [
       "array([0, 1, 2, 3, 4, 5])"
      ]
     },
     "execution_count": 195,
     "metadata": {},
     "output_type": "execute_result"
    }
   ],
   "source": [
    "# Definindo array\n",
    "v1 = np.arange(6)\n",
    "\n",
    "# Visualizar\n",
    "v1"
   ]
  },
  {
   "cell_type": "code",
   "execution_count": 196,
   "metadata": {
    "colab": {
     "base_uri": "https://localhost:8080/"
    },
    "executionInfo": {
     "elapsed": 12,
     "status": "ok",
     "timestamp": 1748199274280,
     "user": {
      "displayName": "Breno Silva",
      "userId": "02632345917845336639"
     },
     "user_tz": 180
    },
    "id": "St9Uw1g-CfFC",
    "outputId": "d837378a-23d2-4c6d-c587-c01a2a62b37d"
   },
   "outputs": [
    {
     "data": {
      "text/plain": [
       "array([[0, 1, 2],\n",
       "       [3, 4, 5]])"
      ]
     },
     "execution_count": 196,
     "metadata": {},
     "output_type": "execute_result"
    }
   ],
   "source": [
    "# Alterar a forma de v1\n",
    "v2 = v1.reshape(2, 3)\n",
    "\n",
    "# Visualizar\n",
    "v2"
   ]
  },
  {
   "cell_type": "code",
   "execution_count": 197,
   "metadata": {
    "colab": {
     "base_uri": "https://localhost:8080/"
    },
    "executionInfo": {
     "elapsed": 6,
     "status": "ok",
     "timestamp": 1748199274287,
     "user": {
      "displayName": "Breno Silva",
      "userId": "02632345917845336639"
     },
     "user_tz": 180
    },
    "id": "J2s3bLDdCoAg",
    "outputId": "31a170f4-e6ab-4f67-8099-37c086c1f232"
   },
   "outputs": [
    {
     "data": {
      "text/plain": [
       "array([[0, 1],\n",
       "       [2, 3],\n",
       "       [4, 5]])"
      ]
     },
     "execution_count": 197,
     "metadata": {},
     "output_type": "execute_result"
    }
   ],
   "source": [
    "# Alterar a forma de v1\n",
    "v3 = v1.reshape(3, 2)\n",
    "\n",
    "# Visualizar\n",
    "v3"
   ]
  },
  {
   "cell_type": "code",
   "execution_count": 198,
   "metadata": {
    "colab": {
     "base_uri": "https://localhost:8080/"
    },
    "executionInfo": {
     "elapsed": 4,
     "status": "ok",
     "timestamp": 1748199274292,
     "user": {
      "displayName": "Breno Silva",
      "userId": "02632345917845336639"
     },
     "user_tz": 180
    },
    "id": "cIQpyqT9C98S",
    "outputId": "3b46107a-1fc8-4e19-a68d-63fd20f5552d"
   },
   "outputs": [
    {
     "data": {
      "text/plain": [
       "array([[0],\n",
       "       [1],\n",
       "       [2],\n",
       "       [3],\n",
       "       [4],\n",
       "       [5]])"
      ]
     },
     "execution_count": 198,
     "metadata": {},
     "output_type": "execute_result"
    }
   ],
   "source": [
    "# Alterar a forma de v1\n",
    "v4 = v1.reshape(v1.size, 1)\n",
    "\n",
    "# Visualizar\n",
    "v4"
   ]
  },
  {
   "cell_type": "code",
   "execution_count": 206,
   "metadata": {
    "colab": {
     "base_uri": "https://localhost:8080/"
    },
    "executionInfo": {
     "elapsed": 6,
     "status": "ok",
     "timestamp": 1748199274299,
     "user": {
      "displayName": "Breno Silva",
      "userId": "02632345917845336639"
     },
     "user_tz": 180
    },
    "id": "PsFf0JTGD8mD",
    "outputId": "e4d3f42d-540f-452d-9172-50a1ae01e062"
   },
   "outputs": [
    {
     "data": {
      "text/plain": [
       "array([[0, 1, 2, 3, 4, 5]])"
      ]
     },
     "execution_count": 206,
     "metadata": {},
     "output_type": "execute_result"
    }
   ],
   "source": [
    "# Vetor Linha\n",
    "row_vector = v1[np.newaxis, :]\n",
    "\n",
    "# Visualizar\n",
    "row_vector"
   ]
  },
  {
   "cell_type": "code",
   "execution_count": 69,
   "metadata": {
    "colab": {
     "base_uri": "https://localhost:8080/"
    },
    "executionInfo": {
     "elapsed": 17,
     "status": "ok",
     "timestamp": 1748199274343,
     "user": {
      "displayName": "Breno Silva",
      "userId": "02632345917845336639"
     },
     "user_tz": 180
    },
    "id": "Mi_KGagGDT3a",
    "outputId": "8ac5782c-c3b3-4d7f-ead1-e820d45b71b4"
   },
   "outputs": [
    {
     "data": {
      "text/plain": [
       "array([[0],\n",
       "       [1],\n",
       "       [2],\n",
       "       [3],\n",
       "       [4],\n",
       "       [5]])"
      ]
     },
     "execution_count": 69,
     "metadata": {},
     "output_type": "execute_result"
    }
   ],
   "source": [
    "# Vetor Coluna\n",
    "col_vector = v1[:, np.newaxis]\n",
    "\n",
    "# Visualizar\n",
    "col_vector"
   ]
  },
  {
   "cell_type": "code",
   "execution_count": 207,
   "metadata": {
    "colab": {
     "base_uri": "https://localhost:8080/"
    },
    "executionInfo": {
     "elapsed": 6,
     "status": "ok",
     "timestamp": 1748199274351,
     "user": {
      "displayName": "Breno Silva",
      "userId": "02632345917845336639"
     },
     "user_tz": 180
    },
    "id": "QwY75P1AERB6",
    "outputId": "4f7a7443-31ad-47ed-eb94-92c9ec274c89"
   },
   "outputs": [
    {
     "name": "stdout",
     "output_type": "stream",
     "text": [
      "Forma de v1: (6,)\n",
      "Forma de v2: (2, 3)\n",
      "Forma de v3: (3, 2)\n",
      "Forma de v4: (6, 1)\n",
      "Forma de row_vector: (1, 6)\n",
      "Forma de col_vector: (6, 1)\n"
     ]
    }
   ],
   "source": [
    "print(f\"Forma de v1: {v1.shape}\")\n",
    "print(f\"Forma de v2: {v2.shape}\")\n",
    "print(f\"Forma de v3: {v3.shape}\")\n",
    "print(f\"Forma de v4: {v4.shape}\")\n",
    "print(f\"Forma de row_vector: {row_vector.shape}\")\n",
    "print(f\"Forma de col_vector: {col_vector.shape}\")"
   ]
  },
  {
   "cell_type": "code",
   "execution_count": 211,
   "metadata": {
    "colab": {
     "base_uri": "https://localhost:8080/"
    },
    "executionInfo": {
     "elapsed": 4,
     "status": "ok",
     "timestamp": 1748199274357,
     "user": {
      "displayName": "Breno Silva",
      "userId": "02632345917845336639"
     },
     "user_tz": 180
    },
    "id": "WFWZizLWExmB",
    "outputId": "41dce489-3aa1-478c-f0a0-ea290ae66053"
   },
   "outputs": [
    {
     "data": {
      "text/plain": [
       "array([[1, 2, 3],\n",
       "       [4, 5, 6]])"
      ]
     },
     "execution_count": 211,
     "metadata": {},
     "output_type": "execute_result"
    }
   ],
   "source": [
    "# Considere o array\n",
    "matrix = np.array([\n",
    "    [1, 2, 3],\n",
    "    [4, 5, 6]\n",
    "])\n",
    "\n",
    "# Visualizar\n",
    "matrix"
   ]
  },
  {
   "cell_type": "code",
   "execution_count": 212,
   "metadata": {
    "colab": {
     "base_uri": "https://localhost:8080/"
    },
    "executionInfo": {
     "elapsed": 39,
     "status": "ok",
     "timestamp": 1748199274397,
     "user": {
      "displayName": "Breno Silva",
      "userId": "02632345917845336639"
     },
     "user_tz": 180
    },
    "id": "S-qsRxKUE5yK",
    "outputId": "c63baec1-e01f-4fd3-a080-8175967da2d0"
   },
   "outputs": [
    {
     "data": {
      "text/plain": [
       "array([1, 2, 3, 4, 5, 6])"
      ]
     },
     "execution_count": 212,
     "metadata": {},
     "output_type": "execute_result"
    }
   ],
   "source": [
    "# Usando a função np.ravel()\n",
    "array_ravel = np.ravel(matrix, order=\"C\")\n",
    "\n",
    "# Visualizando\n",
    "array_ravel"
   ]
  },
  {
   "cell_type": "code",
   "execution_count": 213,
   "metadata": {
    "colab": {
     "base_uri": "https://localhost:8080/"
    },
    "executionInfo": {
     "elapsed": 9,
     "status": "ok",
     "timestamp": 1748199274409,
     "user": {
      "displayName": "Breno Silva",
      "userId": "02632345917845336639"
     },
     "user_tz": 180
    },
    "id": "iWYLVdZyFZWC",
    "outputId": "6e566bd3-c607-48ab-ee26-8f3200b5fa7b"
   },
   "outputs": [
    {
     "data": {
      "text/plain": [
       "array([1, 4, 2, 5, 3, 6])"
      ]
     },
     "execution_count": 213,
     "metadata": {},
     "output_type": "execute_result"
    }
   ],
   "source": [
    "# Usando a função np.ravel()\n",
    "array_ravel = np.ravel(matrix, order=\"F\")\n",
    "\n",
    "# Visualizando\n",
    "array_ravel"
   ]
  },
  {
   "cell_type": "code",
   "execution_count": 214,
   "metadata": {
    "colab": {
     "base_uri": "https://localhost:8080/"
    },
    "executionInfo": {
     "elapsed": 9,
     "status": "ok",
     "timestamp": 1748199274420,
     "user": {
      "displayName": "Breno Silva",
      "userId": "02632345917845336639"
     },
     "user_tz": 180
    },
    "id": "rf0b3mU5EYo1",
    "outputId": "0a83f471-7b55-4141-964a-41b086f342c8"
   },
   "outputs": [
    {
     "data": {
      "text/plain": [
       "array([1, 2, 3, 4, 5, 6])"
      ]
     },
     "execution_count": 214,
     "metadata": {},
     "output_type": "execute_result"
    }
   ],
   "source": [
    "# Usando o método array.flatten()\n",
    "array_flatten = matrix.flatten(order=\"C\")\n",
    "\n",
    "# Visualizando\n",
    "array_flatten"
   ]
  },
  {
   "cell_type": "code",
   "execution_count": 215,
   "metadata": {
    "colab": {
     "base_uri": "https://localhost:8080/"
    },
    "executionInfo": {
     "elapsed": 7,
     "status": "ok",
     "timestamp": 1748199274429,
     "user": {
      "displayName": "Breno Silva",
      "userId": "02632345917845336639"
     },
     "user_tz": 180
    },
    "id": "Mcf06T4WFEyA",
    "outputId": "2ca1e940-b77c-4f37-a024-511fa409bc20"
   },
   "outputs": [
    {
     "data": {
      "text/plain": [
       "array([1, 4, 2, 5, 3, 6])"
      ]
     },
     "execution_count": 215,
     "metadata": {},
     "output_type": "execute_result"
    }
   ],
   "source": [
    "# Usando o método array.flatten()\n",
    "array_flatten = matrix.flatten(order=\"F\")\n",
    "\n",
    "# Visualizando\n",
    "array_flatten"
   ]
  },
  {
   "cell_type": "markdown",
   "metadata": {
    "id": "oyoJR-Gok11G"
   },
   "source": [
    "- Alterando o tipo dos elementos do `array`"
   ]
  },
  {
   "cell_type": "code",
   "execution_count": 216,
   "metadata": {
    "colab": {
     "base_uri": "https://localhost:8080/"
    },
    "executionInfo": {
     "elapsed": 10,
     "status": "ok",
     "timestamp": 1748199274441,
     "user": {
      "displayName": "Breno Silva",
      "userId": "02632345917845336639"
     },
     "user_tz": 180
    },
    "id": "Ntme8vDzlCzO",
    "outputId": "76b8606b-bd78-42bc-8b8e-07af922c7006"
   },
   "outputs": [
    {
     "data": {
      "text/plain": [
       "array([1., 4., 2., 5., 3., 6.])"
      ]
     },
     "execution_count": 216,
     "metadata": {},
     "output_type": "execute_result"
    }
   ],
   "source": [
    "# Modificando para um array de pontos flutuantes\n",
    "array_flatten.astype(np.float64)"
   ]
  },
  {
   "cell_type": "code",
   "execution_count": 217,
   "metadata": {
    "colab": {
     "base_uri": "https://localhost:8080/"
    },
    "executionInfo": {
     "elapsed": 10,
     "status": "ok",
     "timestamp": 1748199274453,
     "user": {
      "displayName": "Breno Silva",
      "userId": "02632345917845336639"
     },
     "user_tz": 180
    },
    "id": "N5yd7zRNlPpI",
    "outputId": "7cdb9487-00f8-4bbe-bae1-ebb8e0905f45"
   },
   "outputs": [
    {
     "data": {
      "text/plain": [
       "array([1., 4., 2., 5., 3., 6.])"
      ]
     },
     "execution_count": 217,
     "metadata": {},
     "output_type": "execute_result"
    }
   ],
   "source": [
    "# Modificando para um array de pontos flutuantes\n",
    "np.array(array_flatten, dtype=np.float64)"
   ]
  },
  {
   "cell_type": "code",
   "execution_count": 218,
   "metadata": {
    "colab": {
     "base_uri": "https://localhost:8080/"
    },
    "executionInfo": {
     "elapsed": 28,
     "status": "ok",
     "timestamp": 1748199274482,
     "user": {
      "displayName": "Breno Silva",
      "userId": "02632345917845336639"
     },
     "user_tz": 180
    },
    "id": "oq_LiQYxllNk",
    "outputId": "d965c778-5931-47a2-faf1-35927a14f6aa"
   },
   "outputs": [
    {
     "name": "stdout",
     "output_type": "stream",
     "text": [
      "[[0. 0. 0.]\n",
      " [0. 0. 0.]\n",
      " [0. 0. 0.]]\n",
      "\n",
      " [[1.         0.5        0.33333333]\n",
      " [2.         1.         0.66666667]\n",
      " [3.         1.5        1.        ]]\n"
     ]
    }
   ],
   "source": [
    "# Definindo um array de zeros\n",
    "array_zeros = np.zeros(shape=(3, 3))\n",
    "\n",
    "# Visualizar o array de zeros\n",
    "print(array_zeros)\n",
    "\n",
    "# Iterar pelas linhas do array\n",
    "for i in range(1, array_zeros.shape[0] + 1):\n",
    "  # Iterar pelas colunas do array\n",
    "  for j in range(1, array_zeros.shape[1] + 1):\n",
    "    # Preencher o array com o valor da divisão de i por j\n",
    "    array_zeros[i - 1, j - 1] = i / j\n",
    "\n",
    "# Visualizar o array preenchido\n",
    "print(\"\\n\", array_zeros)"
   ]
  },
  {
   "cell_type": "code",
   "execution_count": 219,
   "metadata": {
    "colab": {
     "base_uri": "https://localhost:8080/"
    },
    "executionInfo": {
     "elapsed": 7,
     "status": "ok",
     "timestamp": 1748199274491,
     "user": {
      "displayName": "Breno Silva",
      "userId": "02632345917845336639"
     },
     "user_tz": 180
    },
    "id": "3O4-MgppmmcU",
    "outputId": "338e7391-0967-4a83-f2ba-7525ddf3c43e"
   },
   "outputs": [
    {
     "data": {
      "text/plain": [
       "array([[1, 0, 0],\n",
       "       [2, 1, 0],\n",
       "       [3, 1, 1]], dtype=int64)"
      ]
     },
     "execution_count": 219,
     "metadata": {},
     "output_type": "execute_result"
    }
   ],
   "source": [
    "# Modificando para um array de inteiros\n",
    "np.array(array_zeros, dtype=np.int64)"
   ]
  },
  {
   "cell_type": "code",
   "execution_count": 220,
   "metadata": {
    "colab": {
     "base_uri": "https://localhost:8080/"
    },
    "executionInfo": {
     "elapsed": 10,
     "status": "ok",
     "timestamp": 1748199274532,
     "user": {
      "displayName": "Breno Silva",
      "userId": "02632345917845336639"
     },
     "user_tz": 180
    },
    "id": "1dfV6Pv3mfaU",
    "outputId": "974f4a10-ee1e-4018-8fa2-6d1f7a6e6015"
   },
   "outputs": [
    {
     "data": {
      "text/plain": [
       "array([[1, 0, 0],\n",
       "       [2, 1, 0],\n",
       "       [3, 1, 1]], dtype=int64)"
      ]
     },
     "execution_count": 220,
     "metadata": {},
     "output_type": "execute_result"
    }
   ],
   "source": [
    "# Modificando para um array de inteiros\n",
    "array_zeros.astype(np.int64)"
   ]
  },
  {
   "cell_type": "markdown",
   "metadata": {
    "id": "JkQKRc4gG1oz"
   },
   "source": [
    "- Concateção de `arrays`:"
   ]
  },
  {
   "cell_type": "code",
   "execution_count": 221,
   "metadata": {
    "id": "V6UBXoZmG9Sh"
   },
   "outputs": [],
   "source": [
    "# Definindo arrays para exemplo de concatenação\n",
    "a = np.array([[1, 2], [3, 4]])\n",
    "b = np.array([[5, 6]])"
   ]
  },
  {
   "cell_type": "code",
   "execution_count": 227,
   "metadata": {
    "colab": {
     "base_uri": "https://localhost:8080/"
    },
    "executionInfo": {
     "elapsed": 12,
     "status": "ok",
     "timestamp": 1748199274565,
     "user": {
      "displayName": "Breno Silva",
      "userId": "02632345917845336639"
     },
     "user_tz": 180
    },
    "id": "hN44Nb4rHEwU",
    "outputId": "a5a64b3b-0fa4-48be-8067-8894943b7c9c"
   },
   "outputs": [
    {
     "data": {
      "text/plain": [
       "array([[1, 2],\n",
       "       [3, 4],\n",
       "       [5, 6]])"
      ]
     },
     "execution_count": 227,
     "metadata": {},
     "output_type": "execute_result"
    }
   ],
   "source": [
    "# Concatenando verticalmente (ao longo do eixo 0)\n",
    "c1 = np.concatenate((a, b), axis=0)\n",
    "\n",
    "# Visualizar\n",
    "c1"
   ]
  },
  {
   "cell_type": "code",
   "execution_count": 228,
   "metadata": {
    "colab": {
     "base_uri": "https://localhost:8080/"
    },
    "executionInfo": {
     "elapsed": 15,
     "status": "ok",
     "timestamp": 1748199274581,
     "user": {
      "displayName": "Breno Silva",
      "userId": "02632345917845336639"
     },
     "user_tz": 180
    },
    "id": "GL0nfb3vG9PH",
    "outputId": "db325525-d2c0-43ed-8f8b-e69c1a42eb0f"
   },
   "outputs": [
    {
     "data": {
      "text/plain": [
       "array([[1, 2, 5],\n",
       "       [3, 4, 6]])"
      ]
     },
     "execution_count": 228,
     "metadata": {},
     "output_type": "execute_result"
    }
   ],
   "source": [
    "# Concatenando horizontalmente (ao longo do eixo 1)\n",
    "d1 = np.concatenate((a, b.T), axis=1)\n",
    "\n",
    "# Visualizar\n",
    "d1"
   ]
  },
  {
   "cell_type": "code",
   "execution_count": 229,
   "metadata": {
    "colab": {
     "base_uri": "https://localhost:8080/"
    },
    "executionInfo": {
     "elapsed": 11,
     "status": "ok",
     "timestamp": 1748199274609,
     "user": {
      "displayName": "Breno Silva",
      "userId": "02632345917845336639"
     },
     "user_tz": 180
    },
    "id": "_T9r-tmvG9L1",
    "outputId": "0c3f0639-967e-4c71-d513-0471c8f964c1"
   },
   "outputs": [
    {
     "name": "stdout",
     "output_type": "stream",
     "text": [
      "[[5 6]]\n",
      "\n",
      "[[5]\n",
      " [6]]\n"
     ]
    }
   ],
   "source": [
    "print(b)   # array original\n",
    "print()\n",
    "print(b.T) # array transposto"
   ]
  },
  {
   "cell_type": "code",
   "execution_count": 85,
   "metadata": {
    "colab": {
     "base_uri": "https://localhost:8080/"
    },
    "executionInfo": {
     "elapsed": 20,
     "status": "ok",
     "timestamp": 1748199274628,
     "user": {
      "displayName": "Breno Silva",
      "userId": "02632345917845336639"
     },
     "user_tz": 180
    },
    "id": "6oF2sIXtG9JK",
    "outputId": "9953aa86-45c2-44fa-f016-3cc4db90baa5"
   },
   "outputs": [
    {
     "data": {
      "text/plain": [
       "array([[1, 2],\n",
       "       [3, 4],\n",
       "       [5, 6]])"
      ]
     },
     "execution_count": 85,
     "metadata": {},
     "output_type": "execute_result"
    }
   ],
   "source": [
    "# Concatenando verticalmente\n",
    "c2 = np.vstack((a, b))\n",
    "\n",
    "# Visualizar\n",
    "c2"
   ]
  },
  {
   "cell_type": "code",
   "execution_count": 86,
   "metadata": {
    "colab": {
     "base_uri": "https://localhost:8080/"
    },
    "executionInfo": {
     "elapsed": 30,
     "status": "ok",
     "timestamp": 1748199274667,
     "user": {
      "displayName": "Breno Silva",
      "userId": "02632345917845336639"
     },
     "user_tz": 180
    },
    "id": "p96nlcsqG9GD",
    "outputId": "c56c0a6a-4cb7-462d-973f-0b409cfd1d69"
   },
   "outputs": [
    {
     "data": {
      "text/plain": [
       "array([[ True,  True],\n",
       "       [ True,  True],\n",
       "       [ True,  True]])"
      ]
     },
     "execution_count": 86,
     "metadata": {},
     "output_type": "execute_result"
    }
   ],
   "source": [
    "# Comparação\n",
    "c1 == c2"
   ]
  },
  {
   "cell_type": "code",
   "execution_count": 231,
   "metadata": {
    "colab": {
     "base_uri": "https://localhost:8080/"
    },
    "executionInfo": {
     "elapsed": 5,
     "status": "ok",
     "timestamp": 1748199274674,
     "user": {
      "displayName": "Breno Silva",
      "userId": "02632345917845336639"
     },
     "user_tz": 180
    },
    "id": "ZA2oY0KEGG5g",
    "outputId": "91d72977-4d2c-4fff-bbca-eaa8c4d6fc00"
   },
   "outputs": [
    {
     "data": {
      "text/plain": [
       "array([[1, 2, 5],\n",
       "       [3, 4, 6]])"
      ]
     },
     "execution_count": 231,
     "metadata": {},
     "output_type": "execute_result"
    }
   ],
   "source": [
    "# Concatenando horizontalmente\n",
    "d2 = np.hstack((a, b.T))\n",
    "\n",
    "# Visualizar\n",
    "d2"
   ]
  },
  {
   "cell_type": "code",
   "execution_count": 232,
   "metadata": {
    "colab": {
     "base_uri": "https://localhost:8080/"
    },
    "executionInfo": {
     "elapsed": 5,
     "status": "ok",
     "timestamp": 1748199274680,
     "user": {
      "displayName": "Breno Silva",
      "userId": "02632345917845336639"
     },
     "user_tz": 180
    },
    "id": "WAtoAay1HvnK",
    "outputId": "25177eff-6c62-4af8-c51c-4f662b4ff013"
   },
   "outputs": [
    {
     "data": {
      "text/plain": [
       "array([[ True,  True,  True],\n",
       "       [ True,  True,  True]])"
      ]
     },
     "execution_count": 232,
     "metadata": {},
     "output_type": "execute_result"
    }
   ],
   "source": [
    "# Comparação\n",
    "d1 == d2"
   ]
  },
  {
   "cell_type": "markdown",
   "metadata": {
    "id": "4zELIn3KRtge"
   },
   "source": [
    "## (1.3) Geração de arrays aleatórios"
   ]
  },
  {
   "cell_type": "markdown",
   "metadata": {
    "id": "E5U24_yUhbDr"
   },
   "source": [
    "1. Comandos iniciais para geração de arrays aleatórios"
   ]
  },
  {
   "cell_type": "code",
   "execution_count": 233,
   "metadata": {
    "colab": {
     "base_uri": "https://localhost:8080/"
    },
    "executionInfo": {
     "elapsed": 89,
     "status": "ok",
     "timestamp": 1748199274793,
     "user": {
      "displayName": "Breno Silva",
      "userId": "02632345917845336639"
     },
     "user_tz": 180
    },
    "id": "-7fVn0hUiVow",
    "outputId": "7a95c0c4-e4bf-4939-e5df-376080dcb2b0"
   },
   "outputs": [
    {
     "data": {
      "text/plain": [
       "array([[0.54206518, 0.24229461],\n",
       "       [0.25224168, 0.56515579],\n",
       "       [0.13333688, 0.87625856]])"
      ]
     },
     "execution_count": 233,
     "metadata": {},
     "output_type": "execute_result"
    }
   ],
   "source": [
    "# Array multidimensional uniformimente distribuído\n",
    "np.random.rand(3, 2)"
   ]
  },
  {
   "cell_type": "code",
   "execution_count": 234,
   "metadata": {
    "colab": {
     "base_uri": "https://localhost:8080/"
    },
    "executionInfo": {
     "elapsed": 47,
     "status": "ok",
     "timestamp": 1748199274844,
     "user": {
      "displayName": "Breno Silva",
      "userId": "02632345917845336639"
     },
     "user_tz": 180
    },
    "id": "p3vdpgbjj5Z_",
    "outputId": "cde415d1-6c8d-4467-ea3e-bdd0bca00b3d"
   },
   "outputs": [
    {
     "data": {
      "text/plain": [
       "array([[0.48033186],\n",
       "       [0.28332587],\n",
       "       [0.89221078],\n",
       "       [0.82763197],\n",
       "       [0.97997047],\n",
       "       [0.86723297],\n",
       "       [0.19350565],\n",
       "       [0.45449067],\n",
       "       [0.80518278],\n",
       "       [0.74723142]])"
      ]
     },
     "execution_count": 234,
     "metadata": {},
     "output_type": "execute_result"
    }
   ],
   "source": [
    "# Array multidimensional uniformimente distribuído\n",
    "np.random.rand(10, 1)"
   ]
  },
  {
   "cell_type": "code",
   "execution_count": 235,
   "metadata": {
    "colab": {
     "base_uri": "https://localhost:8080/"
    },
    "executionInfo": {
     "elapsed": 21,
     "status": "ok",
     "timestamp": 1748199274858,
     "user": {
      "displayName": "Breno Silva",
      "userId": "02632345917845336639"
     },
     "user_tz": 180
    },
    "id": "k6mLjpJTj85o",
    "outputId": "42c83cf8-2a8f-40b1-a310-6e6b911c8fe1"
   },
   "outputs": [
    {
     "data": {
      "text/plain": [
       "array([0.91995972, 0.22046993, 0.9979531 , 0.60279652, 0.03551846,\n",
       "       0.55552108, 0.31964252, 0.50210462, 0.53312172, 0.66251339])"
      ]
     },
     "execution_count": 235,
     "metadata": {},
     "output_type": "execute_result"
    }
   ],
   "source": [
    "# Array unidimensional uniformimente distribuído\n",
    "np.random.rand(10)"
   ]
  },
  {
   "cell_type": "code",
   "execution_count": 236,
   "metadata": {
    "colab": {
     "base_uri": "https://localhost:8080/"
    },
    "executionInfo": {
     "elapsed": 47,
     "status": "ok",
     "timestamp": 1748199274903,
     "user": {
      "displayName": "Breno Silva",
      "userId": "02632345917845336639"
     },
     "user_tz": 180
    },
    "id": "ddK0tvrMiiHY",
    "outputId": "ab25cb02-68ea-4a82-8cbc-3430d51de562"
   },
   "outputs": [
    {
     "data": {
      "text/plain": [
       "array([[0.45827568, 0.10987638, 0.72993767, 0.78420357],\n",
       "       [0.14128971, 0.83868694, 0.40272632, 0.40642366],\n",
       "       [0.37066631, 0.91701562, 0.49067937, 0.96598837]])"
      ]
     },
     "execution_count": 236,
     "metadata": {},
     "output_type": "execute_result"
    }
   ],
   "source": [
    "# Array multidimensional uniformimente distribuído\n",
    "np.random.rand(3, 4)"
   ]
  },
  {
   "cell_type": "code",
   "execution_count": 243,
   "metadata": {
    "colab": {
     "base_uri": "https://localhost:8080/"
    },
    "executionInfo": {
     "elapsed": 17,
     "status": "ok",
     "timestamp": 1748199274937,
     "user": {
      "displayName": "Breno Silva",
      "userId": "02632345917845336639"
     },
     "user_tz": 180
    },
    "id": "e-vyCZ67ik-_",
    "outputId": "39a63db4-340f-4e2c-de81-4adaf987a0dd"
   },
   "outputs": [
    {
     "data": {
      "text/plain": [
       "array([[0.40892395, 0.34782068],\n",
       "       [0.16887992, 0.08981502],\n",
       "       [0.30551554, 0.38535222]])"
      ]
     },
     "execution_count": 243,
     "metadata": {},
     "output_type": "execute_result"
    }
   ],
   "source": [
    "# Array multidimensional uniformimente distribuído\n",
    "np.random.rand(3, 2)"
   ]
  },
  {
   "cell_type": "code",
   "execution_count": 241,
   "metadata": {
    "colab": {
     "base_uri": "https://localhost:8080/"
    },
    "executionInfo": {
     "elapsed": 6,
     "status": "ok",
     "timestamp": 1748199274944,
     "user": {
      "displayName": "Breno Silva",
      "userId": "02632345917845336639"
     },
     "user_tz": 180
    },
    "id": "9EaHW8Mki2QQ",
    "outputId": "dc3c2374-22c9-44cf-a2d6-ad6925be1341"
   },
   "outputs": [
    {
     "data": {
      "text/plain": [
       "array([7, 0, 4, 4, 7, 4, 2, 1, 7, 1])"
      ]
     },
     "execution_count": 241,
     "metadata": {},
     "output_type": "execute_result"
    }
   ],
   "source": [
    "# Números aleatórios dentro de um intervalo\n",
    "np.random.randint(low=0, high=10, size=10)"
   ]
  },
  {
   "cell_type": "code",
   "execution_count": 244,
   "metadata": {
    "colab": {
     "base_uri": "https://localhost:8080/"
    },
    "executionInfo": {
     "elapsed": 7,
     "status": "ok",
     "timestamp": 1748199274953,
     "user": {
      "displayName": "Breno Silva",
      "userId": "02632345917845336639"
     },
     "user_tz": 180
    },
    "id": "jXxmVQfjjDBH",
    "outputId": "ad9a9975-e439-4d8b-9313-613932e6d289"
   },
   "outputs": [
    {
     "data": {
      "text/plain": [
       "array([[0],\n",
       "       [9],\n",
       "       [7],\n",
       "       [4],\n",
       "       [5],\n",
       "       [8],\n",
       "       [1],\n",
       "       [6],\n",
       "       [7],\n",
       "       [6]])"
      ]
     },
     "execution_count": 244,
     "metadata": {},
     "output_type": "execute_result"
    }
   ],
   "source": [
    "# Números aleatórios dentro de um intervalo\n",
    "np.random.randint(low=0, high=10, size=(10, 1))"
   ]
  },
  {
   "cell_type": "code",
   "execution_count": 245,
   "metadata": {
    "colab": {
     "base_uri": "https://localhost:8080/"
    },
    "executionInfo": {
     "elapsed": 22,
     "status": "ok",
     "timestamp": 1748199274976,
     "user": {
      "displayName": "Breno Silva",
      "userId": "02632345917845336639"
     },
     "user_tz": 180
    },
    "id": "yvC-OfrnjGJn",
    "outputId": "0d084a5f-fb25-4376-c6b3-10ac8eddb47b"
   },
   "outputs": [
    {
     "data": {
      "text/plain": [
       "array([[6, 0],\n",
       "       [0, 2],\n",
       "       [2, 4],\n",
       "       [0, 7],\n",
       "       [1, 5]])"
      ]
     },
     "execution_count": 245,
     "metadata": {},
     "output_type": "execute_result"
    }
   ],
   "source": [
    "# Números (inteiros) aleatórios dentro de um intervalo\n",
    "np.random.randint(low=0, high=10, size=(5, 2))"
   ]
  },
  {
   "cell_type": "markdown",
   "metadata": {
    "id": "bbsrRSAGhmMS"
   },
   "source": [
    "1. Simulando algumas distribuições de probabilidade"
   ]
  },
  {
   "cell_type": "code",
   "execution_count": 247,
   "metadata": {
    "colab": {
     "base_uri": "https://localhost:8080/"
    },
    "executionInfo": {
     "elapsed": 19,
     "status": "ok",
     "timestamp": 1748199274977,
     "user": {
      "displayName": "Breno Silva",
      "userId": "02632345917845336639"
     },
     "user_tz": 180
    },
    "id": "vydiqmk8hltY",
    "outputId": "199a4bc3-67dc-4a94-bd0e-cfe89c35dd9b"
   },
   "outputs": [
    {
     "data": {
      "text/plain": [
       "array([0.93420173, 0.78310307, 0.04077077, 0.31062887, 0.11716744,\n",
       "       0.92161265, 0.19714855, 0.79319511, 0.19555856, 0.85263614,\n",
       "       0.66167279, 0.78240023, 0.66559923, 0.54845381, 0.56583245,\n",
       "       0.65930704, 0.10348994, 0.85850943, 0.54240032, 0.02047965])"
      ]
     },
     "execution_count": 247,
     "metadata": {},
     "output_type": "execute_result"
    }
   ],
   "source": [
    "# Amostra Aleatória: Uniforme(0, 1)\n",
    "np.random.uniform(low=0, high=1, size=20)"
   ]
  },
  {
   "cell_type": "code",
   "execution_count": 248,
   "metadata": {
    "colab": {
     "base_uri": "https://localhost:8080/"
    },
    "executionInfo": {
     "elapsed": 13,
     "status": "ok",
     "timestamp": 1748199274993,
     "user": {
      "displayName": "Breno Silva",
      "userId": "02632345917845336639"
     },
     "user_tz": 180
    },
    "id": "KlXMIi6xoTBZ",
    "outputId": "9795b154-6945-44d3-f941-e9e7b2ba45f2"
   },
   "outputs": [
    {
     "data": {
      "text/plain": [
       "array([0.37613979, 1.64643227, 0.36987326, 0.44561089, 0.59069773,\n",
       "       0.89717551, 0.91400748, 0.68141133, 0.52287259, 1.07654748,\n",
       "       1.25139345, 0.73805758, 0.14951255, 1.77962913, 0.75224713,\n",
       "       0.69794878, 0.98492698, 0.58222726, 1.11051277, 0.43661601])"
      ]
     },
     "execution_count": 248,
     "metadata": {},
     "output_type": "execute_result"
    }
   ],
   "source": [
    "# Amostra Aleatória: Uniforme(0, 2)\n",
    "np.random.uniform(low=0, high=2, size=20)"
   ]
  },
  {
   "cell_type": "code",
   "execution_count": 249,
   "metadata": {
    "colab": {
     "base_uri": "https://localhost:8080/"
    },
    "executionInfo": {
     "elapsed": 9,
     "status": "ok",
     "timestamp": 1748199275041,
     "user": {
      "displayName": "Breno Silva",
      "userId": "02632345917845336639"
     },
     "user_tz": 180
    },
    "id": "JIqWxcRWonxt",
    "outputId": "44c715e5-cca6-48e4-be1b-b085e529a98a"
   },
   "outputs": [
    {
     "data": {
      "text/plain": [
       "array([1.73748785, 1.49646417, 1.88161679, 1.69550814, 1.69091362,\n",
       "       1.00099285, 1.587711  , 1.10587287, 1.61625415, 1.2327503 ,\n",
       "       1.0185662 , 1.56386391, 1.9558084 , 1.97960742, 1.5542382 ,\n",
       "       1.12747751, 1.88691997, 1.9784939 , 1.53251661, 1.32027105])"
      ]
     },
     "execution_count": 249,
     "metadata": {},
     "output_type": "execute_result"
    }
   ],
   "source": [
    "# Amostra Aleatória: Uniforme(1, 2)\n",
    "np.random.uniform(low=1, high=2, size=20)"
   ]
  },
  {
   "cell_type": "code",
   "execution_count": 250,
   "metadata": {
    "colab": {
     "base_uri": "https://localhost:8080/"
    },
    "executionInfo": {
     "elapsed": 9,
     "status": "ok",
     "timestamp": 1748199275052,
     "user": {
      "displayName": "Breno Silva",
      "userId": "02632345917845336639"
     },
     "user_tz": 180
    },
    "id": "59aBIxZQotgF",
    "outputId": "083d690d-c446-4e54-fed9-8691f8b54b94"
   },
   "outputs": [
    {
     "data": {
      "text/plain": [
       "array([-1.12565211,  0.66943458, -0.75705499,  0.03810079, -1.08369959,\n",
       "        0.51684037,  0.10531938,  0.2371225 , -0.37470391, -0.02138017,\n",
       "        1.18407295,  0.92211   , -0.37653009, -0.74361059,  0.56097838,\n",
       "       -1.72823533, -0.25624445, -1.19512593, -0.62864691, -0.7745082 ])"
      ]
     },
     "execution_count": 250,
     "metadata": {},
     "output_type": "execute_result"
    }
   ],
   "source": [
    "# Amostra Aleatória: Normal(0, 1)\n",
    "np.random.normal(loc=0, scale=1, size=20)"
   ]
  },
  {
   "cell_type": "code",
   "execution_count": 251,
   "metadata": {
    "colab": {
     "base_uri": "https://localhost:8080/"
    },
    "executionInfo": {
     "elapsed": 40,
     "status": "ok",
     "timestamp": 1748199275094,
     "user": {
      "displayName": "Breno Silva",
      "userId": "02632345917845336639"
     },
     "user_tz": 180
    },
    "id": "5AGW_nN9o2CG",
    "outputId": "77ab8ac0-8537-4797-bfa4-114ed4dd677e"
   },
   "outputs": [
    {
     "data": {
      "text/plain": [
       "array([4.52022764, 5.05668804, 3.39388952, 6.8280577 , 6.24427951,\n",
       "       4.71374694, 7.2126958 , 5.25746445, 3.81805754, 5.53859584,\n",
       "       5.78208174, 6.45556216, 5.48205834, 5.2162848 , 3.4719395 ,\n",
       "       4.97967769, 5.0537519 , 7.10164   , 5.07009274, 4.50703806])"
      ]
     },
     "execution_count": 251,
     "metadata": {},
     "output_type": "execute_result"
    }
   ],
   "source": [
    "# Amostra Aleatória: Normal(5, 1)\n",
    "np.random.normal(loc=5, scale=1, size=20)"
   ]
  },
  {
   "cell_type": "code",
   "execution_count": 252,
   "metadata": {
    "colab": {
     "base_uri": "https://localhost:8080/"
    },
    "executionInfo": {
     "elapsed": 5,
     "status": "ok",
     "timestamp": 1748199275101,
     "user": {
      "displayName": "Breno Silva",
      "userId": "02632345917845336639"
     },
     "user_tz": 180
    },
    "id": "YozOrjuxo4a-",
    "outputId": "5cb91655-e35a-46c7-cd49-458ca6a4fcaf"
   },
   "outputs": [
    {
     "data": {
      "text/plain": [
       "array([-3.72087644, -4.87062854, -5.65262853, -3.96289079, -4.23167309,\n",
       "       -4.69319629, -6.2890283 , -5.63954396, -3.98975395, -5.8147702 ,\n",
       "       -4.56588151, -3.14758784, -4.34893246, -5.26004598, -4.65297927,\n",
       "       -6.18194345, -6.39282225, -5.31821668, -4.11895489, -4.23918948])"
      ]
     },
     "execution_count": 252,
     "metadata": {},
     "output_type": "execute_result"
    }
   ],
   "source": [
    "# Amostra Aleatória: Normal(-5, 1)\n",
    "np.random.normal(loc=-5, scale=1, size=20)"
   ]
  },
  {
   "cell_type": "code",
   "execution_count": 103,
   "metadata": {
    "colab": {
     "base_uri": "https://localhost:8080/"
    },
    "executionInfo": {
     "elapsed": 5,
     "status": "ok",
     "timestamp": 1748199275108,
     "user": {
      "displayName": "Breno Silva",
      "userId": "02632345917845336639"
     },
     "user_tz": 180
    },
    "id": "VIGpmdiNpp9Q",
    "outputId": "9dd01560-6f7a-4aca-9566-e240a9960338"
   },
   "outputs": [
    {
     "data": {
      "text/plain": [
       "array([1, 0, 1, 1, 1, 0, 1, 1, 1, 1, 1, 0, 1, 1, 0, 1, 0, 1, 0, 1])"
      ]
     },
     "execution_count": 103,
     "metadata": {},
     "output_type": "execute_result"
    }
   ],
   "source": [
    "# Amostra Aleatória: Bernoulli(0.5)\n",
    "np.random.binomial(n=1, p=0.5, size=20)"
   ]
  },
  {
   "cell_type": "code",
   "execution_count": 253,
   "metadata": {
    "colab": {
     "base_uri": "https://localhost:8080/"
    },
    "executionInfo": {
     "elapsed": 44,
     "status": "ok",
     "timestamp": 1748199275154,
     "user": {
      "displayName": "Breno Silva",
      "userId": "02632345917845336639"
     },
     "user_tz": 180
    },
    "id": "zT_ohqlCp4h_",
    "outputId": "fc4179e7-7e5f-45fc-9c17-53d4d84de9a0"
   },
   "outputs": [
    {
     "data": {
      "text/plain": [
       "array([5, 3, 3, 5, 5, 5, 5, 3, 5, 2, 3, 4, 5, 4, 4, 6, 5, 5, 5, 2])"
      ]
     },
     "execution_count": 253,
     "metadata": {},
     "output_type": "execute_result"
    }
   ],
   "source": [
    "# Amostra Aleatória: Binomial(10, 0.5)\n",
    "np.random.binomial(n=10, p=0.5, size=20)"
   ]
  },
  {
   "cell_type": "code",
   "execution_count": 254,
   "metadata": {
    "colab": {
     "base_uri": "https://localhost:8080/"
    },
    "executionInfo": {
     "elapsed": 10,
     "status": "ok",
     "timestamp": 1748199275174,
     "user": {
      "displayName": "Breno Silva",
      "userId": "02632345917845336639"
     },
     "user_tz": 180
    },
    "id": "hJve1boZqm7v",
    "outputId": "9b1c8e85-3490-4e94-9017-337277a9252e"
   },
   "outputs": [
    {
     "data": {
      "text/plain": [
       "array([1.06392036, 5.77714384, 9.90254859, 3.55405431, 3.69210844,\n",
       "       3.60030691, 1.87023485, 8.46967608, 3.45936809, 2.47313077,\n",
       "       2.0239376 , 1.46340976, 4.50095772, 3.60036239, 5.23366949,\n",
       "       3.40276356, 7.76970595, 8.25851618, 4.42094759, 1.94467428])"
      ]
     },
     "execution_count": 254,
     "metadata": {},
     "output_type": "execute_result"
    }
   ],
   "source": [
    "# Amostra Aleatória: X^2(5)\n",
    "np.random.chisquare(df=5, size=20)"
   ]
  },
  {
   "cell_type": "code",
   "execution_count": 106,
   "metadata": {
    "colab": {
     "base_uri": "https://localhost:8080/"
    },
    "executionInfo": {
     "elapsed": 24,
     "status": "ok",
     "timestamp": 1748199275200,
     "user": {
      "displayName": "Breno Silva",
      "userId": "02632345917845336639"
     },
     "user_tz": 180
    },
    "id": "fF43RrW8quAY",
    "outputId": "65840a21-98f3-441f-84d2-2f2e3faad98c"
   },
   "outputs": [
    {
     "data": {
      "text/plain": [
       "array([ 9.22693638,  7.83496067, 13.93435278,  7.82028216,  8.26748491,\n",
       "        7.63472503, 14.9077603 , 18.44944339,  5.84584686, 15.95277418,\n",
       "        9.60784246,  6.61421214, 10.80275187, 13.22036751,  6.25341065,\n",
       "        8.04959881,  7.09162618, 19.72096652,  6.11390496, 10.05397996])"
      ]
     },
     "execution_count": 106,
     "metadata": {},
     "output_type": "execute_result"
    }
   ],
   "source": [
    "# Amostra Aleatória: X^2(10)\n",
    "np.random.chisquare(df=10, size=20)"
   ]
  },
  {
   "cell_type": "code",
   "execution_count": 255,
   "metadata": {
    "colab": {
     "base_uri": "https://localhost:8080/"
    },
    "executionInfo": {
     "elapsed": 8,
     "status": "ok",
     "timestamp": 1748199275211,
     "user": {
      "displayName": "Breno Silva",
      "userId": "02632345917845336639"
     },
     "user_tz": 180
    },
    "id": "Cyf2TIYftZwm",
    "outputId": "894311ef-7bcb-47e5-aa28-486710bb805c"
   },
   "outputs": [
    {
     "data": {
      "text/plain": [
       "array([6.76580401e-01, 1.74419661e-01, 3.23456403e-01, 2.40461062e+01,\n",
       "       4.18616249e-01, 1.67151968e+00, 7.40774689e-01, 1.66198938e-01,\n",
       "       4.09083042e-01, 1.12928144e+01, 8.29635468e+00, 6.08325968e-01,\n",
       "       9.35435036e-05, 2.26954665e+00, 7.33688165e+00, 3.11332533e+00,\n",
       "       9.93774827e-05, 6.85653807e-03, 1.23196213e+00, 1.17863688e+01])"
      ]
     },
     "execution_count": 255,
     "metadata": {},
     "output_type": "execute_result"
    }
   ],
   "source": [
    "# Amostra Aleatória: F(1, 2)\n",
    "np.random.f(dfnum=1, dfden=2, size=20)"
   ]
  },
  {
   "cell_type": "code",
   "execution_count": 256,
   "metadata": {
    "colab": {
     "base_uri": "https://localhost:8080/"
    },
    "executionInfo": {
     "elapsed": 15,
     "status": "ok",
     "timestamp": 1748199275228,
     "user": {
      "displayName": "Breno Silva",
      "userId": "02632345917845336639"
     },
     "user_tz": 180
    },
    "id": "01dDayZ7teON",
    "outputId": "4ec3ff84-8896-407a-fa2d-b8eb53942133"
   },
   "outputs": [
    {
     "data": {
      "text/plain": [
       "array([ 0.10194462,  2.22130683,  6.10508766,  0.3766903 , 11.85252189,\n",
       "        0.52486591,  3.48562146,  3.06614267,  0.07433879,  0.11507371,\n",
       "        2.87168528,  0.78168018,  0.50780727,  1.43954215,  1.79091682,\n",
       "        0.40081411,  0.47643623,  0.37697366,  9.8366741 , 10.16786004])"
      ]
     },
     "execution_count": 256,
     "metadata": {},
     "output_type": "execute_result"
    }
   ],
   "source": [
    "# Amostra Aleatória: F(2, 3)\n",
    "np.random.f(dfnum=2, dfden=3, size=20)"
   ]
  },
  {
   "cell_type": "code",
   "execution_count": 109,
   "metadata": {
    "colab": {
     "base_uri": "https://localhost:8080/"
    },
    "executionInfo": {
     "elapsed": 6,
     "status": "ok",
     "timestamp": 1748199275236,
     "user": {
      "displayName": "Breno Silva",
      "userId": "02632345917845336639"
     },
     "user_tz": 180
    },
    "id": "gQuVBLy1rBgM",
    "outputId": "65746e76-b0b6-4be2-a36a-6ae1b2d63867"
   },
   "outputs": [
    {
     "data": {
      "text/plain": [
       "array([0.0470508 , 0.38305739, 0.90973317, 0.63884757, 0.17735595,\n",
       "       6.79886458, 1.0504845 , 0.58262137, 0.75094393, 2.71564485,\n",
       "       1.27990062, 1.9120289 , 0.72054604, 0.07766124, 0.98686138,\n",
       "       1.99662667, 0.27172181, 1.70528061, 0.34844531, 1.49932771])"
      ]
     },
     "execution_count": 109,
     "metadata": {},
     "output_type": "execute_result"
    }
   ],
   "source": [
    "# Amostra Aleatória: Exponencial(1)\n",
    "np.random.exponential(scale=1, size=20)"
   ]
  },
  {
   "cell_type": "code",
   "execution_count": 110,
   "metadata": {
    "colab": {
     "base_uri": "https://localhost:8080/"
    },
    "executionInfo": {
     "elapsed": 9,
     "status": "ok",
     "timestamp": 1748199275247,
     "user": {
      "displayName": "Breno Silva",
      "userId": "02632345917845336639"
     },
     "user_tz": 180
    },
    "id": "vCqKUDkcrWgJ",
    "outputId": "58950d7b-d6ab-4f4d-9c5f-5e445258d9ea"
   },
   "outputs": [
    {
     "data": {
      "text/plain": [
       "array([0.63831098, 0.45973059, 0.27625379, 0.14210058, 0.6855583 ,\n",
       "       0.16399062, 0.04546733, 0.48452174, 0.09194361, 0.07343129,\n",
       "       1.527216  , 0.26894562, 0.59925402, 0.47715741, 0.72483344,\n",
       "       0.84040696, 0.20012093, 0.10220036, 0.06604025, 0.8290231 ])"
      ]
     },
     "execution_count": 110,
     "metadata": {},
     "output_type": "execute_result"
    }
   ],
   "source": [
    "# Amostra Aleatória: Exponencial(1/0.5)\n",
    "np.random.exponential(scale=0.5, size=20)"
   ]
  },
  {
   "cell_type": "code",
   "execution_count": 111,
   "metadata": {
    "colab": {
     "base_uri": "https://localhost:8080/"
    },
    "executionInfo": {
     "elapsed": 69,
     "status": "ok",
     "timestamp": 1748199275313,
     "user": {
      "displayName": "Breno Silva",
      "userId": "02632345917845336639"
     },
     "user_tz": 180
    },
    "id": "lttkDAuUrhlu",
    "outputId": "ca0ff855-3e6d-412a-89d5-8303250a3c8d"
   },
   "outputs": [
    {
     "data": {
      "text/plain": [
       "array([1.13230762, 9.39626794, 0.96334218, 1.79410279, 0.85288125,\n",
       "       0.83798477, 2.68139912, 3.97663493, 0.9565282 , 2.26774815,\n",
       "       0.5057015 , 0.39406914, 2.06671214, 0.48933233, 0.0428429 ,\n",
       "       1.93352417, 0.10453701, 4.88958326, 2.36454656, 0.15799846])"
      ]
     },
     "execution_count": 111,
     "metadata": {},
     "output_type": "execute_result"
    }
   ],
   "source": [
    "# Amostra Aleatória: Exponencial(0.5)\n",
    "np.random.exponential(scale=1/0.5, size=20)"
   ]
  },
  {
   "cell_type": "code",
   "execution_count": 258,
   "metadata": {
    "colab": {
     "base_uri": "https://localhost:8080/"
    },
    "executionInfo": {
     "elapsed": 37,
     "status": "ok",
     "timestamp": 1748199275314,
     "user": {
      "displayName": "Breno Silva",
      "userId": "02632345917845336639"
     },
     "user_tz": 180
    },
    "id": "PImRmmvvuVpl",
    "outputId": "84285026-264c-49ee-e38e-e936fbd2716b"
   },
   "outputs": [
    {
     "data": {
      "text/plain": [
       "array([1.26464126, 1.08327564, 0.5917474 , 0.09181777, 1.07615314,\n",
       "       1.15148636, 0.13488885, 1.37971044, 1.3780318 , 1.40322714,\n",
       "       0.2243136 , 0.87207015, 0.44780609, 1.04706874, 0.50048123,\n",
       "       0.30950582, 0.84893532, 1.7598291 , 1.11207694, 1.58233899])"
      ]
     },
     "execution_count": 258,
     "metadata": {},
     "output_type": "execute_result"
    }
   ],
   "source": [
    "# Amostra Aleatória: Weibull(2, 1)\n",
    "np.random.weibull(a=2, size=20)"
   ]
  },
  {
   "cell_type": "code",
   "execution_count": 259,
   "metadata": {
    "colab": {
     "base_uri": "https://localhost:8080/"
    },
    "executionInfo": {
     "elapsed": 32,
     "status": "ok",
     "timestamp": 1748199275315,
     "user": {
      "displayName": "Breno Silva",
      "userId": "02632345917845336639"
     },
     "user_tz": 180
    },
    "id": "lF2BKz-GuVEd",
    "outputId": "4446a426-42b7-4e37-97ad-f13c1756f7a2"
   },
   "outputs": [
    {
     "data": {
      "text/plain": [
       "array([2.4782386 , 1.99928449, 2.82905528, 2.72652124, 1.61731042,\n",
       "       1.93922173, 0.54021989, 1.06837078, 1.73112323, 0.80893514,\n",
       "       1.83695288, 1.83345339, 3.30527176, 2.30485459, 0.64185782,\n",
       "       1.85062891, 1.15727301, 2.64582421, 2.81775515, 0.64242107])"
      ]
     },
     "execution_count": 259,
     "metadata": {},
     "output_type": "execute_result"
    }
   ],
   "source": [
    "# Amostra Aleatória: Weibull(2, 2)\n",
    "2 * np.random.weibull(a=2, size=20)"
   ]
  },
  {
   "cell_type": "markdown",
   "metadata": {
    "id": "kLVtzKMpuuZg"
   },
   "source": [
    "- Como garantir a replicabilidade do meu projeto?"
   ]
  },
  {
   "cell_type": "code",
   "execution_count": 260,
   "metadata": {
    "colab": {
     "base_uri": "https://localhost:8080/"
    },
    "executionInfo": {
     "elapsed": 13,
     "status": "ok",
     "timestamp": 1748199275315,
     "user": {
      "displayName": "Breno Silva",
      "userId": "02632345917845336639"
     },
     "user_tz": 180
    },
    "id": "SJ_1j6ddu0M9",
    "outputId": "330129a0-d884-4569-dc51-915c2db5ff69"
   },
   "outputs": [
    {
     "data": {
      "text/plain": [
       "array([-0.28408215,  0.12800382, -0.50981626, -0.73080212,  1.91229975,\n",
       "       -1.05353716, -0.75988097, -1.66756969,  2.33767071,  0.01319848])"
      ]
     },
     "execution_count": 260,
     "metadata": {},
     "output_type": "execute_result"
    }
   ],
   "source": [
    "# Amostra Aleatória: Normal(0, 1)\n",
    "np.random.normal(loc=0, scale=1, size=10)"
   ]
  },
  {
   "cell_type": "code",
   "execution_count": 261,
   "metadata": {
    "colab": {
     "base_uri": "https://localhost:8080/"
    },
    "executionInfo": {
     "elapsed": 12,
     "status": "ok",
     "timestamp": 1748199275323,
     "user": {
      "displayName": "Breno Silva",
      "userId": "02632345917845336639"
     },
     "user_tz": 180
    },
    "id": "nqBq66Ezu7Tf",
    "outputId": "de90bdd9-d464-414c-f885-930c45cbc368"
   },
   "outputs": [
    {
     "data": {
      "text/plain": [
       "array([ 1.15010566,  0.58883306, -1.47460278,  0.59146169, -1.13336771,\n",
       "       -0.24601069,  0.71624457, -1.24560655,  1.92587891,  0.20617056])"
      ]
     },
     "execution_count": 261,
     "metadata": {},
     "output_type": "execute_result"
    }
   ],
   "source": [
    "# Amostra Aleatória: Normal(0, 1)\n",
    "np.random.normal(loc=0, scale=1, size=10)"
   ]
  },
  {
   "cell_type": "code",
   "execution_count": 269,
   "metadata": {
    "colab": {
     "base_uri": "https://localhost:8080/"
    },
    "executionInfo": {
     "elapsed": 22,
     "status": "ok",
     "timestamp": 1748199275343,
     "user": {
      "displayName": "Breno Silva",
      "userId": "02632345917845336639"
     },
     "user_tz": 180
    },
    "id": "8RA6YRPYu9a8",
    "outputId": "07c8df91-f2f4-4211-eb87-71a27359c0af"
   },
   "outputs": [
    {
     "data": {
      "text/plain": [
       "array([ 2.212902  ,  2.1283978 ,  1.8417114 ,  0.08238248,  0.85896368,\n",
       "       -0.82601643,  1.15727052,  1.37591514,  0.94302846,  0.8478706 ])"
      ]
     },
     "execution_count": 269,
     "metadata": {},
     "output_type": "execute_result"
    }
   ],
   "source": [
    "# Defini-se estado aleatório (semente)\n",
    "np.random.seed(123456789)\n",
    "\n",
    "# Amostra Aleatória: Normal(0, 1)\n",
    "array_norm = np.random.normal(loc=0, scale=1, size=10)\n",
    "\n",
    "# Visualizar\n",
    "array_norm"
   ]
  },
  {
   "cell_type": "markdown",
   "metadata": {
    "id": "rxrkPIrIH-_P"
   },
   "source": [
    "## (1.4) Operações Matemáticas, Lógicas e Estatísticas"
   ]
  },
  {
   "cell_type": "markdown",
   "metadata": {
    "id": "PiMZcdrVO8yT"
   },
   "source": [
    "### (1.4.1) Operações Matemáticas"
   ]
  },
  {
   "cell_type": "code",
   "execution_count": 270,
   "metadata": {
    "colab": {
     "base_uri": "https://localhost:8080/"
    },
    "executionInfo": {
     "elapsed": 30,
     "status": "ok",
     "timestamp": 1748199275364,
     "user": {
      "displayName": "Breno Silva",
      "userId": "02632345917845336639"
     },
     "user_tz": 180
    },
    "id": "6gJJ5B-gHyrr",
    "outputId": "6de6efef-e2db-4460-b744-10698d5bb1f1"
   },
   "outputs": [
    {
     "name": "stdout",
     "output_type": "stream",
     "text": [
      "[[ 0  2  4]\n",
      " [ 6  8 10]]\n",
      "\n",
      "[[ 1  3  5]\n",
      " [ 7  9 11]]\n"
     ]
    }
   ],
   "source": [
    "# Definindo arrays\n",
    "a = np.arange(0, 12, 2).reshape(2, 3)\n",
    "b = np.arange(1, 12, 2).reshape(2, 3)\n",
    "\n",
    "# Visualizando arrays\n",
    "print(a)\n",
    "print()\n",
    "print(b)"
   ]
  },
  {
   "cell_type": "markdown",
   "metadata": {
    "id": "lx8Dn1LiI0MG"
   },
   "source": [
    "- Operações aritimética com arrays: elemento a elemento"
   ]
  },
  {
   "cell_type": "code",
   "execution_count": 271,
   "metadata": {
    "colab": {
     "base_uri": "https://localhost:8080/"
    },
    "executionInfo": {
     "elapsed": 73,
     "status": "ok",
     "timestamp": 1748199275425,
     "user": {
      "displayName": "Breno Silva",
      "userId": "02632345917845336639"
     },
     "user_tz": 180
    },
    "id": "sBb7mza3IpxS",
    "outputId": "f7cff159-379e-4fd7-b0bc-629d0dc9d1af"
   },
   "outputs": [
    {
     "name": "stdout",
     "output_type": "stream",
     "text": [
      "[[ 1  5  9]\n",
      " [13 17 21]]\n",
      "\n",
      "[[-1 -1 -1]\n",
      " [-1 -1 -1]]\n",
      "\n",
      "[[  0   6  20]\n",
      " [ 42  72 110]]\n",
      "\n",
      "[[0.         0.66666667 0.8       ]\n",
      " [0.85714286 0.88888889 0.90909091]]\n",
      "\n",
      "[[         0          8       1024]\n",
      " [    279936  134217728 1215752192]]\n"
     ]
    }
   ],
   "source": [
    "# Soma\n",
    "soma_matrix = a + b\n",
    "print(soma_matrix)\n",
    "print()\n",
    "\n",
    "# Subtração\n",
    "diff_matrix = a - b\n",
    "print(diff_matrix)\n",
    "print()\n",
    "\n",
    "# Multiplicação\n",
    "mult_matrix = a * b\n",
    "print(mult_matrix)\n",
    "print()\n",
    "\n",
    "# Divisão\n",
    "div_matrix = a / b\n",
    "print(div_matrix)\n",
    "print()\n",
    "\n",
    "# Potenciação\n",
    "exp_matrix = a ** b\n",
    "print(exp_matrix)"
   ]
  },
  {
   "cell_type": "code",
   "execution_count": 272,
   "metadata": {
    "colab": {
     "base_uri": "https://localhost:8080/"
    },
    "executionInfo": {
     "elapsed": 10,
     "status": "ok",
     "timestamp": 1748199275434,
     "user": {
      "displayName": "Breno Silva",
      "userId": "02632345917845336639"
     },
     "user_tz": 180
    },
    "id": "HPG7tsJKJs2q",
    "outputId": "02283629-dbf0-4322-d66c-7d3d7f1c9fdf"
   },
   "outputs": [
    {
     "name": "stdout",
     "output_type": "stream",
     "text": [
      "[[ 1  5  9]\n",
      " [13 17 21]]\n",
      "\n",
      "[[-1 -1 -1]\n",
      " [-1 -1 -1]]\n",
      "\n",
      "[[  0   6  20]\n",
      " [ 42  72 110]]\n",
      "\n",
      "[[0.         0.66666667 0.8       ]\n",
      " [0.85714286 0.88888889 0.90909091]]\n",
      "\n",
      "[[         0          8       1024]\n",
      " [    279936  134217728 1215752192]]\n"
     ]
    }
   ],
   "source": [
    "# Imprime a soma de a e b\n",
    "print(np.add(a, b))\n",
    "print()\n",
    "\n",
    "# Imprime a diferença entre a e b\n",
    "print(np.subtract(a, b))\n",
    "print()\n",
    "\n",
    "# Imprime o produto de a e b\n",
    "print(np.multiply(a, b))\n",
    "print()\n",
    "\n",
    "# Imprime o quociente de a e b\n",
    "print(np.divide(a, b))\n",
    "print()\n",
    "\n",
    "# Imprime a por b elevado à potência de b\n",
    "print(np.power(a, b))"
   ]
  },
  {
   "cell_type": "code",
   "execution_count": 273,
   "metadata": {
    "colab": {
     "base_uri": "https://localhost:8080/"
    },
    "executionInfo": {
     "elapsed": 7,
     "status": "ok",
     "timestamp": 1748199275443,
     "user": {
      "displayName": "Breno Silva",
      "userId": "02632345917845336639"
     },
     "user_tz": 180
    },
    "id": "p8iYY2z2KLea",
    "outputId": "15f7b4a3-7e22-46e6-8151-7c8a6b8ce85f"
   },
   "outputs": [
    {
     "name": "stdout",
     "output_type": "stream",
     "text": [
      "Matriz original:\n",
      " [[ 0  2  4]\n",
      " [ 6  8 10]]\n",
      "\n",
      "Somando 1 a cada elemento:\n",
      " [[ 1  3  5]\n",
      " [ 7  9 11]]\n",
      "\n",
      "Multiplicando cada elemento por 2:\n",
      " [[ 0  4  8]\n",
      " [12 16 20]]\n",
      "\n",
      "Calculando 1 + (2 * a) para cada elemento:\n",
      " [[ 1  5  9]\n",
      " [13 17 21]]\n"
     ]
    }
   ],
   "source": [
    "# Operando uma matriz por um escalar\n",
    "print(\"Matriz original:\\n\", a)\n",
    "print(\"\\nSomando 1 a cada elemento:\\n\", 1 + a)\n",
    "print(\"\\nMultiplicando cada elemento por 2:\\n\", 2 * a)\n",
    "print(\"\\nCalculando 1 + (2 * a) para cada elemento:\\n\", 1 + (2 * a))"
   ]
  },
  {
   "cell_type": "markdown",
   "metadata": {
    "id": "PJFjcO1JLfCF"
   },
   "source": [
    "- Operações não lineares com arrays\n"
   ]
  },
  {
   "cell_type": "code",
   "execution_count": 274,
   "metadata": {
    "colab": {
     "base_uri": "https://localhost:8080/"
    },
    "executionInfo": {
     "elapsed": 22,
     "status": "ok",
     "timestamp": 1748199275492,
     "user": {
      "displayName": "Breno Silva",
      "userId": "02632345917845336639"
     },
     "user_tz": 180
    },
    "id": "bVGriKTBLoxX",
    "outputId": "a2482ca7-7571-4181-9de7-193cb1766953"
   },
   "outputs": [
    {
     "name": "stdout",
     "output_type": "stream",
     "text": [
      "Matriz original:\n",
      " [[ 1  3  5]\n",
      " [ 7  9 11]]\n",
      "\n",
      "Raiz Quadrada:\n",
      " [[1.         1.73205081 2.23606798]\n",
      " [2.64575131 3.         3.31662479]]\n",
      "\n",
      "Exponencial:\n",
      " [[2.71828183e+00 2.00855369e+01 1.48413159e+02]\n",
      " [1.09663316e+03 8.10308393e+03 5.98741417e+04]]\n",
      "\n",
      "Logaritmo Natural:\n",
      " [[0.         1.09861229 1.60943791]\n",
      " [1.94591015 2.19722458 2.39789527]]\n",
      "\n",
      "Seno:\n",
      " [[ 0.84147098  0.14112001 -0.95892427]\n",
      " [ 0.6569866   0.41211849 -0.99999021]]\n",
      "\n",
      "Cosseno:\n",
      " [[ 0.54030231 -0.9899925   0.28366219]\n",
      " [ 0.75390225 -0.91113026  0.0044257 ]]\n",
      "\n",
      "Tangente:\n",
      " [[ 1.55740772e+00 -1.42546543e-01 -3.38051501e+00]\n",
      " [ 8.71447983e-01 -4.52315659e-01 -2.25950846e+02]]\n"
     ]
    }
   ],
   "source": [
    "print(\"Matriz original:\\n\", b)\n",
    "print(\"\\nRaiz Quadrada:\\n\", np.sqrt(b))\n",
    "print(\"\\nExponencial:\\n\", np.exp(b))\n",
    "print(\"\\nLogaritmo Natural:\\n\", np.log(b))\n",
    "print(\"\\nSeno:\\n\", np.sin(b))\n",
    "print(\"\\nCosseno:\\n\", np.cos(b))\n",
    "print(\"\\nTangente:\\n\", np.tan(b))"
   ]
  },
  {
   "cell_type": "markdown",
   "metadata": {
    "id": "nCK_yG1jMMMB"
   },
   "source": [
    "- Operações de álgebra linear para `arrays`"
   ]
  },
  {
   "cell_type": "code",
   "execution_count": 275,
   "metadata": {
    "colab": {
     "base_uri": "https://localhost:8080/"
    },
    "executionInfo": {
     "elapsed": 7,
     "status": "ok",
     "timestamp": 1748199275503,
     "user": {
      "displayName": "Breno Silva",
      "userId": "02632345917845336639"
     },
     "user_tz": 180
    },
    "id": "WvNrrdK9MouR",
    "outputId": "d24b903b-a3b0-4a6c-f56a-230f51aa4be0"
   },
   "outputs": [
    {
     "data": {
      "text/plain": [
       "array([[2, 2],\n",
       "       [2, 2]])"
      ]
     },
     "execution_count": 275,
     "metadata": {},
     "output_type": "execute_result"
    }
   ],
   "source": [
    "# Definição de array\n",
    "arr1 = np.full(shape=(2, 2), fill_value=2)\n",
    "\n",
    "# Visualização\n",
    "arr1"
   ]
  },
  {
   "cell_type": "code",
   "execution_count": 276,
   "metadata": {
    "colab": {
     "base_uri": "https://localhost:8080/"
    },
    "executionInfo": {
     "elapsed": 22,
     "status": "ok",
     "timestamp": 1748199275529,
     "user": {
      "displayName": "Breno Silva",
      "userId": "02632345917845336639"
     },
     "user_tz": 180
    },
    "id": "aMc5d8PzM8-o",
    "outputId": "7ceeaa4c-6897-42fb-b543-701f27af2426"
   },
   "outputs": [
    {
     "data": {
      "text/plain": [
       "array([[0, 1],\n",
       "       [2, 3]])"
      ]
     },
     "execution_count": 276,
     "metadata": {},
     "output_type": "execute_result"
    }
   ],
   "source": [
    "# Definição de array\n",
    "arr2 = np.arange(4).reshape(2, 2)\n",
    "\n",
    "# Visualização\n",
    "arr2"
   ]
  },
  {
   "cell_type": "code",
   "execution_count": 277,
   "metadata": {
    "colab": {
     "base_uri": "https://localhost:8080/"
    },
    "executionInfo": {
     "elapsed": 109,
     "status": "ok",
     "timestamp": 1748199275640,
     "user": {
      "displayName": "Breno Silva",
      "userId": "02632345917845336639"
     },
     "user_tz": 180
    },
    "id": "C81QYIHSNZ7P",
    "outputId": "02585e36-622a-4742-c735-1215a7e1674a"
   },
   "outputs": [
    {
     "data": {
      "text/plain": [
       "array([[ 1.00000000e+00,  3.50000000e+01,  3.33333333e-01],\n",
       "       [ 3.00000000e+00,  1.00000000e+01, -1.00000000e+00],\n",
       "       [ 3.33333333e-01, -1.00000000e+00,  1.00000000e-10]])"
      ]
     },
     "execution_count": 277,
     "metadata": {},
     "output_type": "execute_result"
    }
   ],
   "source": [
    "# Definição de array\n",
    "arr3 = np.array([\n",
    "    [1, 35, 1/3],\n",
    "    [3, 10, -1],\n",
    "    [1/3, -1, 1e-10]\n",
    "])\n",
    "\n",
    "# Visualização\n",
    "arr3"
   ]
  },
  {
   "cell_type": "code",
   "execution_count": 278,
   "metadata": {
    "colab": {
     "base_uri": "https://localhost:8080/"
    },
    "executionInfo": {
     "elapsed": 55,
     "status": "ok",
     "timestamp": 1748199275643,
     "user": {
      "displayName": "Breno Silva",
      "userId": "02632345917845336639"
     },
     "user_tz": 180
    },
    "id": "kG7khlQTNwml",
    "outputId": "e7197745-6c22-442e-b910-43631b373c2b"
   },
   "outputs": [
    {
     "data": {
      "text/plain": [
       "array([[ 2.90000000e+001,  6.40000000e+001,  4.00000000e-002],\n",
       "       [ 3.00000000e+000,  1.00000000e+001, -5.15169875e+001],\n",
       "       [ 3.33333333e-001, -1.00000000e+010,  1.00000000e-100]])"
      ]
     },
     "execution_count": 278,
     "metadata": {},
     "output_type": "execute_result"
    }
   ],
   "source": [
    "# Definição de array\n",
    "arr4 = np.array([\n",
    "    [29, 64, 1/25],\n",
    "    [3, 10, -np.sqrt(2654)],\n",
    "    [1/3, -1e+10, 1e-100]\n",
    "])\n",
    "\n",
    "# Visualização\n",
    "arr4"
   ]
  },
  {
   "cell_type": "code",
   "execution_count": 279,
   "metadata": {
    "colab": {
     "base_uri": "https://localhost:8080/"
    },
    "executionInfo": {
     "elapsed": 14,
     "status": "ok",
     "timestamp": 1748199275657,
     "user": {
      "displayName": "Breno Silva",
      "userId": "02632345917845336639"
     },
     "user_tz": 180
    },
    "id": "8q4XffpxMGZu",
    "outputId": "e6f9c54d-5519-4a00-c0cf-433ffaaf6bb4"
   },
   "outputs": [
    {
     "data": {
      "text/plain": [
       "0.0"
      ]
     },
     "execution_count": 279,
     "metadata": {},
     "output_type": "execute_result"
    }
   ],
   "source": [
    "# Determiante\n",
    "np.linalg.det(arr1)"
   ]
  },
  {
   "cell_type": "code",
   "execution_count": 280,
   "metadata": {
    "colab": {
     "base_uri": "https://localhost:8080/"
    },
    "executionInfo": {
     "elapsed": 9,
     "status": "ok",
     "timestamp": 1748199275669,
     "user": {
      "displayName": "Breno Silva",
      "userId": "02632345917845336639"
     },
     "user_tz": 180
    },
    "id": "01XKkYWLMb81",
    "outputId": "de87d7a9-e826-4c5c-bd6b-46aea03e92bf"
   },
   "outputs": [
    {
     "data": {
      "text/plain": [
       "-2.0"
      ]
     },
     "execution_count": 280,
     "metadata": {},
     "output_type": "execute_result"
    }
   ],
   "source": [
    "# Determiante\n",
    "np.linalg.det(arr2)"
   ]
  },
  {
   "cell_type": "code",
   "execution_count": 281,
   "metadata": {
    "colab": {
     "base_uri": "https://localhost:8080/"
    },
    "executionInfo": {
     "elapsed": 10,
     "status": "ok",
     "timestamp": 1748199275680,
     "user": {
      "displayName": "Breno Silva",
      "userId": "02632345917845336639"
     },
     "user_tz": 180
    },
    "id": "r-MqcZHlNWy8",
    "outputId": "97a48b31-8cbb-49cc-de61-e1a8e0148894"
   },
   "outputs": [
    {
     "data": {
      "text/plain": [
       "-14.77777778727777"
      ]
     },
     "execution_count": 281,
     "metadata": {},
     "output_type": "execute_result"
    }
   ],
   "source": [
    "# Determinante\n",
    "np.linalg.det(arr3)"
   ]
  },
  {
   "cell_type": "code",
   "execution_count": 282,
   "metadata": {
    "colab": {
     "base_uri": "https://localhost:8080/"
    },
    "executionInfo": {
     "elapsed": 33,
     "status": "ok",
     "timestamp": 1748199275715,
     "user": {
      "displayName": "Breno Silva",
      "userId": "02632345917845336639"
     },
     "user_tz": 180
    },
    "id": "Gc3S-T3DNt7D",
    "outputId": "43c42d77-fc60-46b8-85e2-47b305ffa1d0"
   },
   "outputs": [
    {
     "data": {
      "text/plain": [
       "-14941126373073.02"
      ]
     },
     "execution_count": 282,
     "metadata": {},
     "output_type": "execute_result"
    }
   ],
   "source": [
    "# Determinante\n",
    "np.linalg.det(arr4)"
   ]
  },
  {
   "cell_type": "code",
   "execution_count": 283,
   "metadata": {
    "colab": {
     "base_uri": "https://localhost:8080/"
    },
    "executionInfo": {
     "elapsed": 9,
     "status": "ok",
     "timestamp": 1748199275726,
     "user": {
      "displayName": "Breno Silva",
      "userId": "02632345917845336639"
     },
     "user_tz": 180
    },
    "id": "z1P7C_6qODEC",
    "outputId": "a0536d32-55a8-43df-c68a-b08f1afd9ff6"
   },
   "outputs": [
    {
     "name": "stdout",
     "output_type": "stream",
     "text": [
      "[[2 2]\n",
      " [2 2]]\n",
      "\n",
      "[[0 2]\n",
      " [1 3]]\n",
      "\n",
      "[[ 1.00000000e+00  3.00000000e+00  3.33333333e-01]\n",
      " [ 3.50000000e+01  1.00000000e+01 -1.00000000e+00]\n",
      " [ 3.33333333e-01 -1.00000000e+00  1.00000000e-10]]\n",
      "\n",
      "[[ 2.90000000e+001  3.00000000e+000  3.33333333e-001]\n",
      " [ 6.40000000e+001  1.00000000e+001 -1.00000000e+010]\n",
      " [ 4.00000000e-002 -5.15169875e+001  1.00000000e-100]]\n",
      "\n"
     ]
    }
   ],
   "source": [
    "# Transposta\n",
    "for arr in [arr1, arr2, arr3, arr4]:\n",
    "  print(np.transpose(arr))\n",
    "  print()"
   ]
  },
  {
   "cell_type": "code",
   "execution_count": 284,
   "metadata": {
    "colab": {
     "base_uri": "https://localhost:8080/"
    },
    "executionInfo": {
     "elapsed": 11,
     "status": "ok",
     "timestamp": 1748199275741,
     "user": {
      "displayName": "Breno Silva",
      "userId": "02632345917845336639"
     },
     "user_tz": 180
    },
    "id": "2WkihMwoOMD6",
    "outputId": "4a8fb480-070d-47e7-9249-c93c94a25960"
   },
   "outputs": [
    {
     "name": "stdout",
     "output_type": "stream",
     "text": [
      "[[-1.5  0.5]\n",
      " [ 1.   0. ]]\n",
      "\n",
      "[[ 0.06766917  0.02255639  2.59398496]\n",
      " [ 0.02255639  0.0075188  -0.13533835]\n",
      " [ 0.42857143 -0.85714286  6.42857142]]\n",
      "\n",
      "[[ 3.44799891e-02  2.67717433e-05  2.20698702e-10]\n",
      " [ 1.14933297e-12  8.92391444e-16 -1.00000000e-10]\n",
      " [ 2.00788075e-03 -1.94095139e-02 -6.55907711e-12]]\n",
      "\n"
     ]
    }
   ],
   "source": [
    "# Inversa\n",
    "for arr in [arr2, arr3, arr4]:\n",
    "  print(np.linalg.inv(arr))\n",
    "  print()"
   ]
  },
  {
   "cell_type": "markdown",
   "metadata": {
    "id": "KeePKfjuOiKS"
   },
   "source": [
    "> **Nota:** Para mais funções de Álgebra linear: [`np.linalg`](https://numpy.org/doc/stable/reference/routines.linalg.html)"
   ]
  },
  {
   "cell_type": "markdown",
   "metadata": {
    "id": "Jdo_j8QSReMW"
   },
   "source": [
    "### (1.4.2) Operações Lógicas"
   ]
  },
  {
   "cell_type": "code",
   "execution_count": 285,
   "metadata": {
    "colab": {
     "base_uri": "https://localhost:8080/"
    },
    "executionInfo": {
     "elapsed": 52,
     "status": "ok",
     "timestamp": 1748199275792,
     "user": {
      "displayName": "Breno Silva",
      "userId": "02632345917845336639"
     },
     "user_tz": 180
    },
    "id": "MVVT_FGkOcKS",
    "outputId": "185846d8-3de5-49f5-f4c0-e26fa473686c"
   },
   "outputs": [
    {
     "data": {
      "text/plain": [
       "array([[ 0,  1,  2,  3,  4,  5,  6],\n",
       "       [ 7,  8,  9, 10, 11, 12, 13],\n",
       "       [14, 15, 16, 17, 18, 19, 20]])"
      ]
     },
     "execution_count": 285,
     "metadata": {},
     "output_type": "execute_result"
    }
   ],
   "source": [
    "# Definindo array\n",
    "arr = np.arange(0, 21).reshape(3, 7)\n",
    "\n",
    "# Visualizar\n",
    "arr"
   ]
  },
  {
   "cell_type": "markdown",
   "metadata": {
    "id": "iMzfPlPTfTHd"
   },
   "source": [
    "* `np.where(condição_booleana, valores_para_condição_verdadeira, valores_para_condição_falsa)`\n",
    "\n",
    "* `np.logical_and(array_one, array_two)`: Se `array_one` **E** `array_two` forem verdadeiro, o resultado é verdadeiro.\n",
    "\n",
    "* `np.logical_or(array_one, array_two)`: Se `array_one` **OU** `array_two` forem verdadeiro, o resultado é verdadeiro."
   ]
  },
  {
   "cell_type": "code",
   "execution_count": 286,
   "metadata": {
    "colab": {
     "base_uri": "https://localhost:8080/"
    },
    "executionInfo": {
     "elapsed": 14,
     "status": "ok",
     "timestamp": 1748199275794,
     "user": {
      "displayName": "Breno Silva",
      "userId": "02632345917845336639"
     },
     "user_tz": 180
    },
    "id": "BmjYn1EtfNYk",
    "outputId": "84c60bc1-acae-489e-d9b1-ac828d139b95"
   },
   "outputs": [
    {
     "data": {
      "text/plain": [
       "array([['par', 'ímpar', 'par', 'ímpar', 'par', 'ímpar', 'par'],\n",
       "       ['ímpar', 'par', 'ímpar', 'par', 'ímpar', 'par', 'ímpar'],\n",
       "       ['par', 'ímpar', 'par', 'ímpar', 'par', 'ímpar', 'par']],\n",
       "      dtype='<U5')"
      ]
     },
     "execution_count": 286,
     "metadata": {},
     "output_type": "execute_result"
    }
   ],
   "source": [
    "# Modificando com base em operação booleana\n",
    "arr_modif = np.where(arr % 2 == 0, \"par\", \"ímpar\")\n",
    "\n",
    "# Visualizar\n",
    "arr_modif"
   ]
  },
  {
   "cell_type": "code",
   "execution_count": 287,
   "metadata": {
    "colab": {
     "base_uri": "https://localhost:8080/"
    },
    "executionInfo": {
     "elapsed": 18,
     "status": "ok",
     "timestamp": 1748199275822,
     "user": {
      "displayName": "Breno Silva",
      "userId": "02632345917845336639"
     },
     "user_tz": 180
    },
    "id": "Ov6OU07QgEnk",
    "outputId": "0a41ef6a-98e1-423c-ae39-f3afd4d02365"
   },
   "outputs": [
    {
     "name": "stdout",
     "output_type": "stream",
     "text": [
      "[[False  True  True]\n",
      " [ True  True  True]]\n",
      "\n",
      "[[ True  True  True]\n",
      " [ True  True  True]]\n"
     ]
    }
   ],
   "source": [
    "# Definindo arrays\n",
    "array_one = np.array([True, False, True])\n",
    "array_two = np.array([False, True, True])\n",
    "\n",
    "# Imprimindo comparação\n",
    "print(np.logical_and(a, b))\n",
    "print()\n",
    "print(np.logical_or(a, b))"
   ]
  },
  {
   "cell_type": "code",
   "execution_count": 288,
   "metadata": {
    "colab": {
     "base_uri": "https://localhost:8080/"
    },
    "executionInfo": {
     "elapsed": 22,
     "status": "ok",
     "timestamp": 1748199275835,
     "user": {
      "displayName": "Breno Silva",
      "userId": "02632345917845336639"
     },
     "user_tz": 180
    },
    "id": "vRSaq0Vngrnu",
    "outputId": "78aea39e-6d6a-4002-8484-7c5f0fa1cb89"
   },
   "outputs": [
    {
     "name": "stdout",
     "output_type": "stream",
     "text": [
      "[[ True False False False  True False False]\n",
      " [False  True False False False  True False]\n",
      " [False False  True False False False  True]]\n",
      "\n",
      "[[ True False  True False  True False  True]\n",
      " [False  True False  True False  True False]\n",
      " [ True False  True False  True False  True]]\n"
     ]
    }
   ],
   "source": [
    "# Imprimindo comparação\n",
    "print(np.logical_and(arr % 2 == 0, arr % 4 == 0))\n",
    "print()\n",
    "print(np.logical_or(arr % 2 == 0, arr % 4 == 0))"
   ]
  },
  {
   "cell_type": "markdown",
   "metadata": {
    "id": "HvNaszRURmX4"
   },
   "source": [
    "### (1.4.3) Operações Estatísticas"
   ]
  },
  {
   "cell_type": "code",
   "execution_count": 289,
   "metadata": {
    "colab": {
     "base_uri": "https://localhost:8080/"
    },
    "executionInfo": {
     "elapsed": 18,
     "status": "ok",
     "timestamp": 1748199275854,
     "user": {
      "displayName": "Breno Silva",
      "userId": "02632345917845336639"
     },
     "user_tz": 180
    },
    "id": "gOMC-yJjzJFh",
    "outputId": "4d8842b8-9f64-4f0f-fd09-39670f0cdcc8"
   },
   "outputs": [
    {
     "data": {
      "text/plain": [
       "array([ 8, 10,  5,  9,  7,  1,  3,  4,  2,  6])"
      ]
     },
     "execution_count": 289,
     "metadata": {},
     "output_type": "execute_result"
    }
   ],
   "source": [
    "# Definindo array\n",
    "array_data = np.arange(1, 11)\n",
    "\n",
    "# Embalhando os dados\n",
    "np.random.shuffle(array_data)\n",
    "\n",
    "# Visualizar\n",
    "array_data"
   ]
  },
  {
   "cell_type": "code",
   "execution_count": 137,
   "metadata": {
    "colab": {
     "base_uri": "https://localhost:8080/"
    },
    "executionInfo": {
     "elapsed": 22,
     "status": "ok",
     "timestamp": 1748199275879,
     "user": {
      "displayName": "Breno Silva",
      "userId": "02632345917845336639"
     },
     "user_tz": 180
    },
    "id": "U_ayLgXc0mHp",
    "outputId": "acd5d07b-10ab-469a-fc74-709914ca58f6"
   },
   "outputs": [
    {
     "name": "stdout",
     "output_type": "stream",
     "text": [
      "Mínimo: 1\n",
      "Q1 (25%): 3.25\n",
      "Q2 (50%): 5.5\n",
      "Q3 (75%): 7.75\n",
      "Máximo: 10\n"
     ]
    }
   ],
   "source": [
    "# Calculando as Estatísticas de Ordem\n",
    "print(f\"Mínimo: {np.min(array_data)}\")\n",
    "print(f\"Q1 (25%): {np.quantile(array_data, 0.25)}\")\n",
    "print(f\"Q2 (50%): {np.quantile(array_data, 0.50)}\")\n",
    "print(f\"Q3 (75%): {np.quantile(array_data, 0.75)}\")\n",
    "print(f\"Máximo: {np.max(array_data)}\")"
   ]
  },
  {
   "cell_type": "code",
   "execution_count": 138,
   "metadata": {
    "colab": {
     "base_uri": "https://localhost:8080/"
    },
    "executionInfo": {
     "elapsed": 6,
     "status": "ok",
     "timestamp": 1748199275886,
     "user": {
      "displayName": "Breno Silva",
      "userId": "02632345917845336639"
     },
     "user_tz": 180
    },
    "id": "mZiNTmoU1lz8",
    "outputId": "17871839-2c08-4b12-dfcd-86d1006dd8fc"
   },
   "outputs": [
    {
     "name": "stdout",
     "output_type": "stream",
     "text": [
      "Média: 5.5\n",
      "Mediana: 5.5\n"
     ]
    }
   ],
   "source": [
    "# Calculando Medidas de Tendência Central\n",
    "print(\"Média:\", np.mean(array_data))\n",
    "print(\"Mediana:\", np.median(array_data))"
   ]
  },
  {
   "cell_type": "code",
   "execution_count": 139,
   "metadata": {
    "colab": {
     "base_uri": "https://localhost:8080/"
    },
    "executionInfo": {
     "elapsed": 17,
     "status": "ok",
     "timestamp": 1748199275903,
     "user": {
      "displayName": "Breno Silva",
      "userId": "02632345917845336639"
     },
     "user_tz": 180
    },
    "id": "8-dQVC4x2Wlz",
    "outputId": "0afba834-9fc4-4875-93d4-0e50c61c7430"
   },
   "outputs": [
    {
     "name": "stdout",
     "output_type": "stream",
     "text": [
      "Desvio padrão: 2.8722813232690143\n",
      "Variância: 8.25\n",
      "Amplitude Total: 9\n"
     ]
    }
   ],
   "source": [
    "# Calculando Medidas de Variabilidade\n",
    "print(\"Desvio padrão:\", np.std(array_data))\n",
    "print(\"Variância:\", np.var(array_data))\n",
    "print(f\"Amplitude Total: {np.max(array_data) - np.min(array_data)}\")"
   ]
  },
  {
   "cell_type": "code",
   "execution_count": 140,
   "metadata": {
    "colab": {
     "base_uri": "https://localhost:8080/"
    },
    "executionInfo": {
     "elapsed": 11,
     "status": "ok",
     "timestamp": 1748199275945,
     "user": {
      "displayName": "Breno Silva",
      "userId": "02632345917845336639"
     },
     "user_tz": 180
    },
    "id": "kmy5_eZZ2uqB",
    "outputId": "796abc11-7876-40ee-c999-928201fb9711"
   },
   "outputs": [
    {
     "name": "stdout",
     "output_type": "stream",
     "text": [
      "Dados ordenados: [ 1  2  3  4  5  6  7  8  9 10]\n",
      "Tamanho da Amostra: 10\n",
      "Soma total: 55\n"
     ]
    }
   ],
   "source": [
    "# Outras medidas\n",
    "print(\"Dados ordenados:\", np.sort(array_data))\n",
    "print(f\"Tamanho da Amostra: {len(array_data)}\")\n",
    "print(\"Soma total:\", np.sum(array_data))"
   ]
  },
  {
   "cell_type": "code",
   "execution_count": 290,
   "metadata": {
    "colab": {
     "base_uri": "https://localhost:8080/"
    },
    "executionInfo": {
     "elapsed": 20,
     "status": "ok",
     "timestamp": 1748199275967,
     "user": {
      "displayName": "Breno Silva",
      "userId": "02632345917845336639"
     },
     "user_tz": 180
    },
    "id": "wmHsFjPlzI_5",
    "outputId": "20cd1d77-d0a2-4abd-b897-5d56a035124b"
   },
   "outputs": [
    {
     "name": "stdout",
     "output_type": "stream",
     "text": [
      "[13  7 14 12  9  8  9  5  8  9  7  9 10  6  8 13 12 10 14  5 10  8  5  5\n",
      "  8]\n",
      "\n",
      "[40.66554425 98.02586037 54.20651799 24.22946119 25.22416821 56.51557864\n",
      " 13.33368799 87.62585589 48.0331855  28.3325868  89.22107811 82.76319705\n",
      " 97.99704702 86.72329719 19.3505653  45.44906731 80.51827816 74.72314167\n",
      " 91.99597185 22.04699297 99.7953098  60.27965203  3.55184574 55.55210785\n",
      " 31.96425219]\n"
     ]
    }
   ],
   "source": [
    "# Defini-se estado aleatório (semente)\n",
    "np.random.seed(123456789)\n",
    "\n",
    "# Definido arrays\n",
    "arr1 = np.random.randint(low=5, high=15, size=25)\n",
    "arr2 = np.random.rand(25) * 100\n",
    "\n",
    "# Visualizar\n",
    "print(arr1)\n",
    "print()\n",
    "print(arr2)"
   ]
  },
  {
   "cell_type": "markdown",
   "metadata": {
    "id": "NUsWKp3m3zcF"
   },
   "source": [
    "Considere `arr1` como tempo de serviço e `arr2` como salário. Qual o grau de dependência entre eles?"
   ]
  },
  {
   "cell_type": "code",
   "execution_count": 142,
   "metadata": {
    "colab": {
     "base_uri": "https://localhost:8080/"
    },
    "executionInfo": {
     "elapsed": 31,
     "status": "ok",
     "timestamp": 1748199276000,
     "user": {
      "displayName": "Breno Silva",
      "userId": "02632345917845336639"
     },
     "user_tz": 180
    },
    "id": "19DyMXTTzI82",
    "outputId": "45738681-ece2-4c50-b17c-0d7591ae61e6"
   },
   "outputs": [
    {
     "data": {
      "text/plain": [
       "array([[  7.87333333,   8.04334875],\n",
       "       [  8.04334875, 926.87999914]])"
      ]
     },
     "execution_count": 142,
     "metadata": {},
     "output_type": "execute_result"
    }
   ],
   "source": [
    "# Matriz de Covariâncias\n",
    "np.cov(arr1, arr2)"
   ]
  },
  {
   "cell_type": "code",
   "execution_count": 143,
   "metadata": {
    "colab": {
     "base_uri": "https://localhost:8080/"
    },
    "executionInfo": {
     "elapsed": 5,
     "status": "ok",
     "timestamp": 1748199276006,
     "user": {
      "displayName": "Breno Silva",
      "userId": "02632345917845336639"
     },
     "user_tz": 180
    },
    "id": "OqhlUTo9zI5X",
    "outputId": "86a3f2bc-439b-417f-8a8b-620f42159b65"
   },
   "outputs": [
    {
     "data": {
      "text/plain": [
       "array([[1.        , 0.09415553],\n",
       "       [0.09415553, 1.        ]])"
      ]
     },
     "execution_count": 143,
     "metadata": {},
     "output_type": "execute_result"
    }
   ],
   "source": [
    "# Matriz de Correlações\n",
    "np.corrcoef(arr1, arr2)"
   ]
  },
  {
   "cell_type": "code",
   "execution_count": 291,
   "metadata": {
    "colab": {
     "base_uri": "https://localhost:8080/"
    },
    "executionInfo": {
     "elapsed": 6,
     "status": "ok",
     "timestamp": 1748199276014,
     "user": {
      "displayName": "Breno Silva",
      "userId": "02632345917845336639"
     },
     "user_tz": 180
    },
    "id": "wILtzdWP4S-T",
    "outputId": "9c48931c-04b8-4f3f-e66f-96aa68822033"
   },
   "outputs": [
    {
     "name": "stdout",
     "output_type": "stream",
     "text": [
      "[13  7 14 12  9  8  9  5  8  9  7  9 10  6  8 13 12 10 14  5 10  8  5  5\n",
      "  8]\n",
      "\n",
      "[35.39492156 16.93733403 19.0904603  32.59690981 26.65963394  4.18277233\n",
      "  4.33068236 10.85071787 17.96803779  8.81522433 23.68565475 30.13558025\n",
      " 25.61256487  9.87536839 20.23564359 12.30633438 50.5862978  29.195676\n",
      " 25.20784859 11.45271441 33.70079148 27.03946018 14.09027327 10.81570894\n",
      "  4.13313471]\n"
     ]
    }
   ],
   "source": [
    "# Defini-se estado aleatório (semente)\n",
    "np.random.seed(123456789)\n",
    "\n",
    "# Definido arrays\n",
    "arr1 = np.random.randint(low=5, high=15, size=25)\n",
    "arr2 = 2.5 * arr1 + np.random.normal(loc=0, scale=10, size=25)\n",
    "\n",
    "# Visualizar\n",
    "print(arr1)\n",
    "print()\n",
    "print(arr2)"
   ]
  },
  {
   "cell_type": "code",
   "execution_count": 292,
   "metadata": {
    "colab": {
     "base_uri": "https://localhost:8080/"
    },
    "executionInfo": {
     "elapsed": 10,
     "status": "ok",
     "timestamp": 1748199276037,
     "user": {
      "displayName": "Breno Silva",
      "userId": "02632345917845336639"
     },
     "user_tz": 180
    },
    "id": "TO3yLlAMRpLM",
    "outputId": "3a25b7da-1c22-4e7f-e3f9-2f8364ba3a6b"
   },
   "outputs": [
    {
     "data": {
      "text/plain": [
       "array([[  7.87333333,  16.55343433],\n",
       "       [ 16.55343433, 133.16929709]])"
      ]
     },
     "execution_count": 292,
     "metadata": {},
     "output_type": "execute_result"
    }
   ],
   "source": [
    "# Matriz de Covariâncias\n",
    "np.cov(arr1, arr2)"
   ]
  },
  {
   "cell_type": "code",
   "execution_count": 293,
   "metadata": {
    "colab": {
     "base_uri": "https://localhost:8080/"
    },
    "executionInfo": {
     "elapsed": 26,
     "status": "ok",
     "timestamp": 1748199276064,
     "user": {
      "displayName": "Breno Silva",
      "userId": "02632345917845336639"
     },
     "user_tz": 180
    },
    "id": "BVwEHuu_4iEM",
    "outputId": "91dad54c-3e7c-4978-9268-6c90d5fef465"
   },
   "outputs": [
    {
     "data": {
      "text/plain": [
       "array([[1.        , 0.51121871],\n",
       "       [0.51121871, 1.        ]])"
      ]
     },
     "execution_count": 293,
     "metadata": {},
     "output_type": "execute_result"
    }
   ],
   "source": [
    "# Matriz de Correlações\n",
    "np.corrcoef(arr1, arr2)"
   ]
  },
  {
   "cell_type": "markdown",
   "metadata": {
    "id": "T_XNDurq5M0_"
   },
   "source": [
    "Mas e se o `array` que eu estou lidando não for numérico?"
   ]
  },
  {
   "cell_type": "code",
   "execution_count": 147,
   "metadata": {
    "colab": {
     "base_uri": "https://localhost:8080/"
    },
    "executionInfo": {
     "elapsed": 6,
     "status": "ok",
     "timestamp": 1748199276091,
     "user": {
      "displayName": "Breno Silva",
      "userId": "02632345917845336639"
     },
     "user_tz": 180
    },
    "id": "0hIbXH5e5Tuy",
    "outputId": "25f1d30a-2201-499a-a27d-8b25b8ee6bfc"
   },
   "outputs": [
    {
     "name": "stdout",
     "output_type": "stream",
     "text": [
      "Amostra Aleatória de uma Bernoulli(2/3):\n",
      "[1 1 1 0 1 0 0 1 0 1 0 0 0 1 1 1 1 1 1 0 1 0 1 1 0]\n",
      "\n",
      "Amostra Aleatória de uma Bernoulli(2/3) modificada:\n",
      "['coroa' 'coroa' 'coroa' 'cara' 'coroa' 'cara' 'cara' 'coroa' 'cara'\n",
      " 'coroa' 'cara' 'cara' 'cara' 'coroa' 'coroa' 'coroa' 'coroa' 'coroa'\n",
      " 'coroa' 'cara' 'coroa' 'cara' 'coroa' 'coroa' 'cara']\n"
     ]
    }
   ],
   "source": [
    "# Defini-se estado aleatório (semente)\n",
    "np.random.seed(123456789)\n",
    "\n",
    "# Definindo array\n",
    "arr = np.random.binomial(n=1, p=2/3, size=25)\n",
    "\n",
    "# Visualizar\n",
    "print(f\"Amostra Aleatória de uma Bernoulli(2/3):\\n{arr}\")\n",
    "\n",
    "# Modificando para uma melhor visualização\n",
    "arr_modif = np.where(arr == 1, \"coroa\", \"cara\")\n",
    "\n",
    "# Visualizar\n",
    "print(f\"\\nAmostra Aleatória de uma Bernoulli(2/3) modificada:\\n{arr_modif}\")"
   ]
  },
  {
   "cell_type": "code",
   "execution_count": 148,
   "metadata": {
    "colab": {
     "base_uri": "https://localhost:8080/"
    },
    "executionInfo": {
     "elapsed": 6,
     "status": "ok",
     "timestamp": 1748199276099,
     "user": {
      "displayName": "Breno Silva",
      "userId": "02632345917845336639"
     },
     "user_tz": 180
    },
    "id": "x1O06Vz66fTx",
    "outputId": "f15350ff-f607-48cb-e6fe-eb55168c1cf0"
   },
   "outputs": [
    {
     "data": {
      "text/plain": [
       "array(['cara', 'coroa'], dtype='<U5')"
      ]
     },
     "execution_count": 148,
     "metadata": {},
     "output_type": "execute_result"
    }
   ],
   "source": [
    "# Quais valores únicos?\n",
    "np.unique(arr_modif)"
   ]
  },
  {
   "cell_type": "code",
   "execution_count": 149,
   "metadata": {
    "colab": {
     "base_uri": "https://localhost:8080/"
    },
    "executionInfo": {
     "elapsed": 8,
     "status": "ok",
     "timestamp": 1748199276109,
     "user": {
      "displayName": "Breno Silva",
      "userId": "02632345917845336639"
     },
     "user_tz": 180
    },
    "id": "GI5I8XIA7J6C",
    "outputId": "f5a286b9-948e-438d-ec3b-89041015dd2e"
   },
   "outputs": [
    {
     "data": {
      "text/plain": [
       "array([10, 15], dtype=int64)"
      ]
     },
     "execution_count": 149,
     "metadata": {},
     "output_type": "execute_result"
    }
   ],
   "source": [
    "# Frequência dessas valores?\n",
    "np.bincount(arr)"
   ]
  },
  {
   "cell_type": "code",
   "execution_count": 150,
   "metadata": {
    "colab": {
     "base_uri": "https://localhost:8080/"
    },
    "executionInfo": {
     "elapsed": 35,
     "status": "ok",
     "timestamp": 1748199276161,
     "user": {
      "displayName": "Breno Silva",
      "userId": "02632345917845336639"
     },
     "user_tz": 180
    },
    "id": "uVKfST3s7Dkp",
    "outputId": "f96d930f-6304-45b4-87dc-48ae22dcd58d"
   },
   "outputs": [
    {
     "data": {
      "text/plain": [
       "(array(['cara', 'coroa'], dtype='<U5'), array([10, 15], dtype=int64))"
      ]
     },
     "execution_count": 150,
     "metadata": {},
     "output_type": "execute_result"
    }
   ],
   "source": [
    "# Quais valores únicos e suas frequências?\n",
    "np.unique(arr_modif, return_counts=True)"
   ]
  }
 ],
 "metadata": {
  "colab": {
   "authorship_tag": "ABX9TyPcxmhRljX8gXfnVwF0p3Tr",
   "collapsed_sections": [
    "6B2IFHwR2Mf_",
    "upbX_4-92sWx",
    "L9bee1Ma4co7",
    "BS9_iVL-9l0K",
    "wdPfAvrm-C_n",
    "4zELIn3KRtge",
    "rxrkPIrIH-_P",
    "PiMZcdrVO8yT",
    "Jdo_j8QSReMW",
    "HvNaszRURmX4",
    "kRN2rfKm7u-f",
    "J4M0OVqb_llm",
    "y0dlbiD7BCpE",
    "4piB-AH9KXZy",
    "9NzaecupEbsU",
    "-jG8rAuhIF6V",
    "l0ptiSpk0xut",
    "6BXKG9qJ1KnQ",
    "A1GV25pk2w4Q",
    "b6LCo-H867ak",
    "bS7_wlNkghZD",
    "QIHtsJaMgugy",
    "09bg93dLguGi",
    "ujK9kYY8BpWw",
    "xLfmG4kUFgXT",
    "f3eDmLL9azzF",
    "To7JQxAHa4QO",
    "BD1jWNZU8y5W",
    "3UqqSXzB1lAe",
    "QFo7U-uD1pzY"
   ],
   "provenance": [],
   "toc_visible": true
  },
  "kernelspec": {
   "display_name": "Python 3 (ipykernel)",
   "language": "python",
   "name": "python3"
  },
  "language_info": {
   "codemirror_mode": {
    "name": "ipython",
    "version": 3
   },
   "file_extension": ".py",
   "mimetype": "text/x-python",
   "name": "python",
   "nbconvert_exporter": "python",
   "pygments_lexer": "ipython3",
   "version": "3.12.7"
  }
 },
 "nbformat": 4,
 "nbformat_minor": 4
}
