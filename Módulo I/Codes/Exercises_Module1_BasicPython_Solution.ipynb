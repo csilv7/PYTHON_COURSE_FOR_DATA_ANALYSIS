{
 "cells": [
  {
   "cell_type": "markdown",
   "id": "ec5caaae-e1d4-43ba-bf7d-faf7a6e3e95c",
   "metadata": {},
   "source": [
    "---\n",
    "\n",
    "# Lista de Exercícios - Curso de Python para Análise de Dados\n",
    "\n",
    "## Módulo 1 - Python Básico\n",
    "\n",
    "Essa lista de exercícios contempla apenas o Módulo Básico. Abordando temas como:\n",
    "\n",
    "1. **Capítulo I - Primeiros Passos:**\n",
    "    - Função `print()`.\n",
    "    - Operações Matemáticas.\n",
    "    - Operações Booleanas.\n",
    "    - Variáveis - Armezenando Objetos.\n",
    "    - Tipos de Objetos.\n",
    "    - Métodos e Atributos.\n",
    "    - Obtendo Ajuda e Explorando o Ambiente.\n",
    "2. **Capítulo II - Objetos no Python:**\n",
    "    - Strings (`str`).\n",
    "    - Listas (`list`).\n",
    "    - Dicionários (`dict`).\n",
    "3. **Capítulo III - Controle de Fluxo & Funções no Python:**\n",
    "    - Estrutura de Decisão - `if`/`elif`/`else`.\n",
    "    - Estrutura de Repetição - `for` e `while`.\n",
    "    - Comandos Chave - Tratamento de Excessões e Palavras-Chave.\n",
    "    - Fuções.\n",
    "\n",
    "---"
   ]
  },
  {
   "cell_type": "markdown",
   "id": "11a19b2c-7268-4624-9927-089025f64c3b",
   "metadata": {},
   "source": [
    "---\n",
    "\n",
    "## Exercícios - Capítulo II - Primeiros Passos\n",
    "\n",
    "---"
   ]
  },
  {
   "cell_type": "markdown",
   "id": "4ff79de1-d7a8-466a-873b-db59c59af94c",
   "metadata": {},
   "source": [
    "1. **Função `print()`:** Escreva um programa que imprima na tela a seguinte mensagem: `\"Olá, mundo! Este é o meu primeiro programa em Python.\"`."
   ]
  },
  {
   "cell_type": "code",
   "execution_count": 1,
   "id": "3c305b8c-bdb5-4cb8-b28a-8b7127121811",
   "metadata": {},
   "outputs": [
    {
     "name": "stdout",
     "output_type": "stream",
     "text": [
      "Olá, mundo! Este é o meu primeiro programa em Python.\n"
     ]
    }
   ],
   "source": [
    "print(\"Olá, mundo! Este é o meu primeiro programa em Python.\")"
   ]
  },
  {
   "cell_type": "markdown",
   "id": "c9c8a778-935c-45f9-aa88-81eff279db14",
   "metadata": {},
   "source": [
    "2. **Operações Matemáticas:** Calcule e imprima o resultado das seguintes operações: \\\n",
    "    a) $15 + 7,3$ \\\n",
    "    b) $20 - 5,5$ \\\n",
    "    c) $4 \\times 8$ \\\n",
    "    d) $20 \\div 3$ \\\n",
    "    e) $2^{10}$"
   ]
  },
  {
   "cell_type": "code",
   "execution_count": 3,
   "id": "e2b3c7a3-6a54-45b1-8bf3-56af162b3dd9",
   "metadata": {},
   "outputs": [
    {
     "name": "stdout",
     "output_type": "stream",
     "text": [
      "22.3\n",
      "14.5\n",
      "32\n",
      "6.666666666666667\n",
      "1024\n"
     ]
    }
   ],
   "source": [
    "# item (a)\n",
    "print(15 + 7.3)\n",
    "\n",
    "# item (b)\n",
    "print(20 - 5.5)\n",
    "\n",
    "# item (c)\n",
    "print(4 * 8)\n",
    "\n",
    "# item (d)\n",
    "print(20 / 3)\n",
    "\n",
    "# item (e)\n",
    "print(2 ** 10)"
   ]
  },
  {
   "cell_type": "markdown",
   "id": "05a366ab-3b06-45e9-88d3-a0d477c8f988",
   "metadata": {},
   "source": [
    "3. **Módulo `math`:** Calcule através do módulo `math` a raiz quadrada e cúbica dos valores obtidos nas operações anteriores."
   ]
  },
  {
   "cell_type": "code",
   "execution_count": 6,
   "id": "a3d93087-e143-482c-9d78-7346d62e8634",
   "metadata": {},
   "outputs": [
    {
     "name": "stdout",
     "output_type": "stream",
     "text": [
      "4.722287581247038\n",
      "3.8078865529319543\n",
      "5.656854249492381\n",
      "2.581988897471611\n",
      "32.0\n",
      "\n",
      "2.814718414331334\n",
      "2.438499480536657\n",
      "3.1748021039363987\n",
      "1.8820720577620569\n",
      "10.079368399158984\n"
     ]
    }
   ],
   "source": [
    "# Importando módulo\n",
    "import math\n",
    "\n",
    "# Raiz Quadrada\n",
    "print(math.sqrt(15 + 7.3))\n",
    "print(math.sqrt(20 - 5.5))\n",
    "print(math.sqrt(4 * 8))\n",
    "print(math.sqrt(20 / 3))\n",
    "print(math.sqrt(2 ** 10))\n",
    "\n",
    "print()\n",
    "\n",
    "# Raiz Cúbica\n",
    "print(math.cbrt(15 + 7.3))\n",
    "print(math.cbrt(20 - 5.5))\n",
    "print(math.cbrt(4 * 8))\n",
    "print(math.cbrt(20 / 3))\n",
    "print(math.cbrt(2 ** 10))"
   ]
  },
  {
   "cell_type": "markdown",
   "id": "b25eaa19-5445-4d9c-b082-a25cbacc68be",
   "metadata": {},
   "source": [
    "4. **Expressão Matemática:** Resolva a seguinte expressão numérica $$\\dfrac{\\sqrt{2 \\pi} + 1 - 2,75^{-e}}{(\\sqrt{99})^{0} + 32/45 \\times e^{\\pi}}$$"
   ]
  },
  {
   "cell_type": "code",
   "execution_count": 8,
   "id": "5868384d-6366-4b0f-bde6-839bf66fbaa9",
   "metadata": {},
   "outputs": [
    {
     "data": {
      "text/plain": [
       "0.15113116567925516"
      ]
     },
     "execution_count": 8,
     "metadata": {},
     "output_type": "execute_result"
    }
   ],
   "source": [
    "(math.sqrt(2 * math.pi) + 1 - 2.75 ** (-math.e)) / (math.sqrt(99) ** 0 + 32/34 * math.e ** math.pi)"
   ]
  },
  {
   "cell_type": "markdown",
   "id": "6cdd1cf4-e031-47ec-bddf-a0560d7448c0",
   "metadata": {},
   "source": [
    "6. **Operações Booleanas:** Avalie as seguintes expressões booleanas e imprima seus resultados: \\\n",
    "    a) $10 > 5$ \\\n",
    "    b) $7 = 7,0$ \\\n",
    "    c) $5 \\times 2 \\leq 8 + 2$ \\\n",
    "    d) `not (True and False)` \\\n",
    "    e) $10 \\neq 5$ `or` $3 > 5$"
   ]
  },
  {
   "cell_type": "code",
   "execution_count": 9,
   "id": "d3df71e9-1f3b-421a-814d-65ca6b0215d5",
   "metadata": {},
   "outputs": [
    {
     "name": "stdout",
     "output_type": "stream",
     "text": [
      "True\n",
      "True\n",
      "True\n",
      "True\n",
      "True\n"
     ]
    }
   ],
   "source": [
    "# item (a)\n",
    "print(10 > 5)\n",
    "\n",
    "# item (b)\n",
    "print(7 == 7.0)\n",
    "\n",
    "# item (c)\n",
    "print((5 * 2) <= (8 + 2))\n",
    "\n",
    "# item (d)\n",
    "print(not (True and False))\n",
    "\n",
    "# item (e)\n",
    "print((10 != 5) or (3 > 5))"
   ]
  },
  {
   "cell_type": "markdown",
   "id": "8b228a5c-3d71-4424-a909-cacd498ec14f",
   "metadata": {},
   "source": [
    "7. **Variáveis:** Crie variáveis para armazenar:\n",
    "    - Seu nome\n",
    "    - Sua idade\n",
    "    - Sua altura\n",
    "      \n",
    "Depois, imprima essas informações em uma frase como: `\"Meu nome é [nome], tenho [idade] anos e [altura]m de altura.\"`"
   ]
  },
  {
   "cell_type": "code",
   "execution_count": 13,
   "id": "d7fbe6ff-5705-4fd7-8566-f2b392831c59",
   "metadata": {},
   "outputs": [
    {
     "name": "stdout",
     "output_type": "stream",
     "text": [
      "Meu nome é Cauã tenho 21 anos e 1.76 (m) de altura.\n"
     ]
    }
   ],
   "source": [
    "# Declarando variáveis\n",
    "my_name = \"Cauã\"\n",
    "my_age = 21\n",
    "my_height_meters = 1.76\n",
    "\n",
    "# Imprimindo mensagem\n",
    "print(\"Meu nome é\", my_name, \"tenho\", my_age, \"anos e\", my_height_meters, \"(m) de altura.\")"
   ]
  },
  {
   "cell_type": "markdown",
   "id": "1db6da4e-0a00-4aef-bbce-adf974d5384b",
   "metadata": {},
   "source": [
    "8. **Tipos de Objetos:** Crie variáveis com diferentes tipos de dados (`int`, `float`, `str`, `bool`). Use a função `type()` para verificar o tipo de cada uma e imprima os resultados."
   ]
  },
  {
   "cell_type": "code",
   "execution_count": 15,
   "id": "dcfed712-4ae8-4a0a-aa28-ec75eafe0699",
   "metadata": {},
   "outputs": [
    {
     "name": "stdout",
     "output_type": "stream",
     "text": [
      "<class 'int'>\n",
      "<class 'float'>\n",
      "<class 'str'>\n",
      "<class 'bool'>\n"
     ]
    }
   ],
   "source": [
    "# Declarando variáveis\n",
    "variable_int = 1\n",
    "variable_float = math.e\n",
    "variable_str = \"Olá!\"\n",
    "variable_bool = not True\n",
    "\n",
    "# Impressão do tipo de variável (obejto)\n",
    "print(type(variable_int))\n",
    "print(type(variable_float))\n",
    "print(type(variable_str))\n",
    "print(type(variable_bool))"
   ]
  },
  {
   "cell_type": "markdown",
   "id": "e684ddd6-741e-4140-83d8-87458ef3fb76",
   "metadata": {},
   "source": [
    "9. **Obtendo Ajuda:** Apresente um exemplo de uso da função `help()`."
   ]
  },
  {
   "cell_type": "code",
   "execution_count": 16,
   "id": "6b820246-64ef-4f6e-9f9e-42f10c23f1a6",
   "metadata": {},
   "outputs": [
    {
     "name": "stdout",
     "output_type": "stream",
     "text": [
      "Help on built-in function cbrt in module math:\n",
      "\n",
      "cbrt(x, /)\n",
      "    Return the cube root of x.\n",
      "\n"
     ]
    }
   ],
   "source": [
    "help(math.cbrt)"
   ]
  },
  {
   "cell_type": "markdown",
   "id": "aca4b181-02d7-4128-9ddd-2db91561bf2e",
   "metadata": {},
   "source": [
    "10. **Operações com `input()` e Conversão de tipos:** Peça para o usuário entrar com dois números. Converta e rmazene para `int` e `float`. Por fim, calcule e mostre a soma, subtração, multiplicação e divisão deles e mostre os 2 tipos diferentes (int e float) com mensagens explicativas"
   ]
  },
  {
   "cell_type": "code",
   "execution_count": 20,
   "id": "24a2bd9c-8619-4e54-9f1d-e661f8aae55c",
   "metadata": {},
   "outputs": [
    {
     "name": "stdin",
     "output_type": "stream",
     "text": [
      "Digite um número inteiro diferente de zero (0).  32\n",
      "Digite um número inteiro diferente de zero (0).  -29\n"
     ]
    },
    {
     "name": "stdout",
     "output_type": "stream",
     "text": [
      "3\n",
      "61\n",
      "-928\n",
      "-1\n"
     ]
    },
    {
     "name": "stdin",
     "output_type": "stream",
     "text": [
      "Digite um número real diferente de zero (0).  3.769\n",
      "Digite um número real diferente de zero (0).  0.524\n"
     ]
    },
    {
     "name": "stdout",
     "output_type": "stream",
     "text": [
      "4.293\n",
      "3.245\n",
      "1.9749560000000002\n",
      "7.192748091603053\n"
     ]
    }
   ],
   "source": [
    "# Leitura dos dados\n",
    "num1 = int(input(\"Digite um número inteiro diferente de zero (0). \"))\n",
    "num2 = int(input(\"Digite um número inteiro diferente de zero (0). \"))\n",
    "\n",
    "# Execução das operações\n",
    "print(int(num1 + num2))\n",
    "print(int(num1 - num2))\n",
    "print(int(num1 * num2))\n",
    "print(int(num1 / num2))\n",
    "\n",
    "# Leitura dos dados\n",
    "num1 = float(input(\"Digite um número real diferente de zero (0). \"))\n",
    "num2 = float(input(\"Digite um número real diferente de zero (0). \"))\n",
    "\n",
    "# Execução das operações\n",
    "print(float(num1 + num2))\n",
    "print(float(num1 - num2))\n",
    "print(float(num1 * num2))\n",
    "print(float(num1 / num2))"
   ]
  },
  {
   "cell_type": "markdown",
   "id": "75d7cba5-cfc1-455c-9ed5-f359ca3e226d",
   "metadata": {},
   "source": [
    "11. **Operações com números:** Calcule a média aritmética entre três notas fornecidas pelo usuário e exiba o resultado com duas casas decimais."
   ]
  },
  {
   "cell_type": "code",
   "execution_count": 21,
   "id": "ad590e79-3432-4b7d-9b95-a977aa85a122",
   "metadata": {},
   "outputs": [
    {
     "name": "stdin",
     "output_type": "stream",
     "text": [
      "Digite o valor da 1ª nota.  4.68\n",
      "Digite o valor da 2ª nota.  9.35\n",
      "Digite o valor da 3ª nota.  5.79\n"
     ]
    },
    {
     "name": "stdout",
     "output_type": "stream",
     "text": [
      "6.61\n"
     ]
    }
   ],
   "source": [
    "# Lendo dados\n",
    "note1 = float(input(\"Digite o valor da 1ª nota. \"))\n",
    "note2 = float(input(\"Digite o valor da 2ª nota. \"))\n",
    "note3 = float(input(\"Digite o valor da 3ª nota. \"))\n",
    "\n",
    "# Cálculo da média\n",
    "mean = (note1 + note2 + note3) / 3\n",
    "\n",
    "# Impressão do resultado\n",
    "print(round(mean, 2))"
   ]
  },
  {
   "cell_type": "markdown",
   "id": "27e4a52f-e048-48b0-b2ea-9670edb796a7",
   "metadata": {},
   "source": [
    "---\n",
    "\n",
    "## Exercícios - Capítulo III- Objetos no Python\n",
    "\n",
    "---"
   ]
  },
  {
   "cell_type": "markdown",
   "id": "9643c0a1-1741-46c6-832f-f146d21390ca",
   "metadata": {},
   "source": [
    "1. **Manipulação de strings:** Dada a string `frase = \"Python é uma linguagem poderosa\"`:\n",
    "    * Mostre a quantidade de caracteres\n",
    "    * Exiba a frase toda em maiúsculas\n",
    "    * Verifique se a palavra `\"poderosa\"` está presente"
   ]
  },
  {
   "cell_type": "code",
   "execution_count": 23,
   "id": "f114adf4-36ca-4009-bf70-5a677b1f9596",
   "metadata": {},
   "outputs": [
    {
     "name": "stdout",
     "output_type": "stream",
     "text": [
      "Quantidade de elementos: 31\n",
      "Frase toda em maiúsculas: PYTHON É UMA LINGUAGEM PODEROSA\n",
      "A palavra 'poderosa' está presente na frase? True\n"
     ]
    }
   ],
   "source": [
    "# Definindo Variável\n",
    "frase = \"Python é uma linguagem poderosa\"\n",
    "\n",
    "# 1º Item\n",
    "print(\"Quantidade de elementos:\", len(frase))\n",
    "\n",
    "# 2º Item\n",
    "print(\"Frase toda em maiúsculas:\", frase.upper())\n",
    "\n",
    "# 3º Item\n",
    "print(\"A palavra 'poderosa' está presente na frase?\", \"poderosa\" in frase)"
   ]
  },
  {
   "cell_type": "markdown",
   "id": "0f1ad25c-3390-4d10-b527-0310ff426be1",
   "metadata": {},
   "source": [
    "2. **Métodos de Strings:** Dada a string `frase = \"Python é incrível!\"`. Use métodos de string para: \\\n",
    "    a) Converter para maiúsculas \\\n",
    "    b) Contar quantas letras 'i' existem \\\n",
    "    c) Substituir \"incrível\" por \"fantástico\" \\\n",
    "    d) Verificar se começa com \"Py\""
   ]
  },
  {
   "cell_type": "code",
   "execution_count": 25,
   "id": "3a689e75-4a51-4997-9752-05cef23fe323",
   "metadata": {},
   "outputs": [
    {
     "name": "stdout",
     "output_type": "stream",
     "text": [
      "a) Converter para maiúsculas: PYTHON É INCRÍVEL!\n",
      "b) Contar quantas letras 'i' existem: 1\n",
      "c) Substituir 'incrível' por 'fantástico': Python é fantástico!\n",
      "d) Verificar se começa com 'Py': True\n"
     ]
    }
   ],
   "source": [
    "# Definindo Variável\n",
    "frase = \"Python é incrível!\"\n",
    "\n",
    "# item (a)\n",
    "print(\"a) Converter para maiúsculas:\", frase.upper())\n",
    "\n",
    "# item (b)\n",
    "print(\"b) Contar quantas letras 'i' existem:\", frase.count(\"i\"))\n",
    "\n",
    "# item (c)\n",
    "print(\"c) Substituir 'incrível' por 'fantástico':\", frase.replace(\"incrível\", \"fantástico\"))\n",
    "\n",
    "# item (d)\n",
    "print(\"d) Verificar se começa com 'Py':\", frase.startswith(\"Py\"))"
   ]
  },
  {
   "cell_type": "markdown",
   "id": "ff99ed1b-4d95-447f-a894-f0ab9b142679",
   "metadata": {},
   "source": [
    "3. **Listas Básicas:** Crie uma lista com seus 3 filmes favoritos: \\\n",
    "    a) Imprima o segundo filme da lista \\\n",
    "    b) Adicione um novo filme à lista \\\n",
    "    c) Remova o primeiro filme \\\n",
    "    d) Imprima o tamanho da lista"
   ]
  },
  {
   "cell_type": "code",
   "execution_count": 32,
   "id": "458fe744-1fe8-4fdc-b8db-5b180ce69f9d",
   "metadata": {},
   "outputs": [
    {
     "name": "stdout",
     "output_type": "stream",
     "text": [
      "Lista com meus 3 filmes favoritos ['Vingadores', 'Vingadores: Era de Ultron', 'Vingadores: Guerra Infinita']\n",
      "\n",
      "a) Imprima o segundo filme da lista: Vingadores: Era de Ultron\n",
      "Adicione um novo filme à lista: None\n",
      "c) Remova o primeiro filme: ['Vingadores: Era de Ultron', 'Vingadores: Guerra Infinita', 'Vingadores: Ultimato']\n",
      "d) Imprima o tamanho da lista: 3\n"
     ]
    }
   ],
   "source": [
    "# Definindo Variável\n",
    "list_basic = [\"Vingadores\", \"Vingadores: Era de Ultron\", \"Vingadores: Guerra Infinita\"]\n",
    "\n",
    "# Imprimindo\n",
    "print(\"Lista com meus 3 filmes favoritos\", list_basic)\n",
    "print()\n",
    "\n",
    "# item (a)\n",
    "print(\"a) Imprima o segundo filme da lista:\", list_basic[1])\n",
    "\n",
    "# item (b)\n",
    "print(\"Adicione um novo filme à lista:\", list_basic.append(\"Vingadores: Ultimato\"))\n",
    "\n",
    "# item (c)\n",
    "list_basic.remove(list_basic[0])\n",
    "print(\"c) Remova o primeiro filme:\", list_basic)\n",
    "\n",
    "# item (d)\n",
    "print(\"d) Imprima o tamanho da lista:\", len(list_basic))"
   ]
  },
  {
   "cell_type": "markdown",
   "id": "0f83e1ea-008d-4140-aa09-141fd46cdc00",
   "metadata": {},
   "source": [
    "4. **Obtendo Ajuda:** Use a função `help()` para descobrir como usar o método `split()` de strings. Depois, crie um exemplo prático usando esse método."
   ]
  },
  {
   "cell_type": "code",
   "execution_count": 33,
   "id": "2e6c4929-190a-45c8-aa25-888f721dd931",
   "metadata": {},
   "outputs": [
    {
     "name": "stdout",
     "output_type": "stream",
     "text": [
      "Help on method_descriptor:\n",
      "\n",
      "split(self, /, sep=None, maxsplit=-1) unbound builtins.str method\n",
      "    Return a list of the substrings in the string, using sep as the separator string.\n",
      "\n",
      "      sep\n",
      "        The separator used to split the string.\n",
      "\n",
      "        When set to None (the default value), will split on any whitespace\n",
      "        character (including \\n \\r \\t \\f and spaces) and will discard\n",
      "        empty strings from the result.\n",
      "      maxsplit\n",
      "        Maximum number of splits.\n",
      "        -1 (the default value) means no limit.\n",
      "\n",
      "    Splitting starts at the front of the string and works to the end.\n",
      "\n",
      "    Note, str.split() is mainly useful for data that has been intentionally\n",
      "    delimited.  With natural text that includes punctuation, consider using\n",
      "    the regular expression module.\n",
      "\n"
     ]
    }
   ],
   "source": [
    "help(str.split)"
   ]
  },
  {
   "cell_type": "code",
   "execution_count": 34,
   "id": "43569427-bbc9-4293-974f-7b38e19471dd",
   "metadata": {},
   "outputs": [
    {
     "data": {
      "text/plain": [
       "['Amanhã', 'nos', 'veremos!']"
      ]
     },
     "execution_count": 34,
     "metadata": {},
     "output_type": "execute_result"
    }
   ],
   "source": [
    "# Definindo variável que recebe um obejto do tipo string\n",
    "example = \"Amanhã nos veremos!\"\n",
    "\n",
    "# Aplicando método split\n",
    "example.split()"
   ]
  },
  {
   "cell_type": "markdown",
   "id": "ff7da82a-e451-4cc9-b894-c53c5295c540",
   "metadata": {},
   "source": [
    "5. **Crie uma variável com o texto: `\"Python é poderosa\"`:** \\\n",
    "    a) Converta toda a string para minúsculas \\\n",
    "    b) Divida a string em palavras \\\n",
    "    c) Substitua `\"poderosa\"` por `\"incrível\"` \\\n",
    "    d) Verifique se a string termina com `\"vel\"`"
   ]
  },
  {
   "cell_type": "code",
   "execution_count": 35,
   "id": "8f85ba84-1976-4013-94ee-0127d106b63e",
   "metadata": {},
   "outputs": [
    {
     "name": "stdout",
     "output_type": "stream",
     "text": [
      "Variável texto: Python é poderosa\n",
      "\n",
      "a) Converta toda a string para minúsculas: python é poderosa\n",
      "b) Divida a string em palavras: ['Python', 'é', 'poderosa']\n",
      "c) Substitua 'poderosa' por 'incrível': Python é poderosa\n",
      "d) Verifique se a string termina com 'vel': False\n"
     ]
    }
   ],
   "source": [
    "# Definindo variável\n",
    "text = \"Python é poderosa\"\n",
    "\n",
    "# Imprimindo\n",
    "print(\"Variável texto:\", text)\n",
    "print()\n",
    "\n",
    "# item (a)\n",
    "print(\"a) Converta toda a string para minúsculas:\", text.lower())\n",
    "\n",
    "# item (b)\n",
    "print(\"b) Divida a string em palavras:\", text.split())\n",
    "\n",
    "# item (c)\n",
    "text.replace(\"poderosa\", \"incrível\")\n",
    "print(\"c) Substitua 'poderosa' por 'incrível':\", text)\n",
    "\n",
    "# item (d)\n",
    "print(\"d) Verifique se a string termina com 'vel':\", text.endswith(\"vel\"))"
   ]
  },
  {
   "cell_type": "markdown",
   "id": "9b977dd0-abc5-4eea-a5a3-122bd3d8d9cf",
   "metadata": {},
   "source": [
    "6. **Formatação de Strings:** Peça ao usuário para digitar seu nome e idade. Crie uma mensagem formatada como: \n",
    "    - `\"Olá [Nome], você tem [Idade] anos!\"`\n",
    "    - Use `f-strings` e o método `format()`"
   ]
  },
  {
   "cell_type": "code",
   "execution_count": 38,
   "id": "6c0170e6-1679-4748-9869-9b96ded6228f",
   "metadata": {},
   "outputs": [
    {
     "name": "stdin",
     "output_type": "stream",
     "text": [
      "Qual o seu nome?  Cauã\n",
      "Qual a sua idade?  21\n"
     ]
    },
    {
     "name": "stdout",
     "output_type": "stream",
     "text": [
      "Olá Cauã, você tem 21 anos!\n",
      "Olá Cauã, você tem 21 anos!\n"
     ]
    }
   ],
   "source": [
    "# Lendo dados\n",
    "name = input(\"Qual o seu nome? \")\n",
    "age = int(input(\"Qual a sua idade? \"))\n",
    "\n",
    "# Usando f-strings\n",
    "print(f\"Olá {name}, você tem {age} anos!\")\n",
    "\n",
    "# Usando método format()\n",
    "print(\"Olá {}, você tem {} anos!\".format(name, age))"
   ]
  },
  {
   "cell_type": "markdown",
   "id": "a038675e-2c07-467b-b189-7d67ceefc306",
   "metadata": {},
   "source": [
    "7. **Operações com Listas:** Crie uma lista com os números: `5, 10, 15, 20, 25` \\\n",
    "    a) Adicione o número 30 no final \\\n",
    "    b) Insira o número 2 no início \\\n",
    "    c) Remova o número 15 \\\n",
    "    d) Inverta a ordem da lista \\\n",
    "    e) Imprima o tamanho da lista"
   ]
  },
  {
   "cell_type": "code",
   "execution_count": 39,
   "id": "46043dd4-d11c-4da9-9743-90095ea61c8c",
   "metadata": {},
   "outputs": [
    {
     "name": "stdout",
     "output_type": "stream",
     "text": [
      "Lista de números: [5, 10, 15, 20, 25]\n",
      "\n",
      "a) Adicione o número 30 no final: [5, 10, 15, 20, 25, 30]\n",
      "b) Insira o número 2 no início: [2, 5, 10, 15, 20, 25, 30]\n",
      "c) Remova o número 15: [2, 5, 10, 20, 25, 30]\n",
      "d) Inverta a ordem da lista: [30, 25, 20, 10, 5, 2]\n",
      "e) Imprima o tamanho da lista 6\n"
     ]
    }
   ],
   "source": [
    "# Definindo lista\n",
    "list_numbers = [5, 10, 15, 20, 25]\n",
    "\n",
    "# Imprimindo\n",
    "print(\"Lista de números:\", list_numbers)\n",
    "print()\n",
    "\n",
    "# item (a)\n",
    "list_numbers.append(30)\n",
    "print(\"a) Adicione o número 30 no final:\", list_numbers)\n",
    "\n",
    "# item (b)\n",
    "list_numbers.insert(0, 2)\n",
    "print(\"b) Insira o número 2 no início:\", list_numbers)\n",
    "\n",
    "# item (c)\n",
    "list_numbers.remove(15)\n",
    "print(\"c) Remova o número 15:\", list_numbers)\n",
    "\n",
    "# item (d)\n",
    "print(\"d) Inverta a ordem da lista:\", list_numbers[::-1])\n",
    "\n",
    "# item (e)\n",
    "print(\"e) Imprima o tamanho da lista\", len(list_numbers))"
   ]
  },
  {
   "cell_type": "markdown",
   "id": "7d97915a-a9c1-4b6d-9f7f-64c201f22c3f",
   "metadata": {},
   "source": [
    "8. **Slicing de Listas:** Dada a lista: `letras = ['a', 'b', 'c', 'd', 'e', 'f', 'g']` \\\n",
    "    a) Extraia os elementos do índice 2 ao 5 \\\n",
    "    b) Extraia os elementos do início até o índice 3 \\\n",
    "    c) Extraia os elementos do índice 4 até o final \\\n",
    "    d) Crie uma nova lista com os elementos de índice par"
   ]
  },
  {
   "cell_type": "code",
   "execution_count": 40,
   "id": "ba0a4022-13d4-42dd-8e83-8ed1eb50bdec",
   "metadata": {},
   "outputs": [
    {
     "name": "stdout",
     "output_type": "stream",
     "text": [
      "Lista de letras: ['a', 'b', 'c', 'd', 'e', 'f', 'g']\n",
      "\n",
      "a) Extraia os elementos do índice 2 ao 5: ['c', 'd', 'e', 'f']\n",
      "b) Extraia os elementos do início até o índice 3: ['a', 'b', 'c', 'd']\n",
      "c) Extraia os elementos do índice 4 até o final: ['e', 'f', 'g']\n",
      "d) Crie uma nova lista com os elementos de índice par: ['a', 'c', 'e', 'g']\n"
     ]
    }
   ],
   "source": [
    "# Definindo lista\n",
    "letras = [\"a\", \"b\", \"c\", \"d\", \"e\", \"f\", \"g\"]\n",
    "\n",
    "# Imprimindo\n",
    "print(\"Lista de letras:\", letras)\n",
    "print()\n",
    "\n",
    "# item (a)\n",
    "print(\"a) Extraia os elementos do índice 2 ao 5:\", letras[2:6])\n",
    "\n",
    "# item (b)\n",
    "print(\"b) Extraia os elementos do início até o índice 3:\", letras[:4])\n",
    "\n",
    "# item (c)\n",
    "print(\"c) Extraia os elementos do índice 4 até o final:\", letras[4:])\n",
    "\n",
    "# item (d)\n",
    "new_list = letras[::2]\n",
    "print(\"d) Crie uma nova lista com os elementos de índice par:\", new_list)"
   ]
  },
  {
   "cell_type": "markdown",
   "id": "65e3e0f0-acf4-458a-a0a6-e34e80f0ca67",
   "metadata": {},
   "source": [
    "9. **Criação de Dicionário:** Crie um dicionário representando um livro com:\n",
    "    - título\n",
    "    - autor\n",
    "    - ano de publicação\n",
    "    - número de páginas\n",
    "\n",
    "Depois imprima cada informação usando as chaves"
   ]
  },
  {
   "cell_type": "code",
   "execution_count": 42,
   "id": "81e1e467-83d9-4bad-a274-e3b627048813",
   "metadata": {},
   "outputs": [
    {
     "name": "stdout",
     "output_type": "stream",
     "text": [
      "Estatística Básica\n",
      "Pedro Alberto Morettin & Wilton Bussab\n",
      "2010\n",
      "300\n"
     ]
    }
   ],
   "source": [
    "# Exemplo de dicionário com as especiifcações desejadas\n",
    "dict_example = {\"Título\": \"Estatística Básica\", \"Autor\": \"Pedro Alberto Morettin & Wilton Bussab\", \"Ano\": 2010, \"Nº Páginas\": 300}\n",
    "\n",
    "# Título\n",
    "print(dict_example[\"Título\"])\n",
    "\n",
    "# Autor\n",
    "print(dict_example[\"Autor\"])\n",
    "\n",
    "# Ano de Publicação\n",
    "print(dict_example[\"Ano\"])\n",
    "\n",
    "# Número de Páginas\n",
    "print(dict_example[\"Nº Páginas\"])"
   ]
  },
  {
   "cell_type": "markdown",
   "id": "68b52442-74c3-41f1-9f19-5c4e7ce47aa2",
   "metadata": {},
   "source": [
    "10. **Manipulação de Dicionários:** Dado o dicionário: `pessoa = {'nome': 'Carlos', 'idade': 25, 'cidade': 'São Paulo'}`\n",
    "\n",
    "    a) Adicione a chave 'profissão' com valor 'Engenheiro' \\\n",
    "    b) Atualize a idade para 26 \\\n",
    "    c) Remova a chave 'cidade' \\\n",
    "    d) Verifique se a chave 'telefone' existe"
   ]
  },
  {
   "cell_type": "code",
   "execution_count": 43,
   "id": "bb4287b1-a1cf-415b-9faa-363010d24e4a",
   "metadata": {},
   "outputs": [
    {
     "name": "stdout",
     "output_type": "stream",
     "text": [
      "Pessoa: {'nome': 'Carlos', 'idade': 25, 'cidade': 'São Paulo'}\n",
      "\n",
      "a) Adicione a chave 'profissão' com valor 'Engenheiro': {'nome': 'Carlos', 'idade': 25, 'cidade': 'São Paulo', 'profissão': 'Engenheiro'}\n",
      "b) Atualize a idade para 26: {'nome': 'Carlos', 'idade': 26, 'cidade': 'São Paulo', 'profissão': 'Engenheiro'}\n",
      "c) Remova a chave 'cidade': {'nome': 'Carlos', 'idade': 26, 'profissão': 'Engenheiro'}\n",
      "d) Verifique se a chave 'telefone' existe: False\n"
     ]
    }
   ],
   "source": [
    "# Definindo dicionário\n",
    "pessoa = {\"nome\": \"Carlos\", \"idade\": 25, \"cidade\": \"São Paulo\"}\n",
    "\n",
    "# Imprimindo\n",
    "print(\"Pessoa:\", pessoa)\n",
    "print()\n",
    "\n",
    "# item (a)\n",
    "pessoa[\"profissão\"] = \"Engenheiro\"\n",
    "print(\"a) Adicione a chave 'profissão' com valor 'Engenheiro':\", pessoa)\n",
    "\n",
    "# item (b)\n",
    "pessoa[\"idade\"] = 26\n",
    "print(\"b) Atualize a idade para 26:\", pessoa)\n",
    "\n",
    "# item (c)\n",
    "del pessoa[\"cidade\"]\n",
    "print(\"c) Remova a chave 'cidade':\", pessoa)\n",
    "\n",
    "# item (d)\n",
    "print(\"d) Verifique se a chave 'telefone' existe:\", \"telefone\" in pessoa.keys())"
   ]
  },
  {
   "cell_type": "markdown",
   "id": "348cc58c-5ee8-418f-8dda-4617655d72d4",
   "metadata": {},
   "source": [
    "11. **Lista de Dicionários:** Crie uma lista de dicionários contendo 3 livros com: título, autor e ano. Depois:\n",
    "\n",
    "    a) Adicione um novo livro \\\n",
    "    b) Remova o segundo livro \\\n",
    "    c) Imprima apenas os títulos dos livros"
   ]
  },
  {
   "cell_type": "code",
   "execution_count": 45,
   "id": "e920425a-07bc-4238-9038-06ab125a424d",
   "metadata": {},
   "outputs": [
    {
     "name": "stdout",
     "output_type": "stream",
     "text": [
      "Lista de Dicionários: [{'Título': 'Dom Casmurro', 'Autor': 'Machado de Assis', 'Ano': 1899}, {'Título': 'O Pequeno Príncipe', 'Autor': 'Antoine de Saint-Exupéry', 'Ano': 1943}, {'Título': 'A Moreninha', 'Autor': 'Joaquim Manuel de Macedo', 'Ano': 1844}]\n",
      "\n",
      "a) Adicione um novo livro: [{'Título': 'Dom Casmurro', 'Autor': 'Machado de Assis', 'Ano': 1899}, {'Título': 'O Pequeno Príncipe', 'Autor': 'Antoine de Saint-Exupéry', 'Ano': 1943}, {'Título': 'A Moreninha', 'Autor': 'Joaquim Manuel de Macedo', 'Ano': 1844}, {'Título': 'O Alquimista', 'Autor': 'Paulo Coelho', 'Ano': 1988}]\n",
      "b) Remova o segundo livro: {'nome': 'Carlos', 'idade': 26, 'profissão': 'Engenheiro'}\n",
      "c) Imprima apenas os títulos dos livros: ('Dom Casmurro', 'A Moreninha', 'O Alquimista')\n"
     ]
    }
   ],
   "source": [
    "# Definindo lista de dicionários\n",
    "list_of_dicts = [{\"Título\": \"Dom Casmurro\", \"Autor\": \"Machado de Assis\", \"Ano\": 1899}, \n",
    "                 {\"Título\": \"O Pequeno Príncipe\", \"Autor\": \"Antoine de Saint-Exupéry\", \"Ano\": 1943},\n",
    "                 {\"Título\": \"A Moreninha\", \"Autor\": \"Joaquim Manuel de Macedo\", \"Ano\": 1844}]\n",
    "\n",
    "# Imprimindo\n",
    "print(\"Lista de Dicionários:\", list_of_dicts)\n",
    "print()\n",
    "\n",
    "# item (a)\n",
    "list_of_dicts.append({\"Título\": \"O Alquimista\", \"Autor\": \"Paulo Coelho\", \"Ano\": 1988})\n",
    "print(\"a) Adicione um novo livro:\", list_of_dicts)\n",
    "\n",
    "# item (b)\n",
    "list_of_dicts.remove(list_of_dicts[1])\n",
    "print(\"b) Remova o segundo livro:\", pessoa)\n",
    "\n",
    "# item (c)\n",
    "print(\"c) Imprima apenas os títulos dos livros:\", (list_of_dicts[0][\"Título\"], list_of_dicts[1][\"Título\"], list_of_dicts[2][\"Título\"]))"
   ]
  },
  {
   "cell_type": "markdown",
   "id": "7e74cbf4-22f4-46b7-bcdc-a77c7af43606",
   "metadata": {},
   "source": [
    "12. **Transformação de Strings:** Dada a string: `\"Python;Java;C;JavaScript;Ruby\"`\n",
    "\n",
    "    a) Converta em uma lista separando por ponto-e-vírgula \\\n",
    "    b) Ordene a lista alfabeticamente \\\n",
    "    c) Junte novamente em uma string separada por vírgulas"
   ]
  },
  {
   "cell_type": "code",
   "execution_count": 49,
   "id": "8e08395a-c04c-49e5-81b8-3f0d0d75019b",
   "metadata": {},
   "outputs": [
    {
     "name": "stdout",
     "output_type": "stream",
     "text": [
      "String: Python;Java;C;JavaScript;Ruby\n",
      "\n",
      "a) Converta em uma lista separando por ponto-e-vírgula: ['Python', 'Java', 'C', 'JavaScript', 'Ruby']\n",
      "b) Ordene a lista alfabeticamente: ['C', 'Java', 'JavaScript', 'Python', 'Ruby']\n",
      "c) Junte novamente em uma string separada por vírgulas: C;Java;JavaScript;Python;Ruby\n"
     ]
    }
   ],
   "source": [
    "# Definindo string\n",
    "string = \"Python;Java;C;JavaScript;Ruby\"\n",
    "\n",
    "# Imprimindo\n",
    "print(\"String:\", string)\n",
    "print()\n",
    "\n",
    "# item (a)\n",
    "list_from_the_string = string.split(\";\")\n",
    "print(\"a) Converta em uma lista separando por ponto-e-vírgula:\", list_from_the_string)\n",
    "\n",
    "# item (b)\n",
    "list_from_the_string.sort()\n",
    "print(\"b) Ordene a lista alfabeticamente:\", list_from_the_string)\n",
    "\n",
    "# item (c)\n",
    "string_from_the_list = list_from_the_string[0] + \";\" + list_from_the_string[1] + \";\" + list_from_the_string[2] + \";\" + list_from_the_string[3] + \";\" + list_from_the_string[4]\n",
    "print(\"c) Junte novamente em uma string separada por vírgulas:\", string_from_the_list)"
   ]
  },
  {
   "cell_type": "markdown",
   "id": "0c29b0a8-6a05-49a4-8585-eb8baab63d59",
   "metadata": {},
   "source": [
    "13. **Análise de Dados Simples:** Dada a lista de dicionários:\n",
    "\n",
    "```python\n",
    "produtos = [\n",
    "    {'nome': 'Celular', 'preco': 1500},\n",
    "    {'nome': 'Notebook', 'preco': 3500},\n",
    "    {'nome': 'Tablet', 'preco': 1200}\n",
    "]\n",
    "```\n",
    "\n",
    "    a) Calcule o preço médio dos produtos\n",
    "    b) Encontre o produto mais caro\n",
    "    c) Crie uma lista apenas com os nomes dos produtos"
   ]
  },
  {
   "cell_type": "code",
   "execution_count": 51,
   "id": "4c4d1153-ebfe-4e77-bbd7-177d34150a69",
   "metadata": {},
   "outputs": [
    {
     "name": "stdout",
     "output_type": "stream",
     "text": [
      "Calcule o preço médio dos produtos: 2166.6666666666665\n",
      "b) Encontre o produto mais caro: 3500\n",
      "c) Crie uma lista apenas com os nomes dos produtos: ['Celular', 'Notebook', 'Celular']\n"
     ]
    }
   ],
   "source": [
    "# Declarando Lista de Dicionários\n",
    "produtos = [\n",
    "    {'nome': 'Celular', 'preco': 1500},\n",
    "    {'nome': 'Notebook', 'preco': 3500},\n",
    "    {'nome': 'Tablet', 'preco': 1200}\n",
    "]\n",
    "\n",
    "# item (a)\n",
    "mean = (produtos[0]['preco'] + produtos[1]['preco'] + produtos[0]['preco']) / len(produtos)\n",
    "print(\"a) Calcule o preço médio dos produtos:\", mean)\n",
    "\n",
    "# item (b)\n",
    "list_from_the_string.sort()\n",
    "print(\"b) Encontre o produto mais caro:\", max(produtos[0]['preco'], produtos[1]['preco'], produtos[0]['preco']))\n",
    "\n",
    "# item (c)\n",
    "list_names_products = [produtos[0]['nome'], produtos[1]['nome'], produtos[0]['nome']]\n",
    "print(\"c) Crie uma lista apenas com os nomes dos produtos:\", list_names_products)"
   ]
  },
  {
   "cell_type": "markdown",
   "id": "8a3451df-9dba-4b98-98d5-1830ce3fa308",
   "metadata": {},
   "source": [
    "14. **Listas e indexação** Dada a lista `numeros = [10, 20, 30, 40, 50]`.\n",
    "\n",
    "    * Exiba o primeiro e o último valor\n",
    "    * Adicione o número 60\n",
    "    * Remova o valor 30"
   ]
  },
  {
   "cell_type": "code",
   "execution_count": 54,
   "id": "19a2f706-e000-4225-ac0a-c1418e06c50d",
   "metadata": {},
   "outputs": [
    {
     "name": "stdout",
     "output_type": "stream",
     "text": [
      "Exiba o primeiro e o último valor: (10, 50)\n",
      "Adicione o número 60: [10, 20, 30, 40, 50, 60]\n",
      "Remova o valor 30: [10, 20, 40, 50, 60]\n"
     ]
    }
   ],
   "source": [
    "# Declarando lista\n",
    "numeros = [10, 20, 30, 40, 50]\n",
    "\n",
    "# 1º Item\n",
    "first, last = numeros[0], numeros[-1]\n",
    "print(\"Exiba o primeiro e o último valor:\", (first, last))\n",
    "\n",
    "# 2º Item\n",
    "numeros.append(60)\n",
    "print(\"Adicione o número 60:\", numeros)\n",
    "\n",
    "# 3º Item\n",
    "numeros.remove(numeros[numeros.index(30)])\n",
    "print(\"Remova o valor 30:\", numeros)"
   ]
  },
  {
   "cell_type": "markdown",
   "id": "83797265-27ae-4728-8948-42be216f7fcb",
   "metadata": {},
   "source": [
    "15. **Dicionários básicos:** Crie um dicionário com as chaves `nome`, `idade`, `curso`. Depois:\n",
    "    \n",
    "    * Atualize o curso\n",
    "    * Adicione o campo `email`\n",
    "    * Remova o campo `idade`"
   ]
  },
  {
   "cell_type": "code",
   "execution_count": 55,
   "id": "411c5a17-617a-43db-b0c2-5998e4621e16",
   "metadata": {},
   "outputs": [
    {
     "name": "stdout",
     "output_type": "stream",
     "text": [
      "Diconário: {'nome': 'Cauã', 'idade': 21, 'curso': 'Computação'}\n",
      "Atualize o curso: {'nome': 'Cauã', 'idade': 21, 'curso': 'Estatística'}\n",
      "Adicione o campo email: {'nome': 'Cauã', 'idade': 21, 'curso': 'Estatística', 'email': 'breno.silva@icen.ufpa.br'}\n",
      "Remova o campo idade: {'nome': 'Cauã', 'curso': 'Estatística', 'email': 'breno.silva@icen.ufpa.br'}\n"
     ]
    }
   ],
   "source": [
    "# Criando dicionário\n",
    "dict_example = {\"nome\": \"Cauã\", \"idade\": 21, \"curso\": \"Computação\"}\n",
    "print(\"Diconário:\", dict_example)\n",
    "\n",
    "dict_example[\"curso\"] = \"Estatística\"\n",
    "print(\"Atualize o curso:\", dict_example)\n",
    "\n",
    "dict_example[\"email\"] = \"breno.silva@icen.ufpa.br\"\n",
    "print(\"Adicione o campo email:\", dict_example)\n",
    "\n",
    "del dict_example[\"idade\"]\n",
    "print(\"Remova o campo idade:\", dict_example)"
   ]
  },
  {
   "cell_type": "markdown",
   "id": "39d944ba-9d72-4856-88c8-9a115594d324",
   "metadata": {},
   "source": [
    "## Exercícios - Capítulo IV - Controle de Fluxo & Funções no Python"
   ]
  },
  {
   "cell_type": "markdown",
   "id": "d9834108-aa46-4fd2-989d-b5109b46569c",
   "metadata": {},
   "source": [
    "1. **Verificação de Idade Simples:** Crie uma variável `idade`. Se for maior ou igual a `18`, imprima `\"Maior de idade\"`, senão `\"Menor de idade\"`."
   ]
  },
  {
   "cell_type": "code",
   "execution_count": 56,
   "id": "ecc408b9-c0f7-4c0b-a25f-f25c674c16f5",
   "metadata": {},
   "outputs": [
    {
     "name": "stdout",
     "output_type": "stream",
     "text": [
      "Menor de idade\n"
     ]
    },
    {
     "name": "stdin",
     "output_type": "stream",
     "text": [
      "Qual a sua idade?  21\n"
     ]
    },
    {
     "name": "stdout",
     "output_type": "stream",
     "text": [
      "Maior de idade\n"
     ]
    }
   ],
   "source": [
    "# -------------------------------------\n",
    "# [1] O executador define uma variável\n",
    "# ------------------------------------\n",
    "\n",
    "# Definindo uma idade arbutrária\n",
    "idade = 17\n",
    "\n",
    "# Verificando se a idade é maior ou igual a 18\n",
    "if idade >= 18:\n",
    "    # Se verdadeira, faça isso\n",
    "    print(\"Maior de idade\")\n",
    "else:\n",
    "    # Caso contrário\n",
    "    print(\"Menor de idade\")\n",
    "\n",
    "# ----------------------------------------------\n",
    "# [2] [e lida a informação do teclado do usuário\n",
    "# ----------------------------------------------\n",
    "\n",
    "# Lendo informação diretamente do teclado\n",
    "idade = int(input(\"Qual a sua idade? \"))\n",
    "\n",
    "# Verificando se a idade é maior ou igual a 18\n",
    "if idade >= 18:\n",
    "    # Se verdadeira, faça isso\n",
    "    print(\"Maior de idade\")\n",
    "else:\n",
    "    # Caso contrário\n",
    "    print(\"Menor de idade\")"
   ]
  },
  {
   "cell_type": "markdown",
   "id": "7586c304-0144-4420-bd3e-2dd9d801d369",
   "metadata": {},
   "source": [
    "2. **Classificação de desempenho** Dada a nota de um aluno (ex: `nota = 7.5`), imprima:\n",
    "\n",
    "    - `\"Insuficiente\"` se nota $\\in [0 ; 5)$\n",
    "    - `\"Regular\"` se nota $\\in [5 ; 7)$\n",
    "    - `\"Bom\"` se nota $\\in [7 ; 9)$\n",
    "    - `\"Excelente\"` se nota $\\in [9 ; 10]$\n",
    "    - `\"Nota Inválida!\"` caso contrário"
   ]
  },
  {
   "cell_type": "code",
   "execution_count": 58,
   "id": "5134e693-65a9-48b8-8caa-da86214bc1a7",
   "metadata": {},
   "outputs": [
    {
     "name": "stdout",
     "output_type": "stream",
     "text": [
      "Bom\n"
     ]
    },
    {
     "name": "stdin",
     "output_type": "stream",
     "text": [
      "Qual foi a sua nota final?  -1\n"
     ]
    },
    {
     "name": "stdout",
     "output_type": "stream",
     "text": [
      "Nota Inválida!\n"
     ]
    }
   ],
   "source": [
    "# -------------------------------------\n",
    "# [1] O executador define uma variável\n",
    "# ------------------------------------\n",
    "\n",
    "# Definindo uma idade arbutrária\n",
    "note = 7.5\n",
    "\n",
    "# Verificando se a nota está entre [0 ; 5)\n",
    "if 0 <= note < 5:\n",
    "    # Se verdadeira, faça isso\n",
    "    print(\"Insuficiente\")\n",
    "\n",
    "# Verificando se a nota está entre [5 ; 7)\n",
    "elif 5 <= note < 7:\n",
    "    # Se verdadeira, faça isso\n",
    "    print(\"Regular\")\n",
    "\n",
    "# Verificando se a nota está entre [7 ; 9)\n",
    "elif 7 <= note < 9:\n",
    "    # Se verdadeira, faça isso\n",
    "    print(\"Bom\")\n",
    "\n",
    "# Verificando se a nota está entre [9 ; 10]\n",
    "elif 9 <= note <= 10:\n",
    "    # Se verdadeira, faça isso\n",
    "    print(\"Excelente\")\n",
    "\n",
    "else:\n",
    "    # Caso contrário\n",
    "    print(\"Nota Inválida!\")\n",
    "\n",
    "# ----------------------------------------------\n",
    "# [2] Ler a informação do teclado do usuário\n",
    "# ----------------------------------------------\n",
    "\n",
    "# Lendo informação diretamente do teclado\n",
    "note = float(input(\"Qual foi a sua nota final? \"))\n",
    "\n",
    "# Verificando se a nota está entre [0 ; 5)\n",
    "if 0 <= note < 5:\n",
    "    # Se verdadeira, faça isso\n",
    "    print(\"Insuficiente\")\n",
    "\n",
    "# Verificando se a nota está entre [5 ; 7)\n",
    "elif 5 <= note < 7:\n",
    "    # Se verdadeira, faça isso\n",
    "    print(\"Regular\")\n",
    "\n",
    "# Verificando se a nota está entre [7 ; 9)\n",
    "elif 7 <= note < 9:\n",
    "    # Se verdadeira, faça isso\n",
    "    print(\"Bom\")\n",
    "\n",
    "# Verificando se a nota está entre [9 ; 10]\n",
    "elif 9 <= note <= 10:\n",
    "    # Se verdadeira, faça isso\n",
    "    print(\"Excelente\")\n",
    "\n",
    "else:\n",
    "    # Caso contrário\n",
    "    print(\"Nota Inválida!\")"
   ]
  },
  {
   "cell_type": "markdown",
   "id": "267722ce-1eaf-438d-b5f8-8eccc008d9df",
   "metadata": {},
   "source": [
    "3. **Números pares com `for` e `while`:** Use laço `for` e laço `while` para imprimir todos os números pares entre 1 e 20."
   ]
  },
  {
   "cell_type": "code",
   "execution_count": 62,
   "id": "9d63948a-4094-406e-a04c-9043e67ca725",
   "metadata": {},
   "outputs": [
    {
     "name": "stdout",
     "output_type": "stream",
     "text": [
      "Usando o for: 110\n",
      "Usando o while: 110\n"
     ]
    }
   ],
   "source": [
    "# ------------\n",
    "# [1] Loop for\n",
    "# ------------\n",
    "\n",
    "# Definindo variável neutra de soma\n",
    "summ = 0\n",
    "\n",
    "# Execuntando iteração\n",
    "for num in range(1, 21):\n",
    "    # Verificando se o número é par\n",
    "    if num % 2 == 0:\n",
    "        # Se verdadeira, faça isso\n",
    "        summ += num # Incremento\n",
    "\n",
    "# Imprimindo resultado\n",
    "print(f\"Usando o for: {summ}\")\n",
    "\n",
    "# --------------\n",
    "# [1] Loop while\n",
    "# --------------\n",
    "\n",
    "# Definindo variável neutra de soma\n",
    "summ = 0\n",
    "it = 1\n",
    "\n",
    "# Execuntando iteração\n",
    "while it <= 20:\n",
    "    # Verificando se o número é par\n",
    "    if it % 2 == 0:\n",
    "        # Se verdadeira, faça isso\n",
    "        summ += it # Incremento\n",
    "    # Garantindo que o Loop tenha parada\n",
    "    it += 1\n",
    "\n",
    "# Imprimindo resultado\n",
    "print(f\"Usando o while: {summ}\")"
   ]
  },
  {
   "cell_type": "markdown",
   "id": "e51b5963-3707-45fe-88ce-4c92078049d6",
   "metadata": {},
   "source": [
    "4. **Contador com `while`:** Use um `while` para contar de 1 a 5."
   ]
  },
  {
   "cell_type": "code",
   "execution_count": 63,
   "id": "122308b3-44aa-4574-916f-c9f015cc531c",
   "metadata": {},
   "outputs": [
    {
     "name": "stdout",
     "output_type": "stream",
     "text": [
      "1\n",
      "2\n",
      "3\n",
      "4\n",
      "5\n"
     ]
    }
   ],
   "source": [
    "# Variável de iteração\n",
    "count = 1\n",
    "\n",
    "# Iteração\n",
    "while count <= 5:\n",
    "    print(count)\n",
    "    count += 1"
   ]
  },
  {
   "cell_type": "markdown",
   "id": "ea625b87-d0de-4f0a-a382-771fe5070c9e",
   "metadata": {},
   "source": [
    "5. **Tabuada com entrada:** Peça ao usuário um número de 1 a 10 e imprima sua tabuada de multiplicação de 1 a 10."
   ]
  },
  {
   "cell_type": "code",
   "execution_count": 66,
   "id": "189764de-c3c3-40ed-b762-ddf4719c1db0",
   "metadata": {},
   "outputs": [
    {
     "name": "stdin",
     "output_type": "stream",
     "text": [
      "De qual número você deseja imprimir a tabuada?  1.5\n"
     ]
    },
    {
     "name": "stdout",
     "output_type": "stream",
     "text": [
      "1.5 x 1 = 1.5\n",
      "1.5 x 2 = 3.0\n",
      "1.5 x 3 = 4.5\n",
      "1.5 x 4 = 6.0\n",
      "1.5 x 5 = 7.5\n",
      "1.5 x 6 = 9.0\n",
      "1.5 x 7 = 10.5\n",
      "1.5 x 8 = 12.0\n",
      "1.5 x 9 = 13.5\n",
      "1.5 x 10 = 15.0\n",
      "1.5 x 1 = 1.5\n",
      "1.5 x 2 = 3.0\n",
      "1.5 x 3 = 4.5\n",
      "1.5 x 4 = 6.0\n",
      "1.5 x 5 = 7.5\n",
      "1.5 x 6 = 9.0\n",
      "1.5 x 7 = 10.5\n",
      "1.5 x 8 = 12.0\n",
      "1.5 x 9 = 13.5\n",
      "1.5 x 10 = 15.0\n"
     ]
    }
   ],
   "source": [
    "# Entrada do usuário\n",
    "n = float(input(\"De qual número você deseja imprimir a tabuada? \"))\n",
    "\n",
    "# ------------\n",
    "# [1] Loop for\n",
    "# ------------\n",
    "\n",
    "# Execuntando iteração\n",
    "for num in range(1, 11):\n",
    "    # Imprimindo tabuada\n",
    "    print(f\"{n} x {num} = {n * num}\")\n",
    "\n",
    "# --------------\n",
    "# [1] Loop while\n",
    "# --------------\n",
    "\n",
    "# variável de iteração\n",
    "it = 1\n",
    "\n",
    "# Execuntando iteração\n",
    "while it <= 10:\n",
    "    # Imprimindo tabuada\n",
    "    print(f\"{n} x {it} = {n * it}\")\n",
    "    \n",
    "    # Garantindo que o Loop tenha parada\n",
    "    it += 1"
   ]
  },
  {
   "cell_type": "markdown",
   "id": "b42bca7c-45ba-4684-ba84-e302ec81688d",
   "metadata": {},
   "source": [
    "6. **Função Personalizada:** Crie uma função `saudacao(nome)` que receba um nome e imprima: `\"Olá, [nome]! Bem-vindo ao curso de Python!\"`"
   ]
  },
  {
   "cell_type": "code",
   "execution_count": null,
   "id": "a2502aed-b511-4785-8c56-a256395f4247",
   "metadata": {},
   "outputs": [],
   "source": []
  },
  {
   "cell_type": "markdown",
   "id": "ae767063-fae9-4c08-91ea-67bb93afb53b",
   "metadata": {},
   "source": [
    "7. **Função de média com retorno:** Crie uma função `calcular_media(*notes)` que retorne a média de $n$ notas e imprima a situação do aluno com base na média (use o critério do *Exercício 2*)."
   ]
  },
  {
   "cell_type": "code",
   "execution_count": null,
   "id": "93294084-7020-4311-9ac4-111a1f48db5c",
   "metadata": {},
   "outputs": [],
   "source": []
  },
  {
   "cell_type": "markdown",
   "id": "8669dce8-397c-40aa-a2b7-3b0478c55cca",
   "metadata": {},
   "source": [
    "8. **Função com `if` e `return`:** Crie uma função `e_par(numero)` que retorne `True` se o número for par e `False` se for ímpar."
   ]
  },
  {
   "cell_type": "code",
   "execution_count": null,
   "id": "5c5aeab1-5d9c-4b35-afbb-c0cb31420857",
   "metadata": {},
   "outputs": [],
   "source": []
  },
  {
   "cell_type": "markdown",
   "id": "6711d663-8328-43f5-b113-54fc1aadefed",
   "metadata": {},
   "source": [
    "9. **Busca em lista com `for` e `break`:** Dada a lista `alunos = [\"Ana\", \"Carlos\", \"Beatriz\", \"Daniel\"]`, escreva uma função que busque um nome e imprima `\"Encontrado!\"` se existir e pare o laço."
   ]
  },
  {
   "cell_type": "code",
   "execution_count": null,
   "id": "344340df-ef6a-4a3c-ad4e-a1793a750eb0",
   "metadata": {},
   "outputs": [],
   "source": []
  },
  {
   "cell_type": "markdown",
   "id": "de24049a-47e8-4ca7-8c7e-4639932c946e",
   "metadata": {},
   "source": [
    "10. **Validação de senha básica:** Crie uma função `validar_senha(senha)` que retorna `True` se:\n",
    "\n",
    "    * A senha tem pelo menos 8 caracteres\n",
    "    * Contém uma letra maiúscula\n",
    "    * Contém pelo menos um número"
   ]
  },
  {
   "cell_type": "code",
   "execution_count": null,
   "id": "8abd5449-d643-4472-a9b0-c4025d156c4a",
   "metadata": {},
   "outputs": [],
   "source": []
  },
  {
   "cell_type": "markdown",
   "id": "a85019f2-911a-422c-ae5d-0ec304e82c60",
   "metadata": {},
   "source": [
    "11. **Classificador de números:** Escreva uma função `classificar_lista(lista)` que recebe uma lista de inteiros e retorna:\n",
    "\n",
    "    * Uma lista com apenas pares\n",
    "    * Uma lista com apenas ímpares\n",
    "    * A média de todos os valores"
   ]
  },
  {
   "cell_type": "code",
   "execution_count": null,
   "id": "692fcefa-d9f6-4edc-9e07-d0e381d017fc",
   "metadata": {},
   "outputs": [],
   "source": []
  },
  {
   "cell_type": "markdown",
   "id": "afa35792-d2f4-4c1b-809a-f3336304d615",
   "metadata": {},
   "source": [
    "12. **Função de Cálculo de Área (Retângulo):**\n",
    "   - Defina uma função chamada `calcular_area_retangulo` que receba dois parâmetros: `base` e `altura`.\n",
    "   - A função deve **retornar** o valor da área calculada (`base * altura`).\n",
    "   - Chame a função com valores de exemplo (ex: base=10, altura=5) e imprima o resultado retornado."
   ]
  },
  {
   "cell_type": "code",
   "execution_count": null,
   "id": "07a4251b-f6f0-4b4e-a548-4a03feea5b84",
   "metadata": {},
   "outputs": [],
   "source": []
  },
  {
   "cell_type": "markdown",
   "id": "15394dcd-80d7-4a27-a4b5-31e23ce5dd27",
   "metadata": {},
   "source": [
    "13. **Filtrando Números Ímpares (com `for` e `continue`):**\n",
    "\n",
    "    - Crie uma lista de números: `numeros = [1, 2, 3, 4, 5, 6, 7, 8, 9, 10]`.\n",
    "    - Use um loop `for` para percorrer a lista.\n",
    "    - Dentro do loop, use `if` e `continue` para pular a impressão dos números ímpares. Imprima apenas os números pares."
   ]
  },
  {
   "cell_type": "code",
   "execution_count": null,
   "id": "0f77c0b5-acf3-4d6d-a9e1-bde61736b547",
   "metadata": {},
   "outputs": [],
   "source": []
  },
  {
   "cell_type": "markdown",
   "id": "2e3db7bd-039f-4f72-be95-d5283e99ef79",
   "metadata": {},
   "source": [
    "14. **Calculadora com Funções e Tratamento de Erro:**\n",
    "    - Crie funções separadas para as quatro operações básicas: `somar(a, b)`, `subtrair(a, b)`, `multiplicar(a, b)`, `dividir(a, b)`.\n",
    "    - A função `dividir` deve usar `try/except` para tratar o erro de divisão por zero (`ZeroDivisionError`). Se ocorrer o erro, a função deve retornar `None` ou imprimir uma mensagem de erro e retornar `None`.\n",
    "    - Crie uma função principal `calculadora(op, num1, num2)` que receba a operação desejada (como string: \"soma\", \"subtracao\", \"multiplicacao\", \"divisao\") e os dois números.\n",
    "    - Dentro de `calculadora`, use `if/elif/else` para chamar a função correta com base na string `op`.\n",
    "    - Teste a função `calculadora` com diferentes operações, incluindo uma divisão por zero."
   ]
  },
  {
   "cell_type": "code",
   "execution_count": null,
   "id": "38cf9ddc-2103-4de8-82cf-459da1f0e75a",
   "metadata": {},
   "outputs": [],
   "source": []
  },
  {
   "cell_type": "markdown",
   "id": "44c02210-30f9-4695-921c-62ff76eed384",
   "metadata": {},
   "source": [
    "15. **Sequência de Fibonacci com Função Recursiva (ou Iterativa):**\n",
    "    - Defina uma função `fibonacci(n)` que retorne o n-ésimo termo da sequência de Fibonacci (considerando F(0)=0, F(1)=1).\n",
    "    - Implemente a função de forma iterativa (usando loop) ou recursiva (chamando a si mesma).\n",
    "    - Teste a função para calcular, por exemplo, o 10º termo da sequência.\n",
    "    *   *(Desafio extra):* Adicione tratamento para `n` negativo ou não inteiro."
   ]
  },
  {
   "cell_type": "code",
   "execution_count": null,
   "id": "1f10a3b2-016a-4d83-80ae-3904b7719052",
   "metadata": {},
   "outputs": [],
   "source": []
  },
  {
   "cell_type": "markdown",
   "id": "c1ab3a7e-0d15-49f9-a21f-b203e6da8504",
   "metadata": {},
   "source": [
    "16. **Uso de `filter` e `lambda`:**\n",
    "    - Crie uma lista de dicionários representando pessoas: `pessoas = [{'nome': 'Alice', 'idade': 30}, {'nome': 'Bob', 'idade': 17}, {'nome': 'Charlie', 'idade': 25}]`.\n",
    "    - Use a função `filter()` e uma função `lambda` para criar uma nova lista contendo apenas as pessoas que são maiores de idade (idade >= 18).\n",
    "    - Imprima a nova lista filtrada."
   ]
  },
  {
   "cell_type": "code",
   "execution_count": null,
   "id": "35b8d9ed-0928-477d-af85-e1009a3d2df1",
   "metadata": {},
   "outputs": [],
   "source": []
  },
  {
   "cell_type": "markdown",
   "id": "71f6f339-47ca-47b2-96a6-1bb077bf25cd",
   "metadata": {},
   "source": [
    "17. **Use `for` para Manipulação Avançada:** Dada a string: `\"Aprender Python é fundamental para análise de dados\"`.\n",
    "\n",
    "    a) Conte quantas palavras têm mais de 4 letras \\\n",
    "    b) Crie um dicionário onde as chaves são as palavras e os valores são os tamanhos de cada palavra \\\n",
    "    c) Imprima as palavras em ordem alfabética"
   ]
  },
  {
   "cell_type": "code",
   "execution_count": null,
   "id": "a14c3d94-df9c-40b6-9c9d-bca8a15c626c",
   "metadata": {},
   "outputs": [],
   "source": []
  }
 ],
 "metadata": {
  "kernelspec": {
   "display_name": "Python 3 (ipykernel)",
   "language": "python",
   "name": "python3"
  },
  "language_info": {
   "codemirror_mode": {
    "name": "ipython",
    "version": 3
   },
   "file_extension": ".py",
   "mimetype": "text/x-python",
   "name": "python",
   "nbconvert_exporter": "python",
   "pygments_lexer": "ipython3",
   "version": "3.12.7"
  }
 },
 "nbformat": 4,
 "nbformat_minor": 5
}
