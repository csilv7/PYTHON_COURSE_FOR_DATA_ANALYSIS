{
 "cells": [
  {
   "cell_type": "markdown",
   "id": "ec5caaae-e1d4-43ba-bf7d-faf7a6e3e95c",
   "metadata": {},
   "source": [
    "---\n",
    "\n",
    "# Lista de Exercícios - Curso de Python para Análise de Dados\n",
    "\n",
    "## Módulo 1 - Python Básico\n",
    "\n",
    "Essa lista de exercícios contempla apenas o Módulo Básico. Abordando temas como:\n",
    "\n",
    "1. **Capítulo I - Primeiros Passos:**\n",
    "    - Função `print()`.\n",
    "    - Operações Matemáticas.\n",
    "    - Operações Booleanas.\n",
    "    - Variáveis - Armezenando Objetos.\n",
    "    - Tipos de Objetos.\n",
    "    - Métodos e Atributos.\n",
    "    - Obtendo Ajuda e Explorando o Ambiente.\n",
    "2. **Capítulo II - Objetos no Python:**\n",
    "    - Strings (`str`).\n",
    "    - Listas (`list`).\n",
    "    - Dicionários (`dict`).\n",
    "3. **Capítulo III - Controle de Fluxo & Funções no Python:**\n",
    "    - Estrutura de Decisão - `if`/`elif`/`else`.\n",
    "    - Estrutura de Repetição - `for` e `while`.\n",
    "    - Comandos Chave - Tratamento de Excessões e Palavras-Chave.\n",
    "    - Fuções.\n",
    "\n",
    "---"
   ]
  },
  {
   "cell_type": "markdown",
   "id": "11a19b2c-7268-4624-9927-089025f64c3b",
   "metadata": {},
   "source": [
    "---\n",
    "\n",
    "## Exercícios - Capítulo II - Primeiros Passos\n",
    "\n",
    "---"
   ]
  },
  {
   "cell_type": "markdown",
   "id": "4ff79de1-d7a8-466a-873b-db59c59af94c",
   "metadata": {},
   "source": [
    "1. **Função `print()`:** Escreva um programa que imprima na tela a seguinte mensagem: `\"Olá, mundo! Este é o meu primeiro programa em Python.\"`."
   ]
  },
  {
   "cell_type": "code",
   "execution_count": null,
   "id": "3c305b8c-bdb5-4cb8-b28a-8b7127121811",
   "metadata": {},
   "outputs": [],
   "source": []
  },
  {
   "cell_type": "markdown",
   "id": "c9c8a778-935c-45f9-aa88-81eff279db14",
   "metadata": {},
   "source": [
    "2. **Operações Matemáticas:** Calcule e imprima o resultado das seguintes operações: \\\n",
    "    a) $15 + 7,3$ \\\n",
    "    b) $20 - 5,5$ \\\n",
    "    c) $4 \\times 8$ \\\n",
    "    d) $20 \\div 3$ \\\n",
    "    e) $2^{10}$"
   ]
  },
  {
   "cell_type": "code",
   "execution_count": null,
   "id": "e2b3c7a3-6a54-45b1-8bf3-56af162b3dd9",
   "metadata": {},
   "outputs": [],
   "source": []
  },
  {
   "cell_type": "markdown",
   "id": "05a366ab-3b06-45e9-88d3-a0d477c8f988",
   "metadata": {},
   "source": [
    "3. **Módulo `math`:** Calcule através do módulo `math` a raiz quadrada e cúbica dos valores obtidos nas operações anteriores."
   ]
  },
  {
   "cell_type": "code",
   "execution_count": null,
   "id": "a3d93087-e143-482c-9d78-7346d62e8634",
   "metadata": {},
   "outputs": [],
   "source": []
  },
  {
   "cell_type": "markdown",
   "id": "b25eaa19-5445-4d9c-b082-a25cbacc68be",
   "metadata": {},
   "source": [
    "4. **Expressão Matemática:** Resolva a seguinte expressão numérica $$\\dfrac{\\sqrt{2 \\pi} + 1 - 2,75^{-e}}{(\\sqrt{-99})^{0} + 32/45 \\times e^{\\pi}}$$"
   ]
  },
  {
   "cell_type": "code",
   "execution_count": null,
   "id": "5868384d-6366-4b0f-bde6-839bf66fbaa9",
   "metadata": {},
   "outputs": [],
   "source": []
  },
  {
   "cell_type": "markdown",
   "id": "6cdd1cf4-e031-47ec-bddf-a0560d7448c0",
   "metadata": {},
   "source": [
    "6. **Operações Booleanas:** Avalie as seguintes expressões booleanas e imprima seus resultados: \\\n",
    "    a) $10 > 5$ \\\n",
    "    b) $7 = 7,0$ \\\n",
    "    c) $5 \\times 2 \\leq 8 + 2$ \\\n",
    "    d) `not (True and False)` \\\n",
    "    e) $10 \\neq 5$ `or` $3 > 5$"
   ]
  },
  {
   "cell_type": "markdown",
   "id": "e428c6fb-75d1-4a00-9649-f24fa111be93",
   "metadata": {},
   "source": []
  },
  {
   "cell_type": "markdown",
   "id": "8b228a5c-3d71-4424-a909-cacd498ec14f",
   "metadata": {},
   "source": [
    "7. **Variáveis:** Crie variáveis para armazenar:\n",
    "    - Seu nome\n",
    "    - Sua idade\n",
    "    - Sua altura\n",
    "      \n",
    "Depois, imprima essas informações em uma frase como: `\"Meu nome é [nome], tenho [idade] anos e [altura]m de altura.\"`"
   ]
  },
  {
   "cell_type": "code",
   "execution_count": null,
   "id": "d7fbe6ff-5705-4fd7-8566-f2b392831c59",
   "metadata": {},
   "outputs": [],
   "source": []
  },
  {
   "cell_type": "markdown",
   "id": "1db6da4e-0a00-4aef-bbce-adf974d5384b",
   "metadata": {},
   "source": [
    "8. **Tipos de Objetos:** Crie variáveis com diferentes tipos de dados (`int`, `float`, `str`, `bool`). Use a função type() para verificar o tipo de cada uma e imprima os resultados."
   ]
  },
  {
   "cell_type": "code",
   "execution_count": null,
   "id": "dcfed712-4ae8-4a0a-aa28-ec75eafe0699",
   "metadata": {},
   "outputs": [],
   "source": []
  },
  {
   "cell_type": "markdown",
   "id": "e684ddd6-741e-4140-83d8-87458ef3fb76",
   "metadata": {},
   "source": [
    "9. **Obtendo Ajuda:** Apresente um exemplo de uso da função `help()`."
   ]
  },
  {
   "cell_type": "code",
   "execution_count": null,
   "id": "6b820246-64ef-4f6e-9f9e-42f10c23f1a6",
   "metadata": {},
   "outputs": [],
   "source": []
  },
  {
   "cell_type": "markdown",
   "id": "aca4b181-02d7-4128-9ddd-2db91561bf2e",
   "metadata": {},
   "source": [
    "10. **Operações com `input()` e Conversão de tipos:** Peça para o usuário entrar com dois números. Armazene como string e depois converta para `int` e `float`. Por fim, calcule e mostre a soma, subtração, multiplicação e divisão deles e mostre os 3 tipos diferentes (str, int, float) com mensagens explicativas"
   ]
  },
  {
   "cell_type": "code",
   "execution_count": null,
   "id": "24a2bd9c-8619-4e54-9f1d-e661f8aae55c",
   "metadata": {},
   "outputs": [],
   "source": []
  },
  {
   "cell_type": "markdown",
   "id": "75d7cba5-cfc1-455c-9ed5-f359ca3e226d",
   "metadata": {},
   "source": [
    "11. **Operações com números:** Calcule a média aritmética entre três notas fornecidas pelo usuário e exiba o resultado com duas casas decimais."
   ]
  },
  {
   "cell_type": "code",
   "execution_count": null,
   "id": "ad590e79-3432-4b7d-9b95-a977aa85a122",
   "metadata": {},
   "outputs": [],
   "source": []
  },
  {
   "cell_type": "markdown",
   "id": "d5717004-9f5a-42af-aaff-fc76e109cd9c",
   "metadata": {},
   "source": [
    "12. **Tipos de dados e variáveis:** Crie variáveis `nome`, `idade`, `altura` e `estudante` e imprima:\n",
    "```python\n",
    "\"Meu nome é [nome], tenho [idade] anos, [altura] m de altura e sou estudante: [estudante]\"\n",
    "```"
   ]
  },
  {
   "cell_type": "code",
   "execution_count": null,
   "id": "3aa49b5a-2658-4656-a781-370c3e8266d6",
   "metadata": {},
   "outputs": [],
   "source": []
  },
  {
   "cell_type": "markdown",
   "id": "27e4a52f-e048-48b0-b2ea-9670edb796a7",
   "metadata": {},
   "source": [
    "---\n",
    "\n",
    "## Exercícios - Capítulo III- Objetos no Python\n",
    "\n",
    "---"
   ]
  },
  {
   "cell_type": "markdown",
   "id": "9643c0a1-1741-46c6-832f-f146d21390ca",
   "metadata": {},
   "source": [
    "1. **Manipulação de strings:** Dada a string `frase = \"Python é uma linguagem poderosa\"`:\n",
    "    * Mostre a quantidade de caracteres\n",
    "    * Exiba a frase toda em maiúsculas\n",
    "    * Verifique se a palavra `\"poderosa\"` está presente"
   ]
  },
  {
   "cell_type": "code",
   "execution_count": null,
   "id": "f114adf4-36ca-4009-bf70-5a677b1f9596",
   "metadata": {},
   "outputs": [],
   "source": []
  },
  {
   "cell_type": "markdown",
   "id": "0f1ad25c-3390-4d10-b527-0310ff426be1",
   "metadata": {},
   "source": [
    "2. **Métodos de Strings:** Dada a string `frase = \"Python é incrível!\"`. Use métodos de string para: \\\n",
    "    a) Converter para maiúsculas \\\n",
    "    b) Contar quantas letras 'i' existem \\\n",
    "    c) Substituir \"incrível\" por \"fantástico\" \\\n",
    "    d) Verificar se começa com \"Py\""
   ]
  },
  {
   "cell_type": "code",
   "execution_count": null,
   "id": "3a689e75-4a51-4997-9752-05cef23fe323",
   "metadata": {},
   "outputs": [],
   "source": []
  },
  {
   "cell_type": "markdown",
   "id": "ff99ed1b-4d95-447f-a894-f0ab9b142679",
   "metadata": {},
   "source": [
    "3. **Listas Básicas:** Crie uma lista com seus 3 filmes favoritos: \\\n",
    "    a) Imprima o segundo filme da lista \\\n",
    "    b) Adicione um novo filme à lista \\\n",
    "    c) Remova o primeiro filme \\\n",
    "    d) Imprima o tamanho da lista"
   ]
  },
  {
   "cell_type": "markdown",
   "id": "0f83e1ea-008d-4140-aa09-141fd46cdc00",
   "metadata": {},
   "source": [
    "4. **Obtendo Ajuda:** Use a função `help()` para descobrir como usar o método `split()` de strings. Depois, crie um exemplo prático usando esse método."
   ]
  },
  {
   "cell_type": "code",
   "execution_count": null,
   "id": "2e6c4929-190a-45c8-aa25-888f721dd931",
   "metadata": {},
   "outputs": [],
   "source": []
  },
  {
   "cell_type": "markdown",
   "id": "ff7da82a-e451-4cc9-b894-c53c5295c540",
   "metadata": {},
   "source": [
    "5. **Crie uma variável com o texto: `\"Python é poderosa\"`:** \\\n",
    "    a) Converta toda a string para minúsculas \\\n",
    "    b) Divida a string em palavras \\\n",
    "    c) Substitua `\"poderosa\"` por `\"incrível\"` \\\n",
    "    d) Verifique se a string termina com `\"vel\"`"
   ]
  },
  {
   "cell_type": "code",
   "execution_count": null,
   "id": "8f85ba84-1976-4013-94ee-0127d106b63e",
   "metadata": {},
   "outputs": [],
   "source": []
  },
  {
   "cell_type": "markdown",
   "id": "9b977dd0-abc5-4eea-a5a3-122bd3d8d9cf",
   "metadata": {},
   "source": [
    "6. **Formatação de Strings:** Peça ao usuário para digitar seu nome e idade. Crie uma mensagem formatada como: \n",
    "    - `\"Olá [Nome], você tem [Idade] anos!\"`\n",
    "    - Use `f-strings` ou o método `format()`"
   ]
  },
  {
   "cell_type": "code",
   "execution_count": null,
   "id": "6c0170e6-1679-4748-9869-9b96ded6228f",
   "metadata": {},
   "outputs": [],
   "source": []
  },
  {
   "cell_type": "markdown",
   "id": "a038675e-2c07-467b-b189-7d67ceefc306",
   "metadata": {},
   "source": [
    "7. **Operações com Listas:** Crie uma lista com os números: `5, 10, 15, 20, 25` \\\n",
    "    a) Adicione o número 30 no final \\\n",
    "    b) Insira o número 2 no início \\\n",
    "    c) Remova o número 15 \\\n",
    "    d) Inverta a ordem da lista \\\n",
    "    e) Imprima o tamanho da lista"
   ]
  },
  {
   "cell_type": "code",
   "execution_count": null,
   "id": "46043dd4-d11c-4da9-9743-90095ea61c8c",
   "metadata": {},
   "outputs": [],
   "source": []
  },
  {
   "cell_type": "markdown",
   "id": "7d97915a-a9c1-4b6d-9f7f-64c201f22c3f",
   "metadata": {},
   "source": [
    "8. **Slicing de Listas:** Dada a lista: `letras = ['a', 'b', 'c', 'd', 'e', 'f', 'g']` \\\n",
    "    a) Extraia os elementos do índice 2 ao 5 \\\n",
    "    b) Extraia os elementos do início até o índice 3 \\\n",
    "    c) Extraia os elementos do índice 4 até o final \\\n",
    "    d) Crie uma nova lista com os elementos de índice par"
   ]
  },
  {
   "cell_type": "code",
   "execution_count": null,
   "id": "ba0a4022-13d4-42dd-8e83-8ed1eb50bdec",
   "metadata": {},
   "outputs": [],
   "source": []
  },
  {
   "cell_type": "markdown",
   "id": "65e3e0f0-acf4-458a-a0a6-e34e80f0ca67",
   "metadata": {},
   "source": [
    "9. **Criação de Dicionário:** Crie um dicionário representando um livro com:\n",
    "    - título\n",
    "    - autor\n",
    "    - ano de publicação\n",
    "    - número de páginas\n",
    "\n",
    "Depois imprima cada informação usando as chaves"
   ]
  },
  {
   "cell_type": "code",
   "execution_count": null,
   "id": "81e1e467-83d9-4bad-a274-e3b627048813",
   "metadata": {},
   "outputs": [],
   "source": []
  },
  {
   "cell_type": "markdown",
   "id": "68b52442-74c3-41f1-9f19-5c4e7ce47aa2",
   "metadata": {},
   "source": [
    "10. **Manipulação de Dicionários:** Dado o dicionário: pessoa = {'nome': 'Carlos', 'idade': 25, 'cidade': 'São Paulo'}\n",
    "\n",
    "    a) Adicione a chave 'profissão' com valor 'Engenheiro' \\\n",
    "    b) Atualize a idade para 26 \\\n",
    "    c) Remova a chave 'cidade' \\\n",
    "    d) Verifique se a chave 'telefone' existe"
   ]
  },
  {
   "cell_type": "code",
   "execution_count": null,
   "id": "bb4287b1-a1cf-415b-9faa-363010d24e4a",
   "metadata": {},
   "outputs": [],
   "source": []
  },
  {
   "cell_type": "markdown",
   "id": "348cc58c-5ee8-418f-8dda-4617655d72d4",
   "metadata": {},
   "source": [
    "11. **Lista de Dicionários:** Crie uma lista de dicionários contendo 3 livros com: título, autor e ano. Depois:\n",
    "\n",
    "    a) Adicione um novo livro \\\n",
    "    b) Remova o segundo livro \\\n",
    "    c) Imprima apenas os títulos dos livros"
   ]
  },
  {
   "cell_type": "code",
   "execution_count": null,
   "id": "e920425a-07bc-4238-9038-06ab125a424d",
   "metadata": {},
   "outputs": [],
   "source": []
  },
  {
   "cell_type": "markdown",
   "id": "7e74cbf4-22f4-46b7-bcdc-a77c7af43606",
   "metadata": {},
   "source": [
    "12. **Transformação de Strings:** Dada a string: `\"Python;Java;C;JavaScript;Ruby\"`\n",
    "\n",
    "    a) Converta em uma lista separando por ponto-e-vírgula \\\n",
    "    b) Ordene a lista alfabeticamente \\\n",
    "    c) Junte novamente em uma string separada por vírgulas"
   ]
  },
  {
   "cell_type": "code",
   "execution_count": null,
   "id": "8e08395a-c04c-49e5-81b8-3f0d0d75019b",
   "metadata": {},
   "outputs": [],
   "source": []
  },
  {
   "cell_type": "markdown",
   "id": "0c29b0a8-6a05-49a4-8585-eb8baab63d59",
   "metadata": {},
   "source": [
    "13. **Análise de Dados Simples:** Dada a lista de dicionários:\n",
    "\n",
    "```python\n",
    "produtos = [\n",
    "    {'nome': 'Celular', 'preco': 1500},\n",
    "    {'nome': 'Notebook', 'preco': 3500},\n",
    "    {'nome': 'Tablet', 'preco': 1200}\n",
    "]\n",
    "```\n",
    "\n",
    "    a) Calcule o preço médio dos produtos\n",
    "    b) Encontre o produto mais caro\n",
    "    c) Crie uma lista apenas com os nomes dos produtos"
   ]
  },
  {
   "cell_type": "code",
   "execution_count": null,
   "id": "4c4d1153-ebfe-4e77-bbd7-177d34150a69",
   "metadata": {},
   "outputs": [],
   "source": []
  },
  {
   "cell_type": "markdown",
   "id": "5354dd70-4e35-4b0c-a95b-f2e75ffd0386",
   "metadata": {},
   "source": [
    "14. **Manipulação Avançada:** Dada a string: `\"Aprender Python é fundamental para análise de dados\"`.\n",
    "\n",
    "    a) Conte quantas palavras têm mais de 4 letras \\\n",
    "    b) Crie um dicionário onde as chaves são as palavras e os valores são os tamanhos de cada palavra \\\n",
    "    c) Imprima as palavras em ordem alfabética"
   ]
  },
  {
   "cell_type": "code",
   "execution_count": null,
   "id": "951943c5-a229-44e8-aa35-239fe6dc401e",
   "metadata": {},
   "outputs": [],
   "source": []
  },
  {
   "cell_type": "markdown",
   "id": "8a3451df-9dba-4b98-98d5-1830ce3fa308",
   "metadata": {},
   "source": [
    "15. **Listas e indexação** Dada a lista `numeros = [10, 20, 30, 40, 50]`.\n",
    "\n",
    "    * Exiba o primeiro e o último valor\n",
    "    * Adicione o número 60\n",
    "    * Remova o valor 30"
   ]
  },
  {
   "cell_type": "code",
   "execution_count": null,
   "id": "19a2f706-e000-4225-ac0a-c1418e06c50d",
   "metadata": {},
   "outputs": [],
   "source": []
  },
  {
   "cell_type": "markdown",
   "id": "83797265-27ae-4728-8948-42be216f7fcb",
   "metadata": {},
   "source": [
    "16. **Dicionários básicos:** Crie um dicionário com as chaves `nome`, `idade`, `curso`. Depois:\n",
    "    \n",
    "    * Atualize o curso\n",
    "    * Adicione o campo `email`\n",
    "    * Remova o campo `idade`"
   ]
  },
  {
   "cell_type": "code",
   "execution_count": null,
   "id": "411c5a17-617a-43db-b0c2-5998e4621e16",
   "metadata": {},
   "outputs": [],
   "source": []
  },
  {
   "cell_type": "markdown",
   "id": "39d944ba-9d72-4856-88c8-9a115594d324",
   "metadata": {},
   "source": [
    "## Exercícios - Capítulo IV - Controle de Fluxo & Funções no Python"
   ]
  },
  {
   "cell_type": "markdown",
   "id": "d9834108-aa46-4fd2-989d-b5109b46569c",
   "metadata": {},
   "source": [
    "1. **Verificação de Idade Simples:** Crie uma variável `idade`. Se for maior ou igual a `18`, imprima `\"Maior de idade\"`, senão `\"Menor de idade\"`."
   ]
  },
  {
   "cell_type": "code",
   "execution_count": null,
   "id": "ecc408b9-c0f7-4c0b-a25f-f25c674c16f5",
   "metadata": {},
   "outputs": [],
   "source": []
  },
  {
   "cell_type": "markdown",
   "id": "7586c304-0144-4420-bd3e-2dd9d801d369",
   "metadata": {},
   "source": [
    "2. **Classificação de desempenho** Dada a nota de um aluno (ex: `nota = 7.5`), imprima:\n",
    "\n",
    "    - `\"Insuficiente\"` se nota $\\in [0 ; 5)$\n",
    "    - `\"Regular\"` se nota $\\in [5 ; 7)$\n",
    "    - `\"Bom\"` se nota $\\in [7 ; 9)$\n",
    "    - `\"Excelente\"` se nota $\\in [9 ; 10]$\n",
    "    - `\"Nota Inválida!\"` caso contrário"
   ]
  },
  {
   "cell_type": "code",
   "execution_count": null,
   "id": "da865e62-69be-4516-8848-bb3489e875d1",
   "metadata": {},
   "outputs": [],
   "source": []
  },
  {
   "cell_type": "markdown",
   "id": "267722ce-1eaf-438d-b5f8-8eccc008d9df",
   "metadata": {},
   "source": [
    "3. **Números pares com `for` e `while`:** Use laço `for` e laço `while` para imprimir todos os números pares entre 1 e 20."
   ]
  },
  {
   "cell_type": "code",
   "execution_count": null,
   "id": "9d63948a-4094-406e-a04c-9043e67ca725",
   "metadata": {},
   "outputs": [],
   "source": []
  },
  {
   "cell_type": "markdown",
   "id": "e51b5963-3707-45fe-88ce-4c92078049d6",
   "metadata": {},
   "source": [
    "4. **Contador com `while`:** Use um `while` para contar de 1 a 5."
   ]
  },
  {
   "cell_type": "code",
   "execution_count": null,
   "id": "122308b3-44aa-4574-916f-c9f015cc531c",
   "metadata": {},
   "outputs": [],
   "source": []
  },
  {
   "cell_type": "markdown",
   "id": "ea625b87-d0de-4f0a-a382-771fe5070c9e",
   "metadata": {},
   "source": [
    "5. **Tabuada com entrada:** Peça ao usuário um número de 1 a 10 e imprima sua tabuada de multiplicação de 1 a 10."
   ]
  },
  {
   "cell_type": "code",
   "execution_count": null,
   "id": "189764de-c3c3-40ed-b762-ddf4719c1db0",
   "metadata": {},
   "outputs": [],
   "source": []
  },
  {
   "cell_type": "markdown",
   "id": "b42bca7c-45ba-4684-ba84-e302ec81688d",
   "metadata": {},
   "source": [
    "6. **Função Personalizada:** Crie uma função `saudacao(nome)` que receba um nome e imprima: `\"Olá, [nome]! Bem-vindo ao curso de Python!\"`"
   ]
  },
  {
   "cell_type": "code",
   "execution_count": null,
   "id": "a2502aed-b511-4785-8c56-a256395f4247",
   "metadata": {},
   "outputs": [],
   "source": []
  },
  {
   "cell_type": "markdown",
   "id": "ae767063-fae9-4c08-91ea-67bb93afb53b",
   "metadata": {},
   "source": [
    "7. **Função de média com retorno:** Crie uma função `calcular_media(*notes)` que retorne a média de $n$ notas e imprima a situação do aluno com base na média (use o critério do *Exercício 2*)."
   ]
  },
  {
   "cell_type": "code",
   "execution_count": null,
   "id": "93294084-7020-4311-9ac4-111a1f48db5c",
   "metadata": {},
   "outputs": [],
   "source": []
  },
  {
   "cell_type": "markdown",
   "id": "8669dce8-397c-40aa-a2b7-3b0478c55cca",
   "metadata": {},
   "source": [
    "8. **Função com `if` e `return`:** Crie uma função `e_par(numero)` que retorne `True` se o número for par e `False` se for ímpar."
   ]
  },
  {
   "cell_type": "code",
   "execution_count": null,
   "id": "5c5aeab1-5d9c-4b35-afbb-c0cb31420857",
   "metadata": {},
   "outputs": [],
   "source": []
  },
  {
   "cell_type": "markdown",
   "id": "6711d663-8328-43f5-b113-54fc1aadefed",
   "metadata": {},
   "source": [
    "9. **Busca em lista com `for` e `break`:** Dada a lista `alunos = [\"Ana\", \"Carlos\", \"Beatriz\", \"Daniel\"]`, escreva uma função que busque um nome e imprima `\"Encontrado!\"` se existir e pare o laço."
   ]
  },
  {
   "cell_type": "code",
   "execution_count": null,
   "id": "344340df-ef6a-4a3c-ad4e-a1793a750eb0",
   "metadata": {},
   "outputs": [],
   "source": []
  },
  {
   "cell_type": "markdown",
   "id": "de24049a-47e8-4ca7-8c7e-4639932c946e",
   "metadata": {},
   "source": [
    "10. **Validação de senha básica:** Crie uma função `validar_senha(senha)` que retorna `True` se:\n",
    "\n",
    "    * A senha tem pelo menos 8 caracteres\n",
    "    * Contém uma letra maiúscula\n",
    "    * Contém pelo menos um número"
   ]
  },
  {
   "cell_type": "code",
   "execution_count": null,
   "id": "8abd5449-d643-4472-a9b0-c4025d156c4a",
   "metadata": {},
   "outputs": [],
   "source": []
  },
  {
   "cell_type": "markdown",
   "id": "a85019f2-911a-422c-ae5d-0ec304e82c60",
   "metadata": {},
   "source": [
    "11. **Classificador de números:** Escreva uma função `classificar_lista(lista)` que recebe uma lista de inteiros e retorna:\n",
    "\n",
    "    * Uma lista com apenas pares\n",
    "    * Uma lista com apenas ímpares\n",
    "    * A média de todos os valores"
   ]
  },
  {
   "cell_type": "code",
   "execution_count": null,
   "id": "692fcefa-d9f6-4edc-9e07-d0e381d017fc",
   "metadata": {},
   "outputs": [],
   "source": []
  },
  {
   "cell_type": "markdown",
   "id": "afa35792-d2f4-4c1b-809a-f3336304d615",
   "metadata": {},
   "source": [
    "12. **Função de Cálculo de Área (Retângulo):**\n",
    "   - Defina uma função chamada `calcular_area_retangulo` que receba dois parâmetros: `base` e `altura`.\n",
    "   - A função deve **retornar** o valor da área calculada (`base * altura`).\n",
    "   - Chame a função com valores de exemplo (ex: base=10, altura=5) e imprima o resultado retornado."
   ]
  },
  {
   "cell_type": "code",
   "execution_count": null,
   "id": "07a4251b-f6f0-4b4e-a548-4a03feea5b84",
   "metadata": {},
   "outputs": [],
   "source": []
  },
  {
   "cell_type": "markdown",
   "id": "15394dcd-80d7-4a27-a4b5-31e23ce5dd27",
   "metadata": {},
   "source": [
    "13. **Filtrando Números Ímpares (com `for` e `continue`):**\n",
    "\n",
    "    - Crie uma lista de números: `numeros = [1, 2, 3, 4, 5, 6, 7, 8, 9, 10]`.\n",
    "    - Use um loop `for` para percorrer a lista.\n",
    "    - Dentro do loop, use `if` e `continue` para pular a impressão dos números ímpares. Imprima apenas os números pares."
   ]
  },
  {
   "cell_type": "code",
   "execution_count": null,
   "id": "0f77c0b5-acf3-4d6d-a9e1-bde61736b547",
   "metadata": {},
   "outputs": [],
   "source": []
  },
  {
   "cell_type": "markdown",
   "id": "2e3db7bd-039f-4f72-be95-d5283e99ef79",
   "metadata": {},
   "source": [
    "14. **Calculadora com Funções e Tratamento de Erro:**\n",
    "    - Crie funções separadas para as quatro operações básicas: `somar(a, b)`, `subtrair(a, b)`, `multiplicar(a, b)`, `dividir(a, b)`.\n",
    "    - A função `dividir` deve usar `try/except` para tratar o erro de divisão por zero (`ZeroDivisionError`). Se ocorrer o erro, a função deve retornar `None` ou imprimir uma mensagem de erro e retornar `None`.\n",
    "    - Crie uma função principal `calculadora(op, num1, num2)` que receba a operação desejada (como string: \"soma\", \"subtracao\", \"multiplicacao\", \"divisao\") e os dois números.\n",
    "    - Dentro de `calculadora`, use `if/elif/else` para chamar a função correta com base na string `op`.\n",
    "    - Teste a função `calculadora` com diferentes operações, incluindo uma divisão por zero."
   ]
  },
  {
   "cell_type": "code",
   "execution_count": null,
   "id": "38cf9ddc-2103-4de8-82cf-459da1f0e75a",
   "metadata": {},
   "outputs": [],
   "source": []
  },
  {
   "cell_type": "markdown",
   "id": "44c02210-30f9-4695-921c-62ff76eed384",
   "metadata": {},
   "source": [
    "15. **Sequência de Fibonacci com Função Recursiva (ou Iterativa):**\n",
    "    - Defina uma função `fibonacci(n)` que retorne o n-ésimo termo da sequência de Fibonacci (considerando F(0)=0, F(1)=1).\n",
    "    - Implemente a função de forma iterativa (usando loop) ou recursiva (chamando a si mesma).\n",
    "    - Teste a função para calcular, por exemplo, o 10º termo da sequência.\n",
    "    *   *(Desafio extra):* Adicione tratamento para `n` negativo ou não inteiro."
   ]
  },
  {
   "cell_type": "code",
   "execution_count": null,
   "id": "1f10a3b2-016a-4d83-80ae-3904b7719052",
   "metadata": {},
   "outputs": [],
   "source": []
  },
  {
   "cell_type": "markdown",
   "id": "c1ab3a7e-0d15-49f9-a21f-b203e6da8504",
   "metadata": {},
   "source": [
    "16. **Uso de `filter` e `lambda`:**\n",
    "    - Crie uma lista de dicionários representando pessoas: `pessoas = [{'nome': 'Alice', 'idade': 30}, {'nome': 'Bob', 'idade': 17}, {'nome': 'Charlie', 'idade': 25}]`.\n",
    "    - Use a função `filter()` e uma função `lambda` para criar uma nova lista contendo apenas as pessoas que são maiores de idade (idade >= 18).\n",
    "    - Imprima a nova lista filtrada."
   ]
  },
  {
   "cell_type": "code",
   "execution_count": null,
   "id": "35b8d9ed-0928-477d-af85-e1009a3d2df1",
   "metadata": {},
   "outputs": [],
   "source": []
  },
  {
   "cell_type": "markdown",
   "id": "d380a10f-79b6-4522-ac28-3ed808557976",
   "metadata": {},
   "source": [
    "17. **Uso de `map` e `lambda`:**\n",
    "    - Crie uma lista de números: `numeros = [1, 2, 3, 4, 5]`.\n",
    "    - Use a função `map()` e uma função `lambda` para criar uma nova lista contendo o quadrado de cada número da lista original.\n",
    "    - Imprima a nova lista resultante."
   ]
  },
  {
   "cell_type": "code",
   "execution_count": null,
   "id": "bf9f0146-e572-4ab7-a970-d41a783e9eeb",
   "metadata": {},
   "outputs": [],
   "source": []
  }
 ],
 "metadata": {
  "kernelspec": {
   "display_name": "Python 3 (ipykernel)",
   "language": "python",
   "name": "python3"
  },
  "language_info": {
   "codemirror_mode": {
    "name": "ipython",
    "version": 3
   },
   "file_extension": ".py",
   "mimetype": "text/x-python",
   "name": "python",
   "nbconvert_exporter": "python",
   "pygments_lexer": "ipython3",
   "version": "3.12.7"
  }
 },
 "nbformat": 4,
 "nbformat_minor": 5
}
